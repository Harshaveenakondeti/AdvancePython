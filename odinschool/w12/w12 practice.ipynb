{
 "cells": [
  {
   "cell_type": "markdown",
   "id": "f96a3eab",
   "metadata": {},
   "source": [
    "classes are code template to define objects.\n",
    "Every known variation of the object is an instance of its class. so, it is a member of a cclass given which has been specified with values rather than variables.\n",
    "In Python,__init__() method is used & called the constructor & is always called when we create an object.\n",
    "Constructors are used to instant an object."
   ]
  },
  {
   "cell_type": "code",
   "execution_count": 1,
   "id": "001efe46",
   "metadata": {},
   "outputs": [],
   "source": [
    "class person:\n",
    "    def __init__(self,name,age):\n",
    "        self.name=name\n",
    "        self.age=age\n",
    "        \n",
    "    def myfunc(self):\n",
    "        print('Hello my name is'+self.name)\n",
    "        "
   ]
  },
  {
   "cell_type": "code",
   "execution_count": 2,
   "id": "c4d7dd20",
   "metadata": {},
   "outputs": [
    {
     "name": "stdout",
     "output_type": "stream",
     "text": [
      "Hello my name isjohn\n"
     ]
    }
   ],
   "source": [
    "pl=person('john',34)\n",
    "pl.myfunc()"
   ]
  },
  {
   "cell_type": "markdown",
   "id": "b2ccdd4e",
   "metadata": {},
   "source": [
    "Self is used as a reference to the present instance of the class, which can access variables that belong to the class.\n",
    "Inheritance is used o define a class which is a child class that inherits all the methods & properties from another a class which is the parent class.\n",
    "It helps us to create class that is built upon another class also because of inheritance you don't have o write the code repeatedly.\n",
    "As its english defiition states Polymorphism is the ability to take different states, so is its explanation here in python programming.It is OOP concept. The python interpreter automatically recognizes that the fact() method for object a (square class) is overridden because of polymorphism."
   ]
  },
  {
   "cell_type": "markdown",
   "id": "a2266b52",
   "metadata": {},
   "source": [
    "# Dummy variables\n",
    "Species-0,1,2\n",
    "Binary-male,female-0,1-one hot coding\n",
    "dummy-0,1,0,1,1,0\n",
    "one hot coding:\n",
    "number of columns=number of categories.\n",
    "we use , in different scenaria, we use different types.\n",
    "species 1,2,3 py treat as int, but technically all are equal.it is nominal data. it will create issue. to avoid it one hot encoding.If 3 columns are present, we can useb 2 columns of one hot encoding.check accuracy. generally we remove last category.It will also increase computation. for machine learning we have to use one hot encoding."
   ]
  },
  {
   "cell_type": "markdown",
   "id": "c0966b3a",
   "metadata": {},
   "source": [
    "# Feature Scaling:\n",
    "It is part of data preprocessing. it wil do before runnig model. we dont do feature scaling for all models.\n",
    "\n",
    "|salary|age|y|\n",
    "---|--|--\n",
    "3|21|\n",
    "23|33\n",
    "43335|38|\n",
    "\n",
    "Here salary is having more influence on prediction.\n",
    "\n",
    "Normalization:(min Max scaler)\n",
    "Xmin= (Y=min(x))?max(x)-min(x)\n",
    "it is going to be 0 to1\n",
    "good for disributesbdata\n",
    "heavily affected by outliers\n",
    "\n",
    "Standardization:\n",
    "Z= X=mean/std of sample\n",
    "no specific range\n",
    "-3 to 3  (99.7% data falls between)\n",
    "normally distributed\n",
    "If outliers also, its good\n",
    "it is just to scale daata. here salary, age both are on same scale.both have influence on prediction."
   ]
  },
  {
   "cell_type": "markdown",
   "id": "ba86e995",
   "metadata": {},
   "source": [
    "# web scraping:\n",
    "web is internet, scraping is get the information.\n",
    "web scraping is known for getting the information from he inernet.\n",
    "copying pastying lyrics is that the web scraping?\n",
    "Yes, it is.\n",
    "so web scraping , usually refer to getting the data from the web.\n",
    "If u need the daat from Just dial, where the catogory will be restaurent & area will be Andheri.\n",
    "For getting this proper information is told as web scraping.\n",
    "Give the company name, which is having more number of python development jobs?\n",
    "Give the company name, who is having opening for Atleast 5 yrs & more than that?\n",
    "Are you getting the information from web though it is website only.\n",
    "but you are getting information from web, getting his type of information from web is treated as web scraoing.\n",
    "what is need of web scraping?\n",
    "suppose we are owner of one website.we want more user comes to our website. in hat case, u shoould know, how many service providers are registred & what is their review. in that case web scraping is important.\n",
    "If u do manualy, is it efficient?no.,lot of time to get data.there python given u power o use beautiful Soup easily u can scrap the data.\n",
    "a. at any cost we have to get the data in python from website(html). it can done by requests library.\n",
    "b. u can use beautiful soup for getting the information from the html text.\n",
    "For beautiful soup we need some basic knowledge in html.\n"
   ]
  },
  {
   "cell_type": "markdown",
   "id": "33463931",
   "metadata": {},
   "source": [
    "# Python Request library\n",
    "How to get html code from website in python?\n",
    "For doing web scraping automated using beautifu soup-to get html code. \n",
    "first of all we should heve URL\n",
    "we have to install request library\n",
    "pip install requests\n",
    "URL=''\n",
    "page=requests.get(URL)"
   ]
  },
  {
   "cell_type": "code",
   "execution_count": 4,
   "id": "59f5c01b",
   "metadata": {},
   "outputs": [
    {
     "ename": "SyntaxError",
     "evalue": "invalid syntax (Temp/ipykernel_1804/1467998472.py, line 1)",
     "output_type": "error",
     "traceback": [
      "\u001b[1;36m  File \u001b[1;32m\"C:\\Users\\Hp\\AppData\\Local\\Temp/ipykernel_1804/1467998472.py\"\u001b[1;36m, line \u001b[1;32m1\u001b[0m\n\u001b[1;33m    pip install requests\u001b[0m\n\u001b[1;37m        ^\u001b[0m\n\u001b[1;31mSyntaxError\u001b[0m\u001b[1;31m:\u001b[0m invalid syntax\n"
     ]
    }
   ],
   "source": [
    "pip install requests\n",
    "import requests\n",
    "URL='www.gooogle.com'\n",
    "page=requests.get(URL)\n",
    "print(page)\n",
    "detail=page.text  # get hmtl data\n",
    "print(detail)"
   ]
  },
  {
   "cell_type": "markdown",
   "id": "440485b7",
   "metadata": {},
   "source": [
    "# Beautiful soup"
   ]
  }
 ],
 "metadata": {
  "kernelspec": {
   "display_name": "Python 3 (ipykernel)",
   "language": "python",
   "name": "python3"
  },
  "language_info": {
   "codemirror_mode": {
    "name": "ipython",
    "version": 3
   },
   "file_extension": ".py",
   "mimetype": "text/x-python",
   "name": "python",
   "nbconvert_exporter": "python",
   "pygments_lexer": "ipython3",
   "version": "3.9.7"
  }
 },
 "nbformat": 4,
 "nbformat_minor": 5
}
