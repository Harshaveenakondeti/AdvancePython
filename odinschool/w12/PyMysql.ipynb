{
 "cells": [
  {
   "cell_type": "markdown",
   "id": "af695024",
   "metadata": {},
   "source": [
    "# Pymysql\n",
    "SQL=Structure Query Language\n",
    "create table\n",
    "insert data to the table.\n",
    "update the data.\n",
    "delete the table data on one conditon.\n",
    "if i have to connect mysql to python. both are different languages.\n",
    "in python we have a library which will help us to connect with mysql, is pymysql.before we making connection, we have to understand that library shoul be presesnt"
   ]
  },
  {
   "cell_type": "markdown",
   "id": "1592c59b",
   "metadata": {},
   "source": [
    "Before conecting, we need to know, how to configure?\n",
    "1. what is the we should know.\n",
    "2. what is ip address of the database-in which server\n",
    "3. what is port\n",
    "which database u waned to use\n",
    "what is the password for connectiity with the database.\n",
    "how to install pymysql into he anywhere in any compiler?\n"
   ]
  },
  {
   "cell_type": "code",
   "execution_count": 1,
   "id": "dd6d5a81",
   "metadata": {},
   "outputs": [
    {
     "name": "stdout",
     "output_type": "stream",
     "text": [
      "Requirement already satisfied: pymysql in c:\\users\\hp\\anaconda3\\lib\\site-packages (1.0.2)\n",
      "Note: you may need to restart the kernel to use updated packages.\n"
     ]
    }
   ],
   "source": [
    "pip install pymysql  "
   ]
  },
  {
   "cell_type": "code",
   "execution_count": 2,
   "id": "db52d17a",
   "metadata": {},
   "outputs": [],
   "source": [
    "import pymysql\n",
    "# this pymysql take some funcion\n",
    "# this function connect  will take some property\n",
    "conn=pymysql.connect(\n",
    "host='localhost',#127.0.0.1 port 3306\n",
    "user='root',\n",
    "password='Ramesh@123',#Herish@123\n",
    "db='pyconnect')\n",
    "# it is used to make configure  for connection properly\n",
    "#1st part connect method"
   ]
  },
  {
   "cell_type": "code",
   "execution_count": 3,
   "id": "4703c75f",
   "metadata": {},
   "outputs": [],
   "source": [
    "#cursor method,2d part\n",
    "# if ur database property is correct, then it will start pointing to the database\n",
    "#using that cursor only, whch u have make the connection, u can execute the query\n",
    "cur = conn.cursor() # cur is variable to store\n",
    "#select@@verson-version of mysql"
   ]
  },
  {
   "cell_type": "code",
   "execution_count": 4,
   "id": "c6b33308",
   "metadata": {},
   "outputs": [],
   "source": [
    "#3. we have to execute the query through python.\n",
    "# and ouput also we have to see\n",
    "# execute method\n",
    "# for python, it is treated as simple string\n",
    "# in sql ,query\n",
    "strl=\"select @@version;\"  #8.0.29\n",
    "#str1= \"select * from student\"\n",
    "data1 =cur.execute(strl)"
   ]
  },
  {
   "cell_type": "code",
   "execution_count": 5,
   "id": "1a6d4f66",
   "metadata": {},
   "outputs": [],
   "source": [
    "#4. fetching the output from cursor method\n",
    "# we need to use method called as \"fetchall\"\n",
    "# fetchall method\n",
    "output = cur.fetchall()"
   ]
  },
  {
   "cell_type": "code",
   "execution_count": 6,
   "id": "79fce9d3",
   "metadata": {},
   "outputs": [
    {
     "data": {
      "text/plain": [
       "(('8.0.29',),)"
      ]
     },
     "execution_count": 6,
     "metadata": {},
     "output_type": "execute_result"
    }
   ],
   "source": [
    "output"
   ]
  },
  {
   "cell_type": "code",
   "execution_count": null,
   "id": "f38a7fba",
   "metadata": {},
   "outputs": [],
   "source": [
    "# from python, we want to change db\n",
    "#create table\n",
    "create_table_query='create table test12(id varchar(20),name varchar(20))'\n",
    "#make change to db, on that time we r commiting something\n",
    "# we have to execute\n",
    "cur.execute(create_table_query)\n",
    "# new function commit have connection\n",
    "conn.commit()\n",
    "# when we commit db, we have to close db\n",
    "conn.close()"
   ]
  },
  {
   "cell_type": "code",
   "execution_count": null,
   "id": "816a497b",
   "metadata": {},
   "outputs": [],
   "source": [
    "#Dynamic query\n",
    "dynamc_query  = 'create table'\n",
    "get_table_name = input('enter the table name')  #test12\n",
    "dynamic_query = dynamic_query + get_table_name \"(\"\n",
    "print(dynamic_query)  #test12( will come\n",
    "# total numer of column\n",
    "get_column_count = int(input(\"enter te total numberbof columns u wanted to creat in table\"))\n",
    "for i in range(get_table_count):\n",
    "    #print(i)\n",
    "    get_column_name=input(\"enter the column name\") #id\n",
    "    get_column_type = input(\"enter the column type\")# varchar(20)\n",
    "    print(get_column_name)\n",
    "    print(get_column_type)"
   ]
  },
  {
   "cell_type": "code",
   "execution_count": null,
   "id": "2c2a1ebd",
   "metadata": {},
   "outputs": [],
   "source": []
  },
  {
   "cell_type": "code",
   "execution_count": null,
   "id": "99572ca4",
   "metadata": {},
   "outputs": [],
   "source": []
  },
  {
   "cell_type": "code",
   "execution_count": null,
   "id": "d582cebc",
   "metadata": {},
   "outputs": [],
   "source": []
  },
  {
   "cell_type": "code",
   "execution_count": null,
   "id": "65d7d2d7",
   "metadata": {},
   "outputs": [],
   "source": []
  },
  {
   "cell_type": "code",
   "execution_count": null,
   "id": "a3b1c484",
   "metadata": {},
   "outputs": [],
   "source": []
  }
 ],
 "metadata": {
  "kernelspec": {
   "display_name": "Python 3 (ipykernel)",
   "language": "python",
   "name": "python3"
  },
  "language_info": {
   "codemirror_mode": {
    "name": "ipython",
    "version": 3
   },
   "file_extension": ".py",
   "mimetype": "text/x-python",
   "name": "python",
   "nbconvert_exporter": "python",
   "pygments_lexer": "ipython3",
   "version": "3.9.7"
  }
 },
 "nbformat": 4,
 "nbformat_minor": 5
}
