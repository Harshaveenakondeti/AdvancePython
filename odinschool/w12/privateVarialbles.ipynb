{
 "cells": [
  {
   "cell_type": "markdown",
   "id": "89d72ee9",
   "metadata": {},
   "source": [
    "we cannot acess the vales outside of our class definition.It is not good practice, accidentally we may change values. we should not change values out side of class def is called Encapsulation. It is to protect our data. we are hiding data.Private variables is we cannot view outside of class. this is hack in python. we can make private by adding__.Encapsulatio is wrapping data."
   ]
  },
  {
   "cell_type": "code",
   "execution_count": 9,
   "id": "fb8c574e",
   "metadata": {},
   "outputs": [],
   "source": [
    "class dog:\n",
    "    def __init__(self,name,breed):\n",
    "        self.__name=name            # __ to make private\n",
    "        self.__breed=breed\n",
    "    def print_details(self):\n",
    "        print('my name is',self.__name,'am',self.__breed)"
   ]
  },
  {
   "cell_type": "code",
   "execution_count": null,
   "id": "10851b90",
   "metadata": {},
   "outputs": [],
   "source": []
  },
  {
   "cell_type": "code",
   "execution_count": 10,
   "id": "cfccd5ea",
   "metadata": {},
   "outputs": [],
   "source": [
    "d1=dog('moja','golden')"
   ]
  },
  {
   "cell_type": "code",
   "execution_count": 11,
   "id": "7b3825de",
   "metadata": {},
   "outputs": [
    {
     "name": "stdout",
     "output_type": "stream",
     "text": [
      "my name is moja am golden\n"
     ]
    }
   ],
   "source": [
    "d1.print_details()"
   ]
  },
  {
   "cell_type": "code",
   "execution_count": 12,
   "id": "0f2b3c73",
   "metadata": {},
   "outputs": [],
   "source": [
    "d1._dog__breed='oja'  # change private variabe"
   ]
  },
  {
   "cell_type": "code",
   "execution_count": 13,
   "id": "c47638c3",
   "metadata": {},
   "outputs": [
    {
     "name": "stdout",
     "output_type": "stream",
     "text": [
      "my name is moja am oja\n"
     ]
    }
   ],
   "source": [
    "d1.print_details()"
   ]
  },
  {
   "cell_type": "code",
   "execution_count": 14,
   "id": "5f61772f",
   "metadata": {},
   "outputs": [
    {
     "data": {
      "text/plain": [
       "{'_dog__name': 'moja', '_dog__breed': 'oja'}"
      ]
     },
     "execution_count": 14,
     "metadata": {},
     "output_type": "execute_result"
    }
   ],
   "source": [
    "d1.__dict__"
   ]
  },
  {
   "cell_type": "code",
   "execution_count": 15,
   "id": "b6d59ff6",
   "metadata": {},
   "outputs": [
    {
     "ename": "AttributeError",
     "evalue": "'dog' object has no attribute '__breed'",
     "output_type": "error",
     "traceback": [
      "\u001b[1;31m---------------------------------------------------------------------------\u001b[0m",
      "\u001b[1;31mAttributeError\u001b[0m                            Traceback (most recent call last)",
      "\u001b[1;32m~\\AppData\\Local\\Temp/ipykernel_6696/1236400878.py\u001b[0m in \u001b[0;36m<module>\u001b[1;34m\u001b[0m\n\u001b[1;32m----> 1\u001b[1;33m \u001b[0md1\u001b[0m\u001b[1;33m.\u001b[0m\u001b[0m__breed\u001b[0m\u001b[1;33m\u001b[0m\u001b[1;33m\u001b[0m\u001b[0m\n\u001b[0m",
      "\u001b[1;31mAttributeError\u001b[0m: 'dog' object has no attribute '__breed'"
     ]
    }
   ],
   "source": [
    "d1.__breed # we cannot acces, bcz of private"
   ]
  },
  {
   "cell_type": "code",
   "execution_count": 16,
   "id": "cbbe65c2",
   "metadata": {},
   "outputs": [],
   "source": [
    "d1.__breed='hasg'"
   ]
  },
  {
   "cell_type": "code",
   "execution_count": 17,
   "id": "8424970c",
   "metadata": {},
   "outputs": [
    {
     "data": {
      "text/plain": [
       "{'_dog__name': 'moja', '_dog__breed': 'oja', '__breed': 'hasg'}"
      ]
     },
     "execution_count": 17,
     "metadata": {},
     "output_type": "execute_result"
    }
   ],
   "source": [
    "d1.__dict__  # give onother set of variables, but not effect private variable"
   ]
  },
  {
   "cell_type": "code",
   "execution_count": 18,
   "id": "fd810a5f",
   "metadata": {},
   "outputs": [],
   "source": [
    "d2=dog('nemo','husky')"
   ]
  },
  {
   "cell_type": "code",
   "execution_count": 20,
   "id": "bb2dbb2e",
   "metadata": {},
   "outputs": [
    {
     "data": {
      "text/plain": [
       "{'_dog__name': 'nemo', '_dog__breed': 'husky'}"
      ]
     },
     "execution_count": 20,
     "metadata": {},
     "output_type": "execute_result"
    }
   ],
   "source": [
    "d2.__dict__"
   ]
  },
  {
   "cell_type": "code",
   "execution_count": 26,
   "id": "f403ebc2",
   "metadata": {},
   "outputs": [],
   "source": [
    "class dog:\n",
    "    def __init__(self,name,breed):\n",
    "        self.__name=name            # __ to make private\n",
    "        self.__breed=breed\n",
    "    def print_details(self):\n",
    "        print('my name is',self.__name,'am',self.__breed)\n",
    "    def change_name(self,name):   # as we cannot change outside of class, we can create inside\n",
    "        self.__name=name            # so we use this func,method is change_name "
   ]
  },
  {
   "cell_type": "code",
   "execution_count": 33,
   "id": "af1b7de4",
   "metadata": {},
   "outputs": [],
   "source": [
    "d1=dog('nemo','husky')  # instance"
   ]
  },
  {
   "cell_type": "code",
   "execution_count": 34,
   "id": "3995490f",
   "metadata": {},
   "outputs": [
    {
     "name": "stdout",
     "output_type": "stream",
     "text": [
      "my name is nemo am husky\n"
     ]
    }
   ],
   "source": [
    "d1.print_details()"
   ]
  },
  {
   "cell_type": "code",
   "execution_count": 35,
   "id": "3262e44f",
   "metadata": {},
   "outputs": [
    {
     "data": {
      "text/plain": [
       "{'_dog__name': 'nemo', '_dog__breed': 'husky'}"
      ]
     },
     "execution_count": 35,
     "metadata": {},
     "output_type": "execute_result"
    }
   ],
   "source": [
    "d1.__dict__"
   ]
  },
  {
   "cell_type": "code",
   "execution_count": 36,
   "id": "e9467792",
   "metadata": {},
   "outputs": [],
   "source": [
    "d1.change_name('ola')  # change to new name"
   ]
  },
  {
   "cell_type": "code",
   "execution_count": 37,
   "id": "0f1ce9f4",
   "metadata": {},
   "outputs": [
    {
     "name": "stdout",
     "output_type": "stream",
     "text": [
      "my name is ola am husky\n"
     ]
    }
   ],
   "source": [
    "d1.print_details()   # vallues of variables in class"
   ]
  },
  {
   "cell_type": "code",
   "execution_count": 38,
   "id": "feec6512",
   "metadata": {},
   "outputs": [
    {
     "data": {
      "text/plain": [
       "{'_dog__name': 'ola', '_dog__breed': 'husky'}"
      ]
     },
     "execution_count": 38,
     "metadata": {},
     "output_type": "execute_result"
    }
   ],
   "source": [
    "d1.__dict__"
   ]
  },
  {
   "cell_type": "code",
   "execution_count": 39,
   "id": "c3b08ec9",
   "metadata": {},
   "outputs": [],
   "source": [
    "class dog:\n",
    "    def __init__(self,name,breed):\n",
    "        self._name=name            # _ to make protect\n",
    "        self._breed=breed\n",
    "    def print_details(self):\n",
    "        print('my name is',self.__name,'am',self.__breed)\n",
    "    def change_name(self,name):   # as we cannot change outside of class, we can create inside\n",
    "        self._name=name   "
   ]
  },
  {
   "cell_type": "markdown",
   "id": "885eb38f",
   "metadata": {},
   "source": [
    "we can able to access protect in subclass,  protect used for age,dob column. for salary column, we can make private class"
   ]
  }
 ],
 "metadata": {
  "kernelspec": {
   "display_name": "Python 3 (ipykernel)",
   "language": "python",
   "name": "python3"
  },
  "language_info": {
   "codemirror_mode": {
    "name": "ipython",
    "version": 3
   },
   "file_extension": ".py",
   "mimetype": "text/x-python",
   "name": "python",
   "nbconvert_exporter": "python",
   "pygments_lexer": "ipython3",
   "version": "3.9.7"
  }
 },
 "nbformat": 4,
 "nbformat_minor": 5
}
