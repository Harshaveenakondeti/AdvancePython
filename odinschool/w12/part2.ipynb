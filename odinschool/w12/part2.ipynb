{
 "cells": [
  {
   "cell_type": "markdown",
   "id": "219b81d0",
   "metadata": {},
   "source": [
    "Create the following class with the given attributes and methods;\n",
    "\n",
    "Standard - Attributes: Std name, No of enrolled students, Overall GPA Methods: getStd, getEnrolled, getOGPA\n",
    "\n",
    "Students class with Standard as its super class - Attributes: Name,Roll No., Standard, Math marks, English Marks, Science Marks, Social Marks Methods: getName, getRollNo, getStd, getGPA\n",
    "\n",
    "Explanation: getName, getRollNo, getStd methods should give the name, roll number and standard of the student. getGPA should give the average marks of math, english, science and social marks scaled to 10-points. The same applies to all the attributes and methods in the Standard superclass."
   ]
  },
  {
   "cell_type": "code",
   "execution_count": 387,
   "id": "28c90c03",
   "metadata": {},
   "outputs": [],
   "source": [
    "class standard:  # creating class\n",
    "    count=0\n",
    "    std1=1\n",
    "    def __init__(self,std):    # initializing, give std \n",
    "        self.stdname=std\n",
    "        standard.count=standard.count+1   # for number of enrolled students\n",
    "        \n",
    "    def getStd(self):                    # method\n",
    "        return self.stdname              # return std value\n",
    "    def getEnrolled(self):               # method\n",
    "        print('number of students',self.count)# print number of instances\n",
    "        return self.count\n",
    "    \n",
    "    def getOGPA(self):\n",
    "        pass\n"
   ]
  },
  {
   "cell_type": "code",
   "execution_count": 388,
   "id": "19c03952",
   "metadata": {},
   "outputs": [
    {
     "name": "stdout",
     "output_type": "stream",
     "text": [
      "number of students 3\n",
      "3\n",
      "6\n",
      "3\n"
     ]
    }
   ],
   "source": [
    "a1=standard(3)\n",
    "a2=standard(6)\n",
    "a3=standard(3)\n",
    "a1.getEnrolled()\n",
    "print(a1.getStd())\n",
    "print(a2.getStd())\n",
    "print(a3.getStd())"
   ]
  },
  {
   "cell_type": "code",
   "execution_count": 390,
   "id": "9a2b6b12",
   "metadata": {},
   "outputs": [],
   "source": [
    "class student(standard):   # child class with parent standard\n",
    "    gpano=0\n",
    "    gpa=[]\n",
    "    def __init__(self,name,rollno,math,eng,sci,soc):   # atributes initialization\n",
    "        \n",
    "         # std will take from standard class\n",
    "        self.name= name\n",
    "        self.rollno=rollno\n",
    "        self.math =math\n",
    "        self.eng=eng\n",
    "        self.sci =sci\n",
    "        self.soc= soc\n",
    "        self.m=math/10  # credits as marks/10(89/10=8.9 credits)\n",
    "        self.e=eng/10\n",
    "        self.s1=sci/10\n",
    "        self.s2=soc/10\n",
    "        \n",
    "\n",
    "    def getName(self):\n",
    "        return self.name\n",
    "        \n",
    "    def getRollNo(self):\n",
    "        return self.rollno\n",
    "    def getstd(self):\n",
    "        return self.stdname\n",
    "    def getGPA(self):  # calculate gpa\n",
    "        GPA=((self.math*self.m)+(self.eng*self.e)+(self.sci*self.s1)+(self.soc*self.s2))/(self.math+self.eng+self.sci+self.soc)\n",
    "        print(self.name,'GPA is ',GPA)\n",
    "        return GPA\n",
    "    def getOGPA(self):\n",
    "        pass\n",
    "    \n",
    "        \n",
    "        "
   ]
  },
  {
   "cell_type": "code",
   "execution_count": 391,
   "id": "cf2e33e7",
   "metadata": {},
   "outputs": [],
   "source": [
    "a1=student('veena',10,99,70,80,80)\n",
    "a2=student('harsha',1,78,34,67,98)\n",
    "a3=student('hv',4,56,78,60,45)\n",
    "a1.stdname=standard.std1\n",
    "a2.stdname=standard.std1\n",
    "a3.stdname=standard.std1"
   ]
  },
  {
   "cell_type": "code",
   "execution_count": 392,
   "id": "4e7ef267",
   "metadata": {},
   "outputs": [
    {
     "name": "stdout",
     "output_type": "stream",
     "text": [
      "veena GPA is  8.358966565349544\n",
      "8.358966565349544\n",
      "harsha GPA is  7.701444043321301\n",
      "7.701444043321301\n",
      "hv GPA is  6.2112970711297075\n",
      "6.2112970711297075\n"
     ]
    }
   ],
   "source": [
    "print(a1.getGPA())\n",
    "print(a2.getGPA())\n",
    "print(a3.getGPA())"
   ]
  },
  {
   "cell_type": "code",
   "execution_count": 393,
   "id": "d2a451c7",
   "metadata": {},
   "outputs": [
    {
     "data": {
      "text/plain": [
       "{'name': 'veena',\n",
       " 'rollno': 10,\n",
       " 'math': 99,\n",
       " 'eng': 70,\n",
       " 'sci': 80,\n",
       " 'soc': 80,\n",
       " 'm': 9.9,\n",
       " 'e': 7.0,\n",
       " 's1': 8.0,\n",
       " 's2': 8.0,\n",
       " 'stdname': 1}"
      ]
     },
     "execution_count": 393,
     "metadata": {},
     "output_type": "execute_result"
    }
   ],
   "source": [
    "a1.__dict__"
   ]
  },
  {
   "cell_type": "code",
   "execution_count": 394,
   "id": "ed34ab21",
   "metadata": {},
   "outputs": [
    {
     "name": "stdout",
     "output_type": "stream",
     "text": [
      "1 1 1\n"
     ]
    }
   ],
   "source": [
    "print(a1.getStd(),a2.getStd(),a3.getStd())"
   ]
  },
  {
   "cell_type": "code",
   "execution_count": 395,
   "id": "94367454",
   "metadata": {},
   "outputs": [],
   "source": [
    "a1.getOGPA()"
   ]
  },
  {
   "cell_type": "code",
   "execution_count": 396,
   "id": "b8fa702a",
   "metadata": {},
   "outputs": [
    {
     "name": "stdout",
     "output_type": "stream",
     "text": [
      "veena GPA is  8.358966565349544\n",
      "harsha GPA is  7.701444043321301\n",
      "hv GPA is  6.2112970711297075\n"
     ]
    },
    {
     "data": {
      "text/plain": [
       "[8.358966565349544, 7.701444043321301, 6.2112970711297075]"
      ]
     },
     "execution_count": 396,
     "metadata": {},
     "output_type": "execute_result"
    }
   ],
   "source": [
    "l=[]\n",
    "l.append(s.getGPA())\n",
    "l.append(s1.getGPA())\n",
    "l.append(s2.getGPA())\n",
    "\n",
    "l"
   ]
  },
  {
   "cell_type": "code",
   "execution_count": 397,
   "id": "986c7203",
   "metadata": {},
   "outputs": [
    {
     "data": {
      "text/plain": [
       "7.423902559933516"
      ]
     },
     "execution_count": 397,
     "metadata": {},
     "output_type": "execute_result"
    }
   ],
   "source": [
    "import numpy as np\n",
    "np.mean(l)"
   ]
  },
  {
   "cell_type": "code",
   "execution_count": 398,
   "id": "5641d6e2",
   "metadata": {},
   "outputs": [
    {
     "data": {
      "text/plain": [
       "7.423902559933516"
      ]
     },
     "execution_count": 398,
     "metadata": {},
     "output_type": "execute_result"
    }
   ],
   "source": [
    "sum(l)/3"
   ]
  },
  {
   "cell_type": "code",
   "execution_count": null,
   "id": "6928c41c",
   "metadata": {},
   "outputs": [],
   "source": []
  },
  {
   "cell_type": "code",
   "execution_count": null,
   "id": "04bbdb9e",
   "metadata": {},
   "outputs": [],
   "source": []
  },
  {
   "cell_type": "code",
   "execution_count": null,
   "id": "b668656d",
   "metadata": {},
   "outputs": [],
   "source": []
  },
  {
   "cell_type": "code",
   "execution_count": null,
   "id": "77077dc8",
   "metadata": {},
   "outputs": [],
   "source": []
  },
  {
   "cell_type": "code",
   "execution_count": 318,
   "id": "6c3b7dd1",
   "metadata": {},
   "outputs": [
    {
     "data": {
      "text/plain": [
       "True"
      ]
     },
     "execution_count": 318,
     "metadata": {},
     "output_type": "execute_result"
    }
   ],
   "source": [
    "issubclass(student,standard)"
   ]
  },
  {
   "cell_type": "code",
   "execution_count": null,
   "id": "c426fc0b",
   "metadata": {},
   "outputs": [],
   "source": []
  },
  {
   "cell_type": "code",
   "execution_count": null,
   "id": "15e784db",
   "metadata": {},
   "outputs": [],
   "source": []
  },
  {
   "cell_type": "code",
   "execution_count": null,
   "id": "252deb9d",
   "metadata": {},
   "outputs": [],
   "source": []
  },
  {
   "cell_type": "code",
   "execution_count": null,
   "id": "04703315",
   "metadata": {},
   "outputs": [],
   "source": []
  },
  {
   "cell_type": "code",
   "execution_count": null,
   "id": "1ae16385",
   "metadata": {},
   "outputs": [],
   "source": []
  }
 ],
 "metadata": {
  "kernelspec": {
   "display_name": "Python 3 (ipykernel)",
   "language": "python",
   "name": "python3"
  },
  "language_info": {
   "codemirror_mode": {
    "name": "ipython",
    "version": 3
   },
   "file_extension": ".py",
   "mimetype": "text/x-python",
   "name": "python",
   "nbconvert_exporter": "python",
   "pygments_lexer": "ipython3",
   "version": "3.9.7"
  }
 },
 "nbformat": 4,
 "nbformat_minor": 5
}
