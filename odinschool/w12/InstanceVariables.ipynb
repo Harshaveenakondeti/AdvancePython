{
 "cells": [
  {
   "cell_type": "code",
   "execution_count": 2,
   "id": "249e329e",
   "metadata": {},
   "outputs": [],
   "source": [
    "class competition:\n",
    "    raise_amount=1.14  # global\n",
    "    def __init__(self,name,prize,raiseamount):\n",
    "        self.name=name\n",
    "        self.prize=prize\n",
    "        self.raise_amount=raiseamount\n",
    "        self.participants=[]\n",
    "    def raise_prize(self):\n",
    "        self.prize= self.prize*raiseamount"
   ]
  },
  {
   "cell_type": "code",
   "execution_count": 3,
   "id": "7cd1118a",
   "metadata": {},
   "outputs": [],
   "source": [
    "debate=competition('harsha',100,3)"
   ]
  },
  {
   "cell_type": "code",
   "execution_count": 4,
   "id": "236d7479",
   "metadata": {},
   "outputs": [
    {
     "data": {
      "text/plain": [
       "[]"
      ]
     },
     "execution_count": 4,
     "metadata": {},
     "output_type": "execute_result"
    }
   ],
   "source": [
    "debate.participants"
   ]
  },
  {
   "cell_type": "code",
   "execution_count": 7,
   "id": "f11127fb",
   "metadata": {},
   "outputs": [
    {
     "data": {
      "text/plain": [
       "['harsha', 'harsha']"
      ]
     },
     "execution_count": 7,
     "metadata": {},
     "output_type": "execute_result"
    }
   ],
   "source": [
    "debate.participants.append('harsha')\n",
    "debate.participants"
   ]
  },
  {
   "cell_type": "code",
   "execution_count": 8,
   "id": "3b187918",
   "metadata": {},
   "outputs": [
    {
     "data": {
      "text/plain": [
       "mappingproxy({'__module__': '__main__',\n",
       "              'raise_amount': 1.14,\n",
       "              '__init__': <function __main__.competition.__init__(self, name, prize, raiseamount)>,\n",
       "              'raise_prize': <function __main__.competition.raise_prize(self)>,\n",
       "              '__dict__': <attribute '__dict__' of 'competition' objects>,\n",
       "              '__weakref__': <attribute '__weakref__' of 'competition' objects>,\n",
       "              '__doc__': None})"
      ]
     },
     "execution_count": 8,
     "metadata": {},
     "output_type": "execute_result"
    }
   ],
   "source": [
    "competition.__dict__"
   ]
  },
  {
   "cell_type": "code",
   "execution_count": 10,
   "id": "39429146",
   "metadata": {},
   "outputs": [],
   "source": [
    "essay=competition('21',53,8)"
   ]
  },
  {
   "cell_type": "code",
   "execution_count": 11,
   "id": "0a4e0039",
   "metadata": {},
   "outputs": [],
   "source": [
    "essay.participants.append('lily')"
   ]
  },
  {
   "cell_type": "code",
   "execution_count": 12,
   "id": "e84b5e52",
   "metadata": {},
   "outputs": [
    {
     "data": {
      "text/plain": [
       "['lily']"
      ]
     },
     "execution_count": 12,
     "metadata": {},
     "output_type": "execute_result"
    }
   ],
   "source": [
    "essay.participants"
   ]
  },
  {
   "cell_type": "code",
   "execution_count": 13,
   "id": "df00a6e5",
   "metadata": {},
   "outputs": [
    {
     "data": {
      "text/plain": [
       "{'name': '21', 'prize': 53, 'raise_amount': 8, 'participants': ['lily']}"
      ]
     },
     "execution_count": 13,
     "metadata": {},
     "output_type": "execute_result"
    }
   ],
   "source": [
    "essay.__dict__"
   ]
  },
  {
   "cell_type": "code",
   "execution_count": 14,
   "id": "79b55fe2",
   "metadata": {},
   "outputs": [
    {
     "data": {
      "text/plain": [
       "{'name': 'harsha',\n",
       " 'prize': 100,\n",
       " 'raise_amount': 3,\n",
       " 'participants': ['harsha', 'harsha']}"
      ]
     },
     "execution_count": 14,
     "metadata": {},
     "output_type": "execute_result"
    }
   ],
   "source": [
    "debate.__dict__"
   ]
  },
  {
   "cell_type": "code",
   "execution_count": null,
   "id": "f61399ee",
   "metadata": {},
   "outputs": [],
   "source": []
  }
 ],
 "metadata": {
  "kernelspec": {
   "display_name": "Python 3 (ipykernel)",
   "language": "python",
   "name": "python3"
  },
  "language_info": {
   "codemirror_mode": {
    "name": "ipython",
    "version": 3
   },
   "file_extension": ".py",
   "mimetype": "text/x-python",
   "name": "python",
   "nbconvert_exporter": "python",
   "pygments_lexer": "ipython3",
   "version": "3.9.7"
  }
 },
 "nbformat": 4,
 "nbformat_minor": 5
}
