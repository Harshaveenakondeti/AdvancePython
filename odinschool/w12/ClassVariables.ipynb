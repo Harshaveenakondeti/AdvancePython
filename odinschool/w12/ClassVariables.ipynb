{
 "cells": [
  {
   "cell_type": "code",
   "execution_count": null,
   "id": "efc9ee5f",
   "metadata": {},
   "outputs": [],
   "source": [
    "class variables are shared among all objects, instance variables are unique."
   ]
  },
  {
   "cell_type": "code",
   "execution_count": 13,
   "id": "754d1c4f",
   "metadata": {},
   "outputs": [],
   "source": [
    "class competition:\n",
    "    raise_amount=1.14  # global\n",
    "    def __init__(self,name,prize,raiseamount):\n",
    "        self.name=name\n",
    "        self.prize=prize\n",
    "        self.raise_amount=raiseamount\n",
    "    def raise_prize(self):\n",
    "        self.prize= self.prize*raiseamount  # self or competition"
   ]
  },
  {
   "cell_type": "code",
   "execution_count": 14,
   "id": "cbcc8f1e",
   "metadata": {},
   "outputs": [],
   "source": [
    "debate= competition('debate',100,3)"
   ]
  },
  {
   "cell_type": "code",
   "execution_count": 15,
   "id": "e634e007",
   "metadata": {},
   "outputs": [
    {
     "data": {
      "text/plain": [
       "'debate'"
      ]
     },
     "execution_count": 15,
     "metadata": {},
     "output_type": "execute_result"
    }
   ],
   "source": [
    "debate.name"
   ]
  },
  {
   "cell_type": "code",
   "execution_count": null,
   "id": "1a2da793",
   "metadata": {},
   "outputs": [],
   "source": []
  },
  {
   "cell_type": "code",
   "execution_count": null,
   "id": "ab912848",
   "metadata": {},
   "outputs": [],
   "source": []
  },
  {
   "cell_type": "code",
   "execution_count": null,
   "id": "cd0ec2ba",
   "metadata": {},
   "outputs": [],
   "source": []
  },
  {
   "cell_type": "code",
   "execution_count": null,
   "id": "1bffda0b",
   "metadata": {},
   "outputs": [],
   "source": []
  },
  {
   "cell_type": "code",
   "execution_count": null,
   "id": "90a702d5",
   "metadata": {},
   "outputs": [],
   "source": []
  },
  {
   "cell_type": "code",
   "execution_count": null,
   "id": "0bbabaca",
   "metadata": {},
   "outputs": [],
   "source": []
  },
  {
   "cell_type": "code",
   "execution_count": null,
   "id": "ffeb883f",
   "metadata": {},
   "outputs": [],
   "source": []
  },
  {
   "cell_type": "code",
   "execution_count": null,
   "id": "b14bb6e8",
   "metadata": {},
   "outputs": [],
   "source": []
  },
  {
   "cell_type": "code",
   "execution_count": null,
   "id": "59470373",
   "metadata": {},
   "outputs": [],
   "source": []
  }
 ],
 "metadata": {
  "kernelspec": {
   "display_name": "Python 3 (ipykernel)",
   "language": "python",
   "name": "python3"
  },
  "language_info": {
   "codemirror_mode": {
    "name": "ipython",
    "version": 3
   },
   "file_extension": ".py",
   "mimetype": "text/x-python",
   "name": "python",
   "nbconvert_exporter": "python",
   "pygments_lexer": "ipython3",
   "version": "3.9.7"
  }
 },
 "nbformat": 4,
 "nbformat_minor": 5
}
