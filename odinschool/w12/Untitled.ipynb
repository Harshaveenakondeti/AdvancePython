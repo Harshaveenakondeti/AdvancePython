{
 "cells": [
  {
   "cell_type": "code",
   "execution_count": 147,
   "id": "dc2cb08a",
   "metadata": {},
   "outputs": [],
   "source": [
    "import numpy as np"
   ]
  },
  {
   "cell_type": "code",
   "execution_count": 231,
   "id": "539ff0d6",
   "metadata": {},
   "outputs": [],
   "source": [
    "class standard:     # super class\n",
    "    count=0\n",
    "\n",
    "    gpa=[]     # empty list to store gpa of each instance\n",
    "    def __init__(self,std,name,rollno,math,eng,sci,soc):\n",
    "        self.std=std\n",
    "        self.name= name\n",
    "        self.rollno=rollno\n",
    "        self.math =math\n",
    "        self.eng=eng\n",
    "        self.sci =sci\n",
    "        self.soc= soc\n",
    "        self.m=math/10  # credits as marks/10(89/10=8.9 credits)\n",
    "        self.e=eng/10\n",
    "        self.s1=sci/10\n",
    "        self.s2=soc/10\n",
    "        standard.count=standard.count+1\n",
    "        # for number of enrolled students\n",
    "        # calculate GPA for each instance\n",
    "        self.GPA=((self.math*self.m)+(self.eng*self.e)+(self.sci*self.s1)+(self.soc*self.s2))/(self.math+self.eng+self.sci+self.soc)\n",
    "        self.gpa.append(self.GPA)# gpa appended to list to calculate OGPA\n",
    "    def getStd(self):                    # method\n",
    "        return self.std              # return std value\n",
    "    def getEnrolled(self):               # method\n",
    "        print('number of students',self.count)# print number of instances\n",
    "        return self.count\n",
    "    \n",
    "    def getOGPA(self):    # overall GPA, mean of all instances of GPA\n",
    "        print(self.gpa,self.count)  # GPAs with total number of students count\n",
    "        getOGPA=np.mean(self.gpa)     # mean of GPA\n",
    "        return round(getOGPA,1)   # rounded value\n",
    "        "
   ]
  },
  {
   "cell_type": "code",
   "execution_count": 232,
   "id": "925b0971",
   "metadata": {},
   "outputs": [],
   "source": [
    "class student(standard):   # child class with parent standard\n",
    "    \n",
    "    def __init__(self,std,name,rollno,math,eng,sci,soc):   # atributes initialization\n",
    "        standard.__init__(self,std,name,rollno,math,eng,sci,soc)   # properties pass from standard\n",
    "        \n",
    "\n",
    "    def getName(self):\n",
    "        return self.name\n",
    "        \n",
    "    def getRollNo(self):\n",
    "        return self.rollno\n",
    "    def getStd(self):\n",
    "        return self.std\n",
    "    def getGPA(self):  # calculate gpa\n",
    "        GPA=((self.math*self.m)+(self.eng*self.e)+(self.sci*self.s1)+(self.soc*self.s2))/(self.math+self.eng+self.sci+self.soc)\n",
    "        print(self.name,'GPA is ',GPA)\n",
    "        return round(GPA,1)\n",
    "    "
   ]
  },
  {
   "cell_type": "code",
   "execution_count": 233,
   "id": "cebea684",
   "metadata": {},
   "outputs": [
    {
     "name": "stdout",
     "output_type": "stream",
     "text": [
      "number of students 2\n",
      "2 2\n"
     ]
    }
   ],
   "source": [
    "a1=standard(2,'harsha',1,99,89,79,69)  # instancec for standard\n",
    "a2=standard(2,'veena',2,45,67,89,45)\n",
    "print(a1.getStd(),a1.getEnrolled())"
   ]
  },
  {
   "cell_type": "code",
   "execution_count": 234,
   "id": "522af2d2",
   "metadata": {},
   "outputs": [
    {
     "name": "stdout",
     "output_type": "stream",
     "text": [
      "hv GPA is  6.8043137254901955\n",
      "6.8 hv 3 3\n"
     ]
    }
   ],
   "source": [
    "s1=student(3,'hv',3,45,67,89,54)  # instance for student\n",
    "print(s1.getGPA(),s1.getName(),s1.getRollNo(),s1.getStd())"
   ]
  },
  {
   "cell_type": "code",
   "execution_count": 235,
   "id": "834ebe71",
   "metadata": {},
   "outputs": [
    {
     "name": "stdout",
     "output_type": "stream",
     "text": [
      "hveena GPA is  7.153090909090909\n",
      "7.2 hveena 4 4\n"
     ]
    }
   ],
   "source": [
    "s2=student(4,'hveena',4,65,87,49,74)\n",
    "print(s2.getGPA(),s2.getName(),s2.getRollNo(),s2.getStd())"
   ]
  },
  {
   "cell_type": "code",
   "execution_count": 236,
   "id": "7f1cf22e",
   "metadata": {},
   "outputs": [
    {
     "data": {
      "text/plain": [
       "{'std': 2,\n",
       " 'name': 'harsha',\n",
       " 'rollno': 1,\n",
       " 'math': 99,\n",
       " 'eng': 89,\n",
       " 'sci': 79,\n",
       " 'soc': 69,\n",
       " 'm': 9.9,\n",
       " 'e': 8.9,\n",
       " 's1': 7.9,\n",
       " 's2': 6.9,\n",
       " 'GPA': 8.548809523809524}"
      ]
     },
     "execution_count": 236,
     "metadata": {},
     "output_type": "execute_result"
    }
   ],
   "source": [
    "a1.__dict__"
   ]
  },
  {
   "cell_type": "code",
   "execution_count": 237,
   "id": "10c77e60",
   "metadata": {},
   "outputs": [
    {
     "data": {
      "text/plain": [
       "{'std': 2,\n",
       " 'name': 'veena',\n",
       " 'rollno': 2,\n",
       " 'math': 45,\n",
       " 'eng': 67,\n",
       " 'sci': 89,\n",
       " 'soc': 45,\n",
       " 'm': 4.5,\n",
       " 'e': 6.7,\n",
       " 's1': 8.9,\n",
       " 's2': 4.5,\n",
       " 'GPA': 6.691056910569106}"
      ]
     },
     "execution_count": 237,
     "metadata": {},
     "output_type": "execute_result"
    }
   ],
   "source": [
    "a2.__dict__"
   ]
  },
  {
   "cell_type": "code",
   "execution_count": 238,
   "id": "6ec59063",
   "metadata": {},
   "outputs": [
    {
     "name": "stdout",
     "output_type": "stream",
     "text": [
      "hv GPA is  6.8043137254901955\n",
      "6.8\n"
     ]
    }
   ],
   "source": [
    "print(s1.getGPA())"
   ]
  },
  {
   "cell_type": "code",
   "execution_count": null,
   "id": "57bb74e7",
   "metadata": {},
   "outputs": [],
   "source": []
  },
  {
   "cell_type": "code",
   "execution_count": 239,
   "id": "587814ba",
   "metadata": {},
   "outputs": [
    {
     "name": "stdout",
     "output_type": "stream",
     "text": [
      "[8.548809523809524, 6.691056910569106, 6.8043137254901955, 7.153090909090909] 4\n",
      "7.3\n"
     ]
    }
   ],
   "source": [
    "print(a1.getOGPA())"
   ]
  },
  {
   "cell_type": "code",
   "execution_count": 219,
   "id": "d69d7cb7",
   "metadata": {},
   "outputs": [
    {
     "name": "stdout",
     "output_type": "stream",
     "text": [
      "number of students 4\n",
      "4\n"
     ]
    }
   ],
   "source": [
    "print(a1.getEnrolled())"
   ]
  },
  {
   "cell_type": "code",
   "execution_count": 220,
   "id": "6507b0b3",
   "metadata": {},
   "outputs": [
    {
     "name": "stdout",
     "output_type": "stream",
     "text": [
      "hv GPA is  6.8043137254901955\n",
      "hveena GPA is  7.153090909090909\n"
     ]
    },
    {
     "data": {
      "text/plain": [
       "[6.8, 7.2]"
      ]
     },
     "execution_count": 220,
     "metadata": {},
     "output_type": "execute_result"
    }
   ],
   "source": [
    "import numpy as np\n",
    "l=[]\n",
    "l.append(s1.getGPA())\n",
    "l.append(s2.getGPA())\n",
    "l\n"
   ]
  },
  {
   "cell_type": "code",
   "execution_count": 221,
   "id": "46b13fed",
   "metadata": {},
   "outputs": [
    {
     "data": {
      "text/plain": [
       "7.0"
      ]
     },
     "execution_count": 221,
     "metadata": {},
     "output_type": "execute_result"
    }
   ],
   "source": [
    "np.mean(l)"
   ]
  },
  {
   "cell_type": "code",
   "execution_count": null,
   "id": "23ceb7f8",
   "metadata": {},
   "outputs": [],
   "source": []
  },
  {
   "cell_type": "code",
   "execution_count": null,
   "id": "73a770fc",
   "metadata": {},
   "outputs": [],
   "source": []
  }
 ],
 "metadata": {
  "kernelspec": {
   "display_name": "Python 3 (ipykernel)",
   "language": "python",
   "name": "python3"
  },
  "language_info": {
   "codemirror_mode": {
    "name": "ipython",
    "version": 3
   },
   "file_extension": ".py",
   "mimetype": "text/x-python",
   "name": "python",
   "nbconvert_exporter": "python",
   "pygments_lexer": "ipython3",
   "version": "3.9.7"
  }
 },
 "nbformat": 4,
 "nbformat_minor": 5
}
