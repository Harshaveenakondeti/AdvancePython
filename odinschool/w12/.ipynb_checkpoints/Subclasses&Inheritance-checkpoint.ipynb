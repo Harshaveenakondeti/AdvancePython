{
 "cells": [
  {
   "cell_type": "markdown",
   "id": "89961591",
   "metadata": {},
   "source": [
    "Inheritance is tranferring properties from parent o child.we want to access some features from one classs. code reusablity.save the code."
   ]
  },
  {
   "cell_type": "code",
   "execution_count": 1,
   "id": "8b844aaf",
   "metadata": {},
   "outputs": [],
   "source": [
    "class shape:\n",
    "    pass"
   ]
  },
  {
   "cell_type": "code",
   "execution_count": 2,
   "id": "012e52d0",
   "metadata": {},
   "outputs": [],
   "source": [
    "class shape():\n",
    "    pass"
   ]
  },
  {
   "cell_type": "code",
   "execution_count": 3,
   "id": "e6d435cd",
   "metadata": {},
   "outputs": [],
   "source": [
    "class shape(object):\n",
    "    pass"
   ]
  },
  {
   "cell_type": "code",
   "execution_count": null,
   "id": "3470db9f",
   "metadata": {},
   "outputs": [],
   "source": [
    "these are 3 ways of creatng class"
   ]
  },
  {
   "cell_type": "code",
   "execution_count": 29,
   "id": "4e28f639",
   "metadata": {},
   "outputs": [],
   "source": [
    "class shape:  # parent class\n",
    "    def __init__(self,type,color='red'):\n",
    "        self.__type=type\n",
    "        self.__color=color\n",
    "    def get_details(self):\n",
    "        return self.__type"
   ]
  },
  {
   "cell_type": "code",
   "execution_count": 30,
   "id": "c53ac08c",
   "metadata": {},
   "outputs": [],
   "source": [
    "s=shape('circle')"
   ]
  },
  {
   "cell_type": "code",
   "execution_count": 31,
   "id": "12205355",
   "metadata": {},
   "outputs": [
    {
     "data": {
      "text/plain": [
       "'circle'"
      ]
     },
     "execution_count": 31,
     "metadata": {},
     "output_type": "execute_result"
    }
   ],
   "source": [
    "s.get_details()"
   ]
  },
  {
   "cell_type": "code",
   "execution_count": 32,
   "id": "a3c577d4",
   "metadata": {},
   "outputs": [],
   "source": [
    "class circle(shape):   # base/child class\n",
    "    pass"
   ]
  },
  {
   "cell_type": "code",
   "execution_count": 33,
   "id": "13e9f840",
   "metadata": {},
   "outputs": [
    {
     "ename": "TypeError",
     "evalue": "__init__() missing 1 required positional argument: 'type'",
     "output_type": "error",
     "traceback": [
      "\u001b[1;31m---------------------------------------------------------------------------\u001b[0m",
      "\u001b[1;31mTypeError\u001b[0m                                 Traceback (most recent call last)",
      "\u001b[1;32m~\\AppData\\Local\\Temp/ipykernel_8188/1429329685.py\u001b[0m in \u001b[0;36m<module>\u001b[1;34m\u001b[0m\n\u001b[1;32m----> 1\u001b[1;33m \u001b[0mcircle\u001b[0m\u001b[1;33m=\u001b[0m\u001b[0mcircle\u001b[0m\u001b[1;33m(\u001b[0m\u001b[1;33m)\u001b[0m\u001b[1;31m# it shows error\u001b[0m\u001b[1;33m\u001b[0m\u001b[1;33m\u001b[0m\u001b[0m\n\u001b[0m",
      "\u001b[1;31mTypeError\u001b[0m: __init__() missing 1 required positional argument: 'type'"
     ]
    }
   ],
   "source": [
    "circle=circle()# it shows error"
   ]
  },
  {
   "cell_type": "code",
   "execution_count": 34,
   "id": "4d6acc32",
   "metadata": {},
   "outputs": [],
   "source": [
    "circle=circle('circle')"
   ]
  },
  {
   "cell_type": "code",
   "execution_count": 35,
   "id": "5b89cb45",
   "metadata": {},
   "outputs": [],
   "source": [
    "class circle(shape):\n",
    "    def __init__(self):    # invoke init of circle class\n",
    "        shape.__init__(self,'circle')  # parent class shape init method called,passing default circle"
   ]
  },
  {
   "cell_type": "code",
   "execution_count": 36,
   "id": "f7170255",
   "metadata": {},
   "outputs": [],
   "source": [
    "class square(shape):\n",
    "    def __init__(self):\n",
    "        shape.__init__(self,'square')"
   ]
  },
  {
   "cell_type": "code",
   "execution_count": 37,
   "id": "3294a017",
   "metadata": {},
   "outputs": [],
   "source": [
    "circle=circle()"
   ]
  },
  {
   "cell_type": "code",
   "execution_count": 38,
   "id": "853f88d5",
   "metadata": {},
   "outputs": [],
   "source": [
    "square=square()"
   ]
  },
  {
   "cell_type": "code",
   "execution_count": 39,
   "id": "5c8f5833",
   "metadata": {},
   "outputs": [
    {
     "data": {
      "text/plain": [
       "(__main__.circle, __main__.square)"
      ]
     },
     "execution_count": 39,
     "metadata": {},
     "output_type": "execute_result"
    }
   ],
   "source": [
    "type(circle),type(square)   # types of classes of circle & square"
   ]
  },
  {
   "cell_type": "code",
   "execution_count": 41,
   "id": "1e9290f9",
   "metadata": {},
   "outputs": [
    {
     "data": {
      "text/plain": [
       "('circle', 'square')"
      ]
     },
     "execution_count": 41,
     "metadata": {},
     "output_type": "execute_result"
    }
   ],
   "source": [
    "circle.get_details(),square.get_details()"
   ]
  },
  {
   "cell_type": "code",
   "execution_count": 42,
   "id": "e72b0ffc",
   "metadata": {},
   "outputs": [],
   "source": [
    "class square(shape):\n",
    "    def __init__(self,color='green'):\n",
    "        shape.__init__(self,'square',color)"
   ]
  },
  {
   "cell_type": "code",
   "execution_count": 43,
   "id": "1d3c0d56",
   "metadata": {},
   "outputs": [
    {
     "ename": "AttributeError",
     "evalue": "type object 'square' has no attribute '__color'",
     "output_type": "error",
     "traceback": [
      "\u001b[1;31m---------------------------------------------------------------------------\u001b[0m",
      "\u001b[1;31mAttributeError\u001b[0m                            Traceback (most recent call last)",
      "\u001b[1;32m~\\AppData\\Local\\Temp/ipykernel_8188/2871094100.py\u001b[0m in \u001b[0;36m<module>\u001b[1;34m\u001b[0m\n\u001b[1;32m----> 1\u001b[1;33m \u001b[0msquare\u001b[0m\u001b[1;33m.\u001b[0m\u001b[0m__color\u001b[0m\u001b[1;33m\u001b[0m\u001b[1;33m\u001b[0m\u001b[0m\n\u001b[0m",
      "\u001b[1;31mAttributeError\u001b[0m: type object 'square' has no attribute '__color'"
     ]
    }
   ],
   "source": [
    "square.__color"
   ]
  },
  {
   "cell_type": "markdown",
   "id": "fb11ff7c",
   "metadata": {},
   "source": [
    "in python, if we created instances of child class, in child class we have method name in child & parent, then it will  perform on child class method, it is called methos overridden.bcz its gives preference to local variable.method overloading "
   ]
  },
  {
   "cell_type": "code",
   "execution_count": 44,
   "id": "34b567f2",
   "metadata": {},
   "outputs": [],
   "source": [
    "import math\n",
    "class circle(shape):\n",
    "    def __init__(self,radius):    # invoke init of circle class\n",
    "        shape.__init__(self,'circle')\n",
    "        self.__radius=radius  # circle variable\n",
    "        \n",
    "    def get_area(self):\n",
    "        return math.pi*self.__radius*self.__radius\n",
    "    def get_parameter(self):\n",
    "        return 2*math.pi*self.__radius"
   ]
  },
  {
   "cell_type": "markdown",
   "id": "1bef94aa",
   "metadata": {},
   "source": [
    "# "
   ]
  },
  {
   "cell_type": "code",
   "execution_count": 45,
   "id": "5f009963",
   "metadata": {},
   "outputs": [],
   "source": [
    "c=circle(10)"
   ]
  },
  {
   "cell_type": "code",
   "execution_count": 46,
   "id": "5f4300f2",
   "metadata": {},
   "outputs": [
    {
     "data": {
      "text/plain": [
       "314.1592653589793"
      ]
     },
     "execution_count": 46,
     "metadata": {},
     "output_type": "execute_result"
    }
   ],
   "source": [
    "c.get_area()  # method overriden"
   ]
  },
  {
   "cell_type": "code",
   "execution_count": 47,
   "id": "298eeae5",
   "metadata": {},
   "outputs": [
    {
     "data": {
      "text/plain": [
       "62.83185307179586"
      ]
     },
     "execution_count": 47,
     "metadata": {},
     "output_type": "execute_result"
    }
   ],
   "source": [
    "c.get_parameter()"
   ]
  },
  {
   "cell_type": "markdown",
   "id": "4a2b5966",
   "metadata": {},
   "source": [
    "## method overloading\n",
    "same method but acts differently\n",
    "same name differet signatures\n",
    "based on ur input arguments, method is gibving dfferent values, reduce complexity, reusability of code,quality of code is improved, it can be used by arguments, *ags(muiltiple arguments)\n",
    "in run time, we dont know how many arguments to passs is variable elngth arguments, with this we can achieved method overloading"
   ]
  },
  {
   "cell_type": "code",
   "execution_count": 51,
   "id": "25a4db85",
   "metadata": {},
   "outputs": [],
   "source": [
    "import math\n",
    "class shape:  # code reusability\n",
    "    def get_area(self,l,typeof ='circle'):  # same method, but different logics\n",
    "        if typeof=='circle':\n",
    "            return math.pi*l*l   # area of circle\n",
    "        if typeof == 'square':\n",
    "            return l*l  # area of square\n",
    "            \n",
    "            \n",
    "        "
   ]
  },
  {
   "cell_type": "code",
   "execution_count": 52,
   "id": "853b8ce3",
   "metadata": {},
   "outputs": [],
   "source": [
    "sh=shape()"
   ]
  },
  {
   "cell_type": "code",
   "execution_count": 54,
   "id": "459f58cb",
   "metadata": {},
   "outputs": [
    {
     "data": {
      "text/plain": [
       "314.1592653589793"
      ]
     },
     "execution_count": 54,
     "metadata": {},
     "output_type": "execute_result"
    }
   ],
   "source": [
    "sh.get_area(10)"
   ]
  },
  {
   "cell_type": "code",
   "execution_count": 55,
   "id": "75c71247",
   "metadata": {},
   "outputs": [
    {
     "data": {
      "text/plain": [
       "100"
      ]
     },
     "execution_count": 55,
     "metadata": {},
     "output_type": "execute_result"
    }
   ],
   "source": [
    "sh.get_area(10,'square')  # method overloading"
   ]
  },
  {
   "cell_type": "code",
   "execution_count": null,
   "id": "e2ee3661",
   "metadata": {},
   "outputs": [],
   "source": []
  },
  {
   "cell_type": "code",
   "execution_count": null,
   "id": "9528af3a",
   "metadata": {},
   "outputs": [],
   "source": []
  }
 ],
 "metadata": {
  "kernelspec": {
   "display_name": "Python 3 (ipykernel)",
   "language": "python",
   "name": "python3"
  },
  "language_info": {
   "codemirror_mode": {
    "name": "ipython",
    "version": 3
   },
   "file_extension": ".py",
   "mimetype": "text/x-python",
   "name": "python",
   "nbconvert_exporter": "python",
   "pygments_lexer": "ipython3",
   "version": "3.9.7"
  }
 },
 "nbformat": 4,
 "nbformat_minor": 5
}
