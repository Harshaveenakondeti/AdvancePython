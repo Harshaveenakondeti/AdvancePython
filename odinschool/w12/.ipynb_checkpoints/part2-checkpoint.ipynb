{
 "cells": [
  {
   "cell_type": "markdown",
   "id": "219b81d0",
   "metadata": {},
   "source": [
    "Create the following class with the given attributes and methods;\n",
    "\n",
    "Standard - Attributes: Std name, No of enrolled students, Overall GPA Methods: getStd, getEnrolled, getOGPA\n",
    "\n",
    "Students class with Standard as its super class - Attributes: Name,Roll No., Standard, Math marks, English Marks, Science Marks, Social Marks Methods: getName, getRollNo, getStd, getGPA\n",
    "\n",
    "Explanation: getName, getRollNo, getStd methods should give the name, roll number and standard of the student. getGPA should give the average marks of math, english, science and social marks scaled to 10-points. The same applies to all the attributes and methods in the Standard superclass."
   ]
  },
  {
   "cell_type": "code",
   "execution_count": 85,
   "id": "28c90c03",
   "metadata": {},
   "outputs": [
    {
     "name": "stdout",
     "output_type": "stream",
     "text": [
      "2\n",
      "6\n"
     ]
    }
   ],
   "source": [
    "class standard:\n",
    "    count=0\n",
    "    def __init__(self,std):\n",
    "        standard.stdname=std\n",
    "        standard.count=standard.count+1\n",
    "        \n",
    "    def getstd(self):\n",
    "        print(self.stdname)\n",
    "    def getenrolled(self):\n",
    "        print(self.count)\n",
    "    def getOGPA(self):\n",
    "        pass\n",
    "    def __iter__(self):\n",
    "        pass\n",
    "a1=standard(3)\n",
    "a2=standard(6)\n",
    "a1.getenrolled()\n",
    "a1.getstd()"
   ]
  },
  {
   "cell_type": "code",
   "execution_count": 105,
   "id": "9a2b6b12",
   "metadata": {},
   "outputs": [],
   "source": [
    "class student(standard):\n",
    "    \n",
    "    def __init__(self,name,rollno,math,eng,sci,soc):\n",
    "        student.std=standard.stdname  # it will take from standard class\n",
    "        self.name= name\n",
    "        self.rollno=rollno\n",
    "        \n",
    "        self.math =math\n",
    "        self.eng=eng\n",
    "        self.sci =sci\n",
    "        self.soc= soc\n",
    "        self.m=math/10  # credits as marks/10(89/10=8.9 credits)\n",
    "        self.e=eng/10\n",
    "        self.s1=sci/10\n",
    "        self.s2=soc/10\n",
    "        \n",
    "\n",
    "    def getName(self):\n",
    "        print(self.name)\n",
    "        \n",
    "    def getRollNo(self):\n",
    "        print(self.rollno)\n",
    "    def getstd(self):\n",
    "        print(student.std)\n",
    "    def getGPA(self):\n",
    "        GPA=((self.math*self.m)+(self.eng*self.e)+(self.sci*self.s1)+(self.soc*self.s2))/(self.math+self.eng+self.sci+self.soc)\n",
    "        print(self.name,'GPA is ',GPA)\n",
    "    def getOGPA(self):\n",
    "        OGPA=sum(GPA)/no"
   ]
  },
  {
   "cell_type": "code",
   "execution_count": 106,
   "id": "cf2e33e7",
   "metadata": {},
   "outputs": [],
   "source": [
    "s=student('veena',10,99,70,80,80)"
   ]
  },
  {
   "cell_type": "code",
   "execution_count": 107,
   "id": "d4f22d70",
   "metadata": {},
   "outputs": [
    {
     "name": "stdout",
     "output_type": "stream",
     "text": [
      "3\n"
     ]
    }
   ],
   "source": [
    "s.getstd()"
   ]
  },
  {
   "cell_type": "code",
   "execution_count": 108,
   "id": "509e10a4",
   "metadata": {},
   "outputs": [
    {
     "name": "stdout",
     "output_type": "stream",
     "text": [
      "veena GPA is  8.358966565349544\n"
     ]
    }
   ],
   "source": [
    "s.getGPA()"
   ]
  },
  {
   "cell_type": "code",
   "execution_count": 109,
   "id": "c58ff960",
   "metadata": {},
   "outputs": [
    {
     "name": "stdout",
     "output_type": "stream",
     "text": [
      "veena\n"
     ]
    }
   ],
   "source": [
    "s.getName()"
   ]
  },
  {
   "cell_type": "code",
   "execution_count": 110,
   "id": "cc7581a9",
   "metadata": {},
   "outputs": [
    {
     "name": "stdout",
     "output_type": "stream",
     "text": [
      "10\n"
     ]
    }
   ],
   "source": [
    "s.getRollNo()"
   ]
  },
  {
   "cell_type": "code",
   "execution_count": 111,
   "id": "f8db788b",
   "metadata": {},
   "outputs": [
    {
     "name": "stdout",
     "output_type": "stream",
     "text": [
      "3\n"
     ]
    }
   ],
   "source": [
    "a=standard(3)\n",
    "a.getstd()"
   ]
  },
  {
   "cell_type": "code",
   "execution_count": 112,
   "id": "44948e6e",
   "metadata": {},
   "outputs": [
    {
     "name": "stdout",
     "output_type": "stream",
     "text": [
      "3\n"
     ]
    }
   ],
   "source": [
    "s.getstd()"
   ]
  },
  {
   "cell_type": "code",
   "execution_count": 113,
   "id": "7ecb0760",
   "metadata": {},
   "outputs": [
    {
     "name": "stdout",
     "output_type": "stream",
     "text": [
      "veena GPA is  8.358966565349544\n"
     ]
    }
   ],
   "source": [
    "s.getGPA()"
   ]
  },
  {
   "cell_type": "code",
   "execution_count": 116,
   "id": "1579fb57",
   "metadata": {},
   "outputs": [
    {
     "name": "stdout",
     "output_type": "stream",
     "text": [
      "harsha GPA is  7.701444043321301\n"
     ]
    }
   ],
   "source": [
    "s1=student('harsha',1,78,34,67,98)\n",
    "s1.getGPA()"
   ]
  },
  {
   "cell_type": "code",
   "execution_count": 117,
   "id": "bed98a95",
   "metadata": {},
   "outputs": [
    {
     "ename": "NameError",
     "evalue": "name 'GPA' is not defined",
     "output_type": "error",
     "traceback": [
      "\u001b[1;31m---------------------------------------------------------------------------\u001b[0m",
      "\u001b[1;31mNameError\u001b[0m                                 Traceback (most recent call last)",
      "\u001b[1;32m~\\AppData\\Local\\Temp/ipykernel_14936/458617895.py\u001b[0m in \u001b[0;36m<module>\u001b[1;34m\u001b[0m\n\u001b[1;32m----> 1\u001b[1;33m \u001b[0ms\u001b[0m\u001b[1;33m.\u001b[0m\u001b[0mgetOGPA\u001b[0m\u001b[1;33m(\u001b[0m\u001b[1;33m)\u001b[0m\u001b[1;33m\u001b[0m\u001b[1;33m\u001b[0m\u001b[0m\n\u001b[0m",
      "\u001b[1;32m~\\AppData\\Local\\Temp/ipykernel_14936/418999622.py\u001b[0m in \u001b[0;36mgetOGPA\u001b[1;34m(self)\u001b[0m\n\u001b[0;32m     27\u001b[0m         \u001b[0mprint\u001b[0m\u001b[1;33m(\u001b[0m\u001b[0mself\u001b[0m\u001b[1;33m.\u001b[0m\u001b[0mname\u001b[0m\u001b[1;33m,\u001b[0m\u001b[1;34m'GPA is '\u001b[0m\u001b[1;33m,\u001b[0m\u001b[0mGPA\u001b[0m\u001b[1;33m)\u001b[0m\u001b[1;33m\u001b[0m\u001b[1;33m\u001b[0m\u001b[0m\n\u001b[0;32m     28\u001b[0m     \u001b[1;32mdef\u001b[0m \u001b[0mgetOGPA\u001b[0m\u001b[1;33m(\u001b[0m\u001b[0mself\u001b[0m\u001b[1;33m)\u001b[0m\u001b[1;33m:\u001b[0m\u001b[1;33m\u001b[0m\u001b[1;33m\u001b[0m\u001b[0m\n\u001b[1;32m---> 29\u001b[1;33m         \u001b[0mOGPA\u001b[0m\u001b[1;33m=\u001b[0m\u001b[0msum\u001b[0m\u001b[1;33m(\u001b[0m\u001b[0mGPA\u001b[0m\u001b[1;33m)\u001b[0m\u001b[1;33m/\u001b[0m\u001b[0mno\u001b[0m\u001b[1;33m\u001b[0m\u001b[1;33m\u001b[0m\u001b[0m\n\u001b[0m",
      "\u001b[1;31mNameError\u001b[0m: name 'GPA' is not defined"
     ]
    }
   ],
   "source": [
    "s.getOGPA()"
   ]
  },
  {
   "cell_type": "code",
   "execution_count": null,
   "id": "934522df",
   "metadata": {},
   "outputs": [],
   "source": []
  },
  {
   "cell_type": "code",
   "execution_count": null,
   "id": "6c3b7dd1",
   "metadata": {},
   "outputs": [],
   "source": []
  },
  {
   "cell_type": "code",
   "execution_count": null,
   "id": "c426fc0b",
   "metadata": {},
   "outputs": [],
   "source": []
  },
  {
   "cell_type": "code",
   "execution_count": null,
   "id": "15e784db",
   "metadata": {},
   "outputs": [],
   "source": []
  },
  {
   "cell_type": "code",
   "execution_count": 2,
   "id": "c6f0d7f2",
   "metadata": {},
   "outputs": [
    {
     "data": {
      "text/plain": [
       "170.26"
      ]
     },
     "execution_count": 2,
     "metadata": {},
     "output_type": "execute_result"
    }
   ],
   "source": [
    "90+80+78/300"
   ]
  },
  {
   "cell_type": "code",
   "execution_count": 4,
   "id": "0f700b84",
   "metadata": {},
   "outputs": [
    {
     "data": {
      "text/plain": [
       "3.2916666666666665"
      ]
     },
     "execution_count": 4,
     "metadata": {},
     "output_type": "execute_result"
    }
   ],
   "source": [
    "(90*3+80*3+70*4)/(90+80+70)"
   ]
  },
  {
   "cell_type": "code",
   "execution_count": 6,
   "id": "f94d3157",
   "metadata": {},
   "outputs": [
    {
     "data": {
      "text/plain": [
       "0.75"
      ]
     },
     "execution_count": 6,
     "metadata": {},
     "output_type": "execute_result"
    }
   ],
   "source": [
    "(7+9+8+6)/40"
   ]
  },
  {
   "cell_type": "code",
   "execution_count": 7,
   "id": "8af4869e",
   "metadata": {},
   "outputs": [
    {
     "data": {
      "text/plain": [
       "240"
      ]
     },
     "execution_count": 7,
     "metadata": {},
     "output_type": "execute_result"
    }
   ],
   "source": [
    "90+80+70"
   ]
  },
  {
   "cell_type": "code",
   "execution_count": 8,
   "id": "7aef4c83",
   "metadata": {},
   "outputs": [
    {
     "data": {
      "text/plain": [
       "0.8"
      ]
     },
     "execution_count": 8,
     "metadata": {},
     "output_type": "execute_result"
    }
   ],
   "source": [
    "240/300"
   ]
  },
  {
   "cell_type": "code",
   "execution_count": null,
   "id": "4ec248f1",
   "metadata": {},
   "outputs": [],
   "source": []
  }
 ],
 "metadata": {
  "kernelspec": {
   "display_name": "Python 3 (ipykernel)",
   "language": "python",
   "name": "python3"
  },
  "language_info": {
   "codemirror_mode": {
    "name": "ipython",
    "version": 3
   },
   "file_extension": ".py",
   "mimetype": "text/x-python",
   "name": "python",
   "nbconvert_exporter": "python",
   "pygments_lexer": "ipython3",
   "version": "3.9.7"
  }
 },
 "nbformat": 4,
 "nbformat_minor": 5
}
