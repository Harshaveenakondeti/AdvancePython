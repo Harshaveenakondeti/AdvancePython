{
 "cells": [
  {
   "cell_type": "code",
   "execution_count": 1,
   "id": "eaee0291",
   "metadata": {},
   "outputs": [],
   "source": [
    "class father:\n",
    "    pass"
   ]
  },
  {
   "cell_type": "code",
   "execution_count": 2,
   "id": "d5f67c47",
   "metadata": {},
   "outputs": [],
   "source": [
    "class mother:\n",
    "    pass"
   ]
  },
  {
   "cell_type": "code",
   "execution_count": 4,
   "id": "d2d3e5de",
   "metadata": {},
   "outputs": [],
   "source": [
    "class child(father,mother):  # multiple inheritance,order is imp\n",
    "    pass"
   ]
  },
  {
   "cell_type": "code",
   "execution_count": 5,
   "id": "755fbefb",
   "metadata": {},
   "outputs": [
    {
     "name": "stdout",
     "output_type": "stream",
     "text": [
      "Help on class child in module __main__:\n",
      "\n",
      "class child(father, mother)\n",
      " |  Method resolution order:\n",
      " |      child\n",
      " |      father\n",
      " |      mother\n",
      " |      builtins.object\n",
      " |  \n",
      " |  Data descriptors inherited from father:\n",
      " |  \n",
      " |  __dict__\n",
      " |      dictionary for instance variables (if defined)\n",
      " |  \n",
      " |  __weakref__\n",
      " |      list of weak references to the object (if defined)\n",
      "\n"
     ]
    }
   ],
   "source": [
    "help(child)"
   ]
  },
  {
   "cell_type": "code",
   "execution_count": 6,
   "id": "a0f6d5b0",
   "metadata": {},
   "outputs": [],
   "source": [
    "class child2(mother,father):\n",
    "    pass"
   ]
  },
  {
   "cell_type": "code",
   "execution_count": 7,
   "id": "e2464156",
   "metadata": {},
   "outputs": [
    {
     "name": "stdout",
     "output_type": "stream",
     "text": [
      "Help on class child2 in module __main__:\n",
      "\n",
      "class child2(mother, father)\n",
      " |  Method resolution order:\n",
      " |      child2\n",
      " |      mother\n",
      " |      father\n",
      " |      builtins.object\n",
      " |  \n",
      " |  Data descriptors inherited from mother:\n",
      " |  \n",
      " |  __dict__\n",
      " |      dictionary for instance variables (if defined)\n",
      " |  \n",
      " |  __weakref__\n",
      " |      list of weak references to the object (if defined)\n",
      "\n"
     ]
    }
   ],
   "source": [
    "help(child2)"
   ]
  },
  {
   "cell_type": "code",
   "execution_count": 10,
   "id": "c194c00c",
   "metadata": {},
   "outputs": [],
   "source": [
    "class father:\n",
    "    def height(self):\n",
    "        print('i have inheritence from father')\n",
    "class mother:\n",
    "    def intelligence(self):\n",
    "        print('i inherited from mother')"
   ]
  },
  {
   "cell_type": "code",
   "execution_count": 11,
   "id": "b6e81193",
   "metadata": {},
   "outputs": [],
   "source": [
    "c=child()"
   ]
  },
  {
   "cell_type": "code",
   "execution_count": 13,
   "id": "e9843d6b",
   "metadata": {},
   "outputs": [
    {
     "ename": "AttributeError",
     "evalue": "'child' object has no attribute 'height'",
     "output_type": "error",
     "traceback": [
      "\u001b[1;31m---------------------------------------------------------------------------\u001b[0m",
      "\u001b[1;31mAttributeError\u001b[0m                            Traceback (most recent call last)",
      "\u001b[1;32m~\\AppData\\Local\\Temp/ipykernel_2384/3946342690.py\u001b[0m in \u001b[0;36m<module>\u001b[1;34m\u001b[0m\n\u001b[1;32m----> 1\u001b[1;33m \u001b[0mc\u001b[0m\u001b[1;33m.\u001b[0m\u001b[0mheight\u001b[0m\u001b[1;33m(\u001b[0m\u001b[1;33m)\u001b[0m\u001b[1;33m\u001b[0m\u001b[1;33m\u001b[0m\u001b[0m\n\u001b[0m",
      "\u001b[1;31mAttributeError\u001b[0m: 'child' object has no attribute 'height'"
     ]
    }
   ],
   "source": [
    "c.height()"
   ]
  },
  {
   "cell_type": "code",
   "execution_count": null,
   "id": "f5222818",
   "metadata": {},
   "outputs": [],
   "source": [
    "class Base:\n",
    "\n",
    "\n",
    "\n",
    "def __init__(self,a,b):\n",
    "\n",
    "self.a = a\n",
    "\n",
    "self.b = b\n",
    "\n",
    "def fun1(self,calculation='add'):\n",
    "\n",
    "if (calculation=='add'):\n",
    "\n",
    "return self.a+self.b\n",
    "\n",
    "if (calculation=='multi'):\n",
    "\n",
    "return self.a*self.b\n",
    "\n",
    "\n",
    "\n",
    "class Derived(Base):\n",
    "\n",
    "\n",
    "\n",
    "def __init__(self,x=1,y=2):\n",
    "\n",
    "Base.__init__(self,x,y)\n",
    "\n",
    "self.x=x\n",
    "\n",
    "self.y=y\n",
    "\n",
    "\n",
    "\n",
    "def fun1(self):\n",
    "\n",
    "return self.x*self.y"
   ]
  }
 ],
 "metadata": {
  "kernelspec": {
   "display_name": "Python 3 (ipykernel)",
   "language": "python",
   "name": "python3"
  },
  "language_info": {
   "codemirror_mode": {
    "name": "ipython",
    "version": 3
   },
   "file_extension": ".py",
   "mimetype": "text/x-python",
   "name": "python",
   "nbconvert_exporter": "python",
   "pygments_lexer": "ipython3",
   "version": "3.9.7"
  }
 },
 "nbformat": 4,
 "nbformat_minor": 5
}
