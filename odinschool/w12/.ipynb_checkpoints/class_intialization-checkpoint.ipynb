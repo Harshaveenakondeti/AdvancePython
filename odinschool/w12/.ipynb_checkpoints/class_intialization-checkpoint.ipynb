{
 "cells": [
  {
   "cell_type": "code",
   "execution_count": 1,
   "id": "18273fdc",
   "metadata": {},
   "outputs": [],
   "source": [
    "class student():\n",
    "    def __init__(self):  # in general we use self, but we can us other name\n",
    "        print('initilaization started')"
   ]
  },
  {
   "cell_type": "code",
   "execution_count": 2,
   "id": "1838936f",
   "metadata": {},
   "outputs": [
    {
     "name": "stdout",
     "output_type": "stream",
     "text": [
      "initilaization started\n"
     ]
    }
   ],
   "source": [
    "s1=student()  # instance reated, automatically, init method is invokated"
   ]
  },
  {
   "cell_type": "code",
   "execution_count": 3,
   "id": "5195137f",
   "metadata": {},
   "outputs": [
    {
     "name": "stdout",
     "output_type": "stream",
     "text": [
      "initilaization started\n",
      "initilaization started\n"
     ]
    }
   ],
   "source": [
    "s2=student()\n",
    "s3=student()"
   ]
  },
  {
   "cell_type": "code",
   "execution_count": null,
   "id": "56e3e694",
   "metadata": {},
   "outputs": [],
   "source": [
    "constructoe is used to whenevr an object is reated init mehod is called"
   ]
  },
  {
   "cell_type": "code",
   "execution_count": 4,
   "id": "4ae4b8e5",
   "metadata": {},
   "outputs": [],
   "source": [
    "class student():\n",
    "    def __init__(boo):  # in general we use self, but we can us other name\n",
    "        print('initilaization started')"
   ]
  },
  {
   "cell_type": "code",
   "execution_count": 6,
   "id": "a3fa4c88",
   "metadata": {},
   "outputs": [
    {
     "name": "stdout",
     "output_type": "stream",
     "text": [
      "initilaization started\n"
     ]
    }
   ],
   "source": [
    "s1=student()"
   ]
  },
  {
   "cell_type": "code",
   "execution_count": 16,
   "id": "c2f60308",
   "metadata": {},
   "outputs": [],
   "source": [
    "class student():\n",
    "    def __init__(self,name): # we can give any number of variables\n",
    "        self.name=name   # self is not keyword, it is just name\n",
    "        self.email=name+'123@.com'\n",
    "        self.hello=name+'hello'"
   ]
  },
  {
   "cell_type": "code",
   "execution_count": 17,
   "id": "6dbc51e5",
   "metadata": {},
   "outputs": [
    {
     "ename": "TypeError",
     "evalue": "__init__() missing 1 required positional argument: 'name'",
     "output_type": "error",
     "traceback": [
      "\u001b[1;31m---------------------------------------------------------------------------\u001b[0m",
      "\u001b[1;31mTypeError\u001b[0m                                 Traceback (most recent call last)",
      "\u001b[1;32m~\\AppData\\Local\\Temp/ipykernel_12976/1337410622.py\u001b[0m in \u001b[0;36m<module>\u001b[1;34m\u001b[0m\n\u001b[1;32m----> 1\u001b[1;33m \u001b[0ms1\u001b[0m\u001b[1;33m=\u001b[0m\u001b[0mstudent\u001b[0m\u001b[1;33m(\u001b[0m\u001b[1;33m)\u001b[0m  \u001b[1;31m# we have to provide argument\u001b[0m\u001b[1;33m\u001b[0m\u001b[1;33m\u001b[0m\u001b[0m\n\u001b[0m",
      "\u001b[1;31mTypeError\u001b[0m: __init__() missing 1 required positional argument: 'name'"
     ]
    }
   ],
   "source": [
    "s1=student()  # we have to provide argument"
   ]
  },
  {
   "cell_type": "code",
   "execution_count": 18,
   "id": "da1ed8a0",
   "metadata": {},
   "outputs": [],
   "source": [
    "s1=student('veena')"
   ]
  },
  {
   "cell_type": "code",
   "execution_count": 19,
   "id": "135e2004",
   "metadata": {},
   "outputs": [
    {
     "data": {
      "text/plain": [
       "('veena', 'veena123@.com')"
      ]
     },
     "execution_count": 19,
     "metadata": {},
     "output_type": "execute_result"
    }
   ],
   "source": [
    "s1.name,s1.email"
   ]
  },
  {
   "cell_type": "code",
   "execution_count": 20,
   "id": "947c74fe",
   "metadata": {},
   "outputs": [
    {
     "ename": "TypeError",
     "evalue": "__init__() takes 2 positional arguments but 3 were given",
     "output_type": "error",
     "traceback": [
      "\u001b[1;31m---------------------------------------------------------------------------\u001b[0m",
      "\u001b[1;31mTypeError\u001b[0m                                 Traceback (most recent call last)",
      "\u001b[1;32m~\\AppData\\Local\\Temp/ipykernel_12976/643559661.py\u001b[0m in \u001b[0;36m<module>\u001b[1;34m\u001b[0m\n\u001b[1;32m----> 1\u001b[1;33m \u001b[0ms1\u001b[0m\u001b[1;33m=\u001b[0m\u001b[0mstudent\u001b[0m\u001b[1;33m(\u001b[0m\u001b[1;34m'harshe'\u001b[0m\u001b[1;33m,\u001b[0m\u001b[1;34m'harsha@123.com'\u001b[0m\u001b[1;33m)\u001b[0m\u001b[1;33m\u001b[0m\u001b[1;33m\u001b[0m\u001b[0m\n\u001b[0m",
      "\u001b[1;31mTypeError\u001b[0m: __init__() takes 2 positional arguments but 3 were given"
     ]
    }
   ],
   "source": [
    "s1=student('harshe','harsha@123.com')"
   ]
  },
  {
   "cell_type": "code",
   "execution_count": 21,
   "id": "b2352268",
   "metadata": {},
   "outputs": [
    {
     "data": {
      "text/plain": [
       "'veena'"
      ]
     },
     "execution_count": 21,
     "metadata": {},
     "output_type": "execute_result"
    }
   ],
   "source": [
    "s1.name  # name, is instance variable, s1 is instance"
   ]
  },
  {
   "cell_type": "code",
   "execution_count": 22,
   "id": "a758f8b5",
   "metadata": {},
   "outputs": [
    {
     "data": {
      "text/plain": [
       "'veena123@.com'"
      ]
     },
     "execution_count": 22,
     "metadata": {},
     "output_type": "execute_result"
    }
   ],
   "source": [
    "s1.email   # "
   ]
  },
  {
   "cell_type": "code",
   "execution_count": 23,
   "id": "69dfa335",
   "metadata": {},
   "outputs": [
    {
     "data": {
      "text/plain": [
       "'veenahello'"
      ]
     },
     "execution_count": 23,
     "metadata": {},
     "output_type": "execute_result"
    }
   ],
   "source": [
    "s1.hello"
   ]
  },
  {
   "cell_type": "code",
   "execution_count": 41,
   "id": "d812c7a9",
   "metadata": {},
   "outputs": [],
   "source": [
    "class student:\n",
    "    def __init__(self,first,last):\n",
    "        self.firstname=first\n",
    "        self.lastname=last\n",
    "        self.email=first+last+'123.com'\n",
    "    def fullname(self):\n",
    "        return self.firstname+self.lastname"
   ]
  },
  {
   "cell_type": "code",
   "execution_count": 42,
   "id": "52e2da0f",
   "metadata": {},
   "outputs": [],
   "source": [
    "hv=student('harsha','veena')"
   ]
  },
  {
   "cell_type": "code",
   "execution_count": 43,
   "id": "8590f6a6",
   "metadata": {},
   "outputs": [
    {
     "name": "stdout",
     "output_type": "stream",
     "text": [
      "harshaveena\n"
     ]
    }
   ],
   "source": [
    "print(hv.fullname())"
   ]
  },
  {
   "cell_type": "code",
   "execution_count": 44,
   "id": "58132f30",
   "metadata": {},
   "outputs": [],
   "source": [
    "s2=student('veena','ramesh')"
   ]
  },
  {
   "cell_type": "code",
   "execution_count": 45,
   "id": "0294261b",
   "metadata": {},
   "outputs": [
    {
     "data": {
      "text/plain": [
       "'veenaramesh'"
      ]
     },
     "execution_count": 45,
     "metadata": {},
     "output_type": "execute_result"
    }
   ],
   "source": [
    "s2.fullname()"
   ]
  },
  {
   "cell_type": "code",
   "execution_count": 46,
   "id": "aa0b790c",
   "metadata": {},
   "outputs": [],
   "source": [
    "del s2.firstname"
   ]
  },
  {
   "cell_type": "code",
   "execution_count": null,
   "id": "2fc3d9ff",
   "metadata": {},
   "outputs": [],
   "source": []
  }
 ],
 "metadata": {
  "kernelspec": {
   "display_name": "Python 3 (ipykernel)",
   "language": "python",
   "name": "python3"
  },
  "language_info": {
   "codemirror_mode": {
    "name": "ipython",
    "version": 3
   },
   "file_extension": ".py",
   "mimetype": "text/x-python",
   "name": "python",
   "nbconvert_exporter": "python",
   "pygments_lexer": "ipython3",
   "version": "3.9.7"
  }
 },
 "nbformat": 4,
 "nbformat_minor": 5
}
