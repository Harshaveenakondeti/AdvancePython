{
 "cells": [
  {
   "cell_type": "markdown",
   "id": "a8daa0fe",
   "metadata": {},
   "source": [
    "class= blueprint(it actually gives attributes & actons),collection of attributes & features or they denote specfic type\n",
    "objects= instance of particular class\n",
    "each object has their own features & actions\n",
    "every human being has eyes,ears. it is class\n",
    "one human being is instance of class"
   ]
  },
  {
   "cell_type": "code",
   "execution_count": 1,
   "id": "c953f862",
   "metadata": {},
   "outputs": [
    {
     "data": {
      "text/plain": [
       "'python'"
      ]
     },
     "execution_count": 1,
     "metadata": {},
     "output_type": "execute_result"
    }
   ],
   "source": [
    "name='python'\n",
    "name"
   ]
  },
  {
   "cell_type": "code",
   "execution_count": null,
   "id": "dfb3e22c",
   "metadata": {},
   "outputs": [],
   "source": [
    "here object is name str class, value is python. python is object & classes\n",
    "every object has different features.evary class has methods"
   ]
  },
  {
   "cell_type": "code",
   "execution_count": 2,
   "id": "394563c9",
   "metadata": {},
   "outputs": [],
   "source": [
    "test=[1,3,4]\n",
    "test.append(7)# adding"
   ]
  },
  {
   "cell_type": "code",
   "execution_count": 3,
   "id": "f670b3b3",
   "metadata": {},
   "outputs": [
    {
     "data": {
      "text/plain": [
       "[1, 3, 4, 7]"
      ]
     },
     "execution_count": 3,
     "metadata": {},
     "output_type": "execute_result"
    }
   ],
   "source": [
    "test"
   ]
  },
  {
   "cell_type": "markdown",
   "id": "46e4c1d4",
   "metadata": {},
   "source": [
    "here test list is class\n",
    "acess list using test\n",
    "we use method append for performing object"
   ]
  },
  {
   "cell_type": "code",
   "execution_count": 4,
   "id": "29bd150d",
   "metadata": {},
   "outputs": [],
   "source": [
    "class student:\n",
    "    pass"
   ]
  },
  {
   "cell_type": "code",
   "execution_count": 5,
   "id": "7e46634e",
   "metadata": {},
   "outputs": [
    {
     "data": {
      "text/plain": [
       "type"
      ]
     },
     "execution_count": 5,
     "metadata": {},
     "output_type": "execute_result"
    }
   ],
   "source": [
    "type(student)  # uliess we define instance.it gives type"
   ]
  },
  {
   "cell_type": "code",
   "execution_count": 6,
   "id": "aaba99b6",
   "metadata": {},
   "outputs": [],
   "source": [
    "object_1=student()  # name of object s object_1"
   ]
  },
  {
   "cell_type": "code",
   "execution_count": 7,
   "id": "fef2a2af",
   "metadata": {},
   "outputs": [],
   "source": [
    "object_2= student()"
   ]
  },
  {
   "cell_type": "code",
   "execution_count": null,
   "id": "88f14663",
   "metadata": {},
   "outputs": [],
   "source": [
    "boty save in different memory location"
   ]
  },
  {
   "cell_type": "code",
   "execution_count": 8,
   "id": "d60e46f1",
   "metadata": {},
   "outputs": [
    {
     "data": {
      "text/plain": [
       "<__main__.student at 0x28e2b93a580>"
      ]
     },
     "execution_count": 8,
     "metadata": {},
     "output_type": "execute_result"
    }
   ],
   "source": [
    "object_1"
   ]
  },
  {
   "cell_type": "code",
   "execution_count": 9,
   "id": "6967c56f",
   "metadata": {},
   "outputs": [
    {
     "data": {
      "text/plain": [
       "<__main__.student at 0x28e2b93a700>"
      ]
     },
     "execution_count": 9,
     "metadata": {},
     "output_type": "execute_result"
    }
   ],
   "source": [
    "object_2"
   ]
  },
  {
   "cell_type": "code",
   "execution_count": 10,
   "id": "4208c6a8",
   "metadata": {},
   "outputs": [
    {
     "data": {
      "text/plain": [
       "__main__.student"
      ]
     },
     "execution_count": 10,
     "metadata": {},
     "output_type": "execute_result"
    }
   ],
   "source": [
    "type(object_2)   # from student class"
   ]
  },
  {
   "cell_type": "code",
   "execution_count": 12,
   "id": "c700923e",
   "metadata": {},
   "outputs": [
    {
     "data": {
      "text/plain": [
       "True"
      ]
     },
     "execution_count": 12,
     "metadata": {},
     "output_type": "execute_result"
    }
   ],
   "source": [
    "isinstance(object_1,student)  # verify if this instance belong to that class"
   ]
  },
  {
   "cell_type": "code",
   "execution_count": 13,
   "id": "87854ba5",
   "metadata": {},
   "outputs": [
    {
     "ename": "NameError",
     "evalue": "name 'object_3' is not defined",
     "output_type": "error",
     "traceback": [
      "\u001b[1;31m---------------------------------------------------------------------------\u001b[0m",
      "\u001b[1;31mNameError\u001b[0m                                 Traceback (most recent call last)",
      "\u001b[1;32m~\\AppData\\Local\\Temp/ipykernel_1736/2590924091.py\u001b[0m in \u001b[0;36m<module>\u001b[1;34m\u001b[0m\n\u001b[1;32m----> 1\u001b[1;33m \u001b[0misinstance\u001b[0m\u001b[1;33m(\u001b[0m\u001b[0mobject_3\u001b[0m\u001b[1;33m,\u001b[0m\u001b[0mstudent\u001b[0m\u001b[1;33m)\u001b[0m\u001b[1;33m\u001b[0m\u001b[1;33m\u001b[0m\u001b[0m\n\u001b[0m",
      "\u001b[1;31mNameError\u001b[0m: name 'object_3' is not defined"
     ]
    }
   ],
   "source": [
    "isinstance(object_3,student)"
   ]
  },
  {
   "cell_type": "code",
   "execution_count": 14,
   "id": "4928a6c6",
   "metadata": {},
   "outputs": [],
   "source": [
    "object_3={}  # empty dict class"
   ]
  },
  {
   "cell_type": "code",
   "execution_count": 15,
   "id": "061d9d35",
   "metadata": {},
   "outputs": [
    {
     "data": {
      "text/plain": [
       "False"
      ]
     },
     "execution_count": 15,
     "metadata": {},
     "output_type": "execute_result"
    }
   ],
   "source": [
    "isinstance(object_3,student)"
   ]
  },
  {
   "cell_type": "code",
   "execution_count": 16,
   "id": "c0b177f5",
   "metadata": {},
   "outputs": [
    {
     "data": {
      "text/plain": [
       "True"
      ]
     },
     "execution_count": 16,
     "metadata": {},
     "output_type": "execute_result"
    }
   ],
   "source": [
    "isinstance(object_3,dict)"
   ]
  },
  {
   "cell_type": "code",
   "execution_count": 17,
   "id": "1645a4b8",
   "metadata": {},
   "outputs": [],
   "source": [
    "object_1.name='harsha'   # assiging variable son this object\n",
    "object_1.email='harsha@123'"
   ]
  },
  {
   "cell_type": "code",
   "execution_count": 18,
   "id": "eb91960c",
   "metadata": {},
   "outputs": [
    {
     "data": {
      "text/plain": [
       "'harsha'"
      ]
     },
     "execution_count": 18,
     "metadata": {},
     "output_type": "execute_result"
    }
   ],
   "source": [
    "object_1.name"
   ]
  },
  {
   "cell_type": "code",
   "execution_count": 19,
   "id": "10c49b97",
   "metadata": {},
   "outputs": [
    {
     "ename": "AttributeError",
     "evalue": "'student' object has no attribute 'school'",
     "output_type": "error",
     "traceback": [
      "\u001b[1;31m---------------------------------------------------------------------------\u001b[0m",
      "\u001b[1;31mAttributeError\u001b[0m                            Traceback (most recent call last)",
      "\u001b[1;32m~\\AppData\\Local\\Temp/ipykernel_1736/1676536974.py\u001b[0m in \u001b[0;36m<module>\u001b[1;34m\u001b[0m\n\u001b[1;32m----> 1\u001b[1;33m \u001b[0mobject_1\u001b[0m\u001b[1;33m.\u001b[0m\u001b[0mschool\u001b[0m\u001b[1;33m\u001b[0m\u001b[1;33m\u001b[0m\u001b[0m\n\u001b[0m",
      "\u001b[1;31mAttributeError\u001b[0m: 'student' object has no attribute 'school'"
     ]
    }
   ],
   "source": [
    "object_1.school"
   ]
  },
  {
   "cell_type": "code",
   "execution_count": 21,
   "id": "1e112b73",
   "metadata": {},
   "outputs": [],
   "source": [
    "object_2.name='veena'\n",
    "object_2.email='veena@123'"
   ]
  },
  {
   "cell_type": "code",
   "execution_count": 22,
   "id": "562d5afa",
   "metadata": {},
   "outputs": [
    {
     "data": {
      "text/plain": [
       "'veena@123'"
      ]
     },
     "execution_count": 22,
     "metadata": {},
     "output_type": "execute_result"
    }
   ],
   "source": [
    "object_2.email"
   ]
  },
  {
   "cell_type": "code",
   "execution_count": 23,
   "id": "e9c7ae7f",
   "metadata": {},
   "outputs": [
    {
     "ename": "AttributeError",
     "evalue": "'dict' object has no attribute 'name'",
     "output_type": "error",
     "traceback": [
      "\u001b[1;31m---------------------------------------------------------------------------\u001b[0m",
      "\u001b[1;31mAttributeError\u001b[0m                            Traceback (most recent call last)",
      "\u001b[1;32m~\\AppData\\Local\\Temp/ipykernel_1736/2055749472.py\u001b[0m in \u001b[0;36m<module>\u001b[1;34m\u001b[0m\n\u001b[0;32m      1\u001b[0m \u001b[0mobject\u001b[0m\u001b[1;33m=\u001b[0m\u001b[0mstudent\u001b[0m\u001b[1;33m(\u001b[0m\u001b[1;33m)\u001b[0m\u001b[1;33m\u001b[0m\u001b[1;33m\u001b[0m\u001b[0m\n\u001b[1;32m----> 2\u001b[1;33m \u001b[0mobject_3\u001b[0m\u001b[1;33m.\u001b[0m\u001b[0mname\u001b[0m  \u001b[1;31m# it shows attribute error\u001b[0m\u001b[1;33m\u001b[0m\u001b[1;33m\u001b[0m\u001b[0m\n\u001b[0m",
      "\u001b[1;31mAttributeError\u001b[0m: 'dict' object has no attribute 'name'"
     ]
    }
   ],
   "source": [
    "object=student()\n",
    "object_3.name  # it shows attribute error"
   ]
  },
  {
   "cell_type": "code",
   "execution_count": 24,
   "id": "8575c466",
   "metadata": {},
   "outputs": [],
   "source": [
    "# redefine class sudent\n",
    "class student:\n",
    "    name='harsha'\n",
    "    score=90\n",
    "    active=True   # class atrriutes"
   ]
  },
  {
   "cell_type": "code",
   "execution_count": 25,
   "id": "04e2647d",
   "metadata": {},
   "outputs": [],
   "source": [
    "s1=student()  # s1 is instance name"
   ]
  },
  {
   "cell_type": "code",
   "execution_count": 28,
   "id": "12373fe2",
   "metadata": {},
   "outputs": [
    {
     "data": {
      "text/plain": [
       "('harsha', 90, True)"
      ]
     },
     "execution_count": 28,
     "metadata": {},
     "output_type": "execute_result"
    }
   ],
   "source": [
    "s1.name,s1.score,s1.active  # it shows as tuple because , seperated value"
   ]
  },
  {
   "cell_type": "code",
   "execution_count": 29,
   "id": "36f4acb2",
   "metadata": {},
   "outputs": [],
   "source": [
    "s1.name='veena'   #name,score created at object level, it will not effect class\n",
    "s1.score=80   # preference for local variables"
   ]
  },
  {
   "cell_type": "code",
   "execution_count": 30,
   "id": "ef91981a",
   "metadata": {},
   "outputs": [
    {
     "data": {
      "text/plain": [
       "('veena', 80, True)"
      ]
     },
     "execution_count": 30,
     "metadata": {},
     "output_type": "execute_result"
    }
   ],
   "source": [
    "s1.name,s1.score,s1.active "
   ]
  },
  {
   "cell_type": "code",
   "execution_count": 31,
   "id": "0fbd4438",
   "metadata": {},
   "outputs": [
    {
     "data": {
      "text/plain": [
       "('harsha', 90, True)"
      ]
     },
     "execution_count": 31,
     "metadata": {},
     "output_type": "execute_result"
    }
   ],
   "source": [
    "s2=student()  # another instance\n",
    "s2.name,s2.score,s2.active"
   ]
  },
  {
   "cell_type": "code",
   "execution_count": 32,
   "id": "78a174ca",
   "metadata": {},
   "outputs": [],
   "source": [
    "s2.name='lily'  # name variable created for s2 instance object level"
   ]
  },
  {
   "cell_type": "code",
   "execution_count": 33,
   "id": "4cf891a3",
   "metadata": {},
   "outputs": [
    {
     "data": {
      "text/plain": [
       "('lily', 90, True)"
      ]
     },
     "execution_count": 33,
     "metadata": {},
     "output_type": "execute_result"
    }
   ],
   "source": [
    "s2.name,s2.score,s2.active"
   ]
  },
  {
   "cell_type": "code",
   "execution_count": null,
   "id": "a12e9fb8",
   "metadata": {},
   "outputs": [],
   "source": []
  }
 ],
 "metadata": {
  "kernelspec": {
   "display_name": "Python 3 (ipykernel)",
   "language": "python",
   "name": "python3"
  },
  "language_info": {
   "codemirror_mode": {
    "name": "ipython",
    "version": 3
   },
   "file_extension": ".py",
   "mimetype": "text/x-python",
   "name": "python",
   "nbconvert_exporter": "python",
   "pygments_lexer": "ipython3",
   "version": "3.9.7"
  }
 },
 "nbformat": 4,
 "nbformat_minor": 5
}
