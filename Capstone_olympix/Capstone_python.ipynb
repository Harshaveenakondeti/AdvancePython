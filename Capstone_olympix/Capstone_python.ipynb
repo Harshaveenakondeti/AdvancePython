{
 "cells": [
  {
   "cell_type": "markdown",
   "id": "5d60cbad",
   "metadata": {},
   "source": [
    "# Olympic Data Analysis with Python\n",
    "\n",
    "## Capstone project\n",
    "**By Harsha Veena**\n",
    "**On 10:7:2022**"
   ]
  },
  {
   "cell_type": "markdown",
   "id": "9eb7c03e",
   "metadata": {},
   "source": [
    "## Introduction:\n",
    "Olympic data is about winners information of different athletes from different country in their sport/game and their medals i particular year.we have 8618 winners information.\n",
    "            In this project, we are going to see the Olympics analysis using Python. The modern Olympic Games or Olympics are leading international sports events featuring summer and winter sports competitions in which thousands of athletes from around the world participate in a variety of competitions. The Olympic Games are considered the world’s foremost sports competition with more than 200 nations participating.\n",
    "         The total number of events in the Olympics is 339 in 33 sports. And for every event there are winners. Therefore various data is generated.So, by using Python we will analyze this data.We have **10 attributes with 8618 athletes** data.\n",
    "\n",
    "our attributes contain information like mention in following table:\n",
    "\n",
    "|information type|attributes|\n",
    "|--|--|\n",
    "|personal| name, age|\n",
    "|region| country|\n",
    "|tenure|year|\n",
    "|summary|sports,Date_Given,total_medal|\n",
    "|medal|gold,silver,bronze|\n",
    "\n",
    "\n",
    "**Data Description**\n",
    "1. **Name** is name of athlete, which is a string, **object** datatype.\n",
    "2. **age** is at which age, athlete won that, which can be continuous value, **float** datatype.\n",
    "3. **year** is which year they won of olympix, they won medal, which is specific umber, disrete **int** datatype.\n",
    "4. **Date_Given** on that date, they won medal, which should be in date format.\n",
    "5. **sports** is in which game they playes & won, which is unique string, so **object**, but we keep in **category** to reduce memory usage.\n",
    "6. **country** is from which country they represents, which is unique string or **object**, but we convert to **category** to reduce memory.\n",
    "7. **gold_medal** is athlete won number of gold medals, which is **discrete** number, so **int** format.\n",
    "8. **silver_medal** is the athlete won number of silver medals, which is **discrete** number, so **int** datatype.\n",
    "9. **brone_medal** is the athlete won number of bronze medals, which is **discrete** number , so **int** format.\n",
    "10. **total_medal** is the athlete won number of total medals, which is **discrete** number, so **int** format.\n",
    "\n",
    "## Objective:\n",
    "Our aim is to analyse given olympic data by statistically,visually and apply transformation where ever necessary and get insights from data & need to find top 10 countries with total number of medals in gold,silver,bronze .\n",
    "\n",
    "## Data Collection:\n",
    "Data was downloaded from odin school LMS portal and saved in local computer.Our data is in csv format. we need to convert to pandas to analyze. so first we need to install pandas which is library to analyse data in python. we need to import nummPy, which is library to do mathematical calculations.\n"
   ]
  },
  {
   "cell_type": "code",
   "execution_count": 1,
   "id": "9590d5b1",
   "metadata": {},
   "outputs": [],
   "source": [
    "# import required libraries\n",
    "import numpy as np\n",
    "import pandas as pd"
   ]
  },
  {
   "cell_type": "markdown",
   "id": "e3e1c935",
   "metadata": {},
   "source": [
    "## Read data in pandas"
   ]
  },
  {
   "cell_type": "code",
   "execution_count": 2,
   "id": "4a8fade0",
   "metadata": {},
   "outputs": [],
   "source": [
    "# read csv file into pandas dataframe\n",
    "df = pd.read_csv(\"C:/Users/Hp/Documents/datasets/olympix_data_organized_with_header (1) (1).csv\")"
   ]
  },
  {
   "cell_type": "markdown",
   "id": "1ab1e4e0",
   "metadata": {},
   "source": [
    "## Exploration of Data"
   ]
  },
  {
   "cell_type": "code",
   "execution_count": 3,
   "id": "aa9309f6",
   "metadata": {},
   "outputs": [
    {
     "data": {
      "text/html": [
       "<div>\n",
       "<style scoped>\n",
       "    .dataframe tbody tr th:only-of-type {\n",
       "        vertical-align: middle;\n",
       "    }\n",
       "\n",
       "    .dataframe tbody tr th {\n",
       "        vertical-align: top;\n",
       "    }\n",
       "\n",
       "    .dataframe thead th {\n",
       "        text-align: right;\n",
       "    }\n",
       "</style>\n",
       "<table border=\"1\" class=\"dataframe\">\n",
       "  <thead>\n",
       "    <tr style=\"text-align: right;\">\n",
       "      <th></th>\n",
       "      <th>name</th>\n",
       "      <th>age</th>\n",
       "      <th>country</th>\n",
       "      <th>year</th>\n",
       "      <th>Date_Given</th>\n",
       "      <th>sports</th>\n",
       "      <th>gold_medal</th>\n",
       "      <th>silver_medal</th>\n",
       "      <th>brone_medal</th>\n",
       "      <th>total_medal</th>\n",
       "    </tr>\n",
       "  </thead>\n",
       "  <tbody>\n",
       "    <tr>\n",
       "      <th>0</th>\n",
       "      <td>Michael Phelps</td>\n",
       "      <td>23.0</td>\n",
       "      <td>United States</td>\n",
       "      <td>2008</td>\n",
       "      <td>8/24/2008</td>\n",
       "      <td>Swimming</td>\n",
       "      <td>8</td>\n",
       "      <td>0</td>\n",
       "      <td>0</td>\n",
       "      <td>8</td>\n",
       "    </tr>\n",
       "    <tr>\n",
       "      <th>1</th>\n",
       "      <td>Michael Phelps</td>\n",
       "      <td>19.0</td>\n",
       "      <td>United States</td>\n",
       "      <td>2004</td>\n",
       "      <td>8/29/2004</td>\n",
       "      <td>Swimming</td>\n",
       "      <td>6</td>\n",
       "      <td>0</td>\n",
       "      <td>2</td>\n",
       "      <td>8</td>\n",
       "    </tr>\n",
       "    <tr>\n",
       "      <th>2</th>\n",
       "      <td>Michael Phelps</td>\n",
       "      <td>27.0</td>\n",
       "      <td>United States</td>\n",
       "      <td>2012</td>\n",
       "      <td>08-12-2012</td>\n",
       "      <td>Swimming</td>\n",
       "      <td>4</td>\n",
       "      <td>2</td>\n",
       "      <td>0</td>\n",
       "      <td>6</td>\n",
       "    </tr>\n",
       "    <tr>\n",
       "      <th>3</th>\n",
       "      <td>Natalie Coughlin</td>\n",
       "      <td>25.0</td>\n",
       "      <td>United States</td>\n",
       "      <td>2008</td>\n",
       "      <td>8/24/2008</td>\n",
       "      <td>Swimming</td>\n",
       "      <td>1</td>\n",
       "      <td>2</td>\n",
       "      <td>3</td>\n",
       "      <td>6</td>\n",
       "    </tr>\n",
       "    <tr>\n",
       "      <th>4</th>\n",
       "      <td>Aleksey Nemov</td>\n",
       "      <td>24.0</td>\n",
       "      <td>Russia</td>\n",
       "      <td>2000</td>\n",
       "      <td>10-01-2000</td>\n",
       "      <td>Gymnastics</td>\n",
       "      <td>2</td>\n",
       "      <td>1</td>\n",
       "      <td>3</td>\n",
       "      <td>6</td>\n",
       "    </tr>\n",
       "  </tbody>\n",
       "</table>\n",
       "</div>"
      ],
      "text/plain": [
       "               name   age        country  year  Date_Given      sports  \\\n",
       "0    Michael Phelps  23.0  United States  2008   8/24/2008    Swimming   \n",
       "1    Michael Phelps  19.0  United States  2004   8/29/2004    Swimming   \n",
       "2    Michael Phelps  27.0  United States  2012  08-12-2012    Swimming   \n",
       "3  Natalie Coughlin  25.0  United States  2008   8/24/2008    Swimming   \n",
       "4     Aleksey Nemov  24.0         Russia  2000  10-01-2000  Gymnastics   \n",
       "\n",
       "   gold_medal  silver_medal  brone_medal  total_medal  \n",
       "0           8             0            0            8  \n",
       "1           6             0            2            8  \n",
       "2           4             2            0            6  \n",
       "3           1             2            3            6  \n",
       "4           2             1            3            6  "
      ]
     },
     "execution_count": 3,
     "metadata": {},
     "output_type": "execute_result"
    }
   ],
   "source": [
    "df.head()  # display top 5 rows"
   ]
  },
  {
   "cell_type": "code",
   "execution_count": 4,
   "id": "9f0c2f16",
   "metadata": {},
   "outputs": [
    {
     "data": {
      "text/html": [
       "<div>\n",
       "<style scoped>\n",
       "    .dataframe tbody tr th:only-of-type {\n",
       "        vertical-align: middle;\n",
       "    }\n",
       "\n",
       "    .dataframe tbody tr th {\n",
       "        vertical-align: top;\n",
       "    }\n",
       "\n",
       "    .dataframe thead th {\n",
       "        text-align: right;\n",
       "    }\n",
       "</style>\n",
       "<table border=\"1\" class=\"dataframe\">\n",
       "  <thead>\n",
       "    <tr style=\"text-align: right;\">\n",
       "      <th></th>\n",
       "      <th>name</th>\n",
       "      <th>age</th>\n",
       "      <th>country</th>\n",
       "      <th>year</th>\n",
       "      <th>Date_Given</th>\n",
       "      <th>sports</th>\n",
       "      <th>gold_medal</th>\n",
       "      <th>silver_medal</th>\n",
       "      <th>brone_medal</th>\n",
       "      <th>total_medal</th>\n",
       "    </tr>\n",
       "  </thead>\n",
       "  <tbody>\n",
       "    <tr>\n",
       "      <th>8613</th>\n",
       "      <td>Olena Sadovnycha</td>\n",
       "      <td>32.0</td>\n",
       "      <td>Ukraine</td>\n",
       "      <td>2000</td>\n",
       "      <td>10-01-2000</td>\n",
       "      <td>Archery</td>\n",
       "      <td>0</td>\n",
       "      <td>1</td>\n",
       "      <td>0</td>\n",
       "      <td>1</td>\n",
       "    </tr>\n",
       "    <tr>\n",
       "      <th>8614</th>\n",
       "      <td>Kateryna Serdiuk</td>\n",
       "      <td>17.0</td>\n",
       "      <td>Ukraine</td>\n",
       "      <td>2000</td>\n",
       "      <td>10-01-2000</td>\n",
       "      <td>Archery</td>\n",
       "      <td>0</td>\n",
       "      <td>1</td>\n",
       "      <td>0</td>\n",
       "      <td>1</td>\n",
       "    </tr>\n",
       "    <tr>\n",
       "      <th>8615</th>\n",
       "      <td>Wietse van Alten</td>\n",
       "      <td>21.0</td>\n",
       "      <td>Netherlands</td>\n",
       "      <td>2000</td>\n",
       "      <td>10-01-2000</td>\n",
       "      <td>Archery</td>\n",
       "      <td>0</td>\n",
       "      <td>0</td>\n",
       "      <td>1</td>\n",
       "      <td>1</td>\n",
       "    </tr>\n",
       "    <tr>\n",
       "      <th>8616</th>\n",
       "      <td>Sandra Wagner-Sachse</td>\n",
       "      <td>31.0</td>\n",
       "      <td>Germany</td>\n",
       "      <td>2000</td>\n",
       "      <td>10-01-2000</td>\n",
       "      <td>Archery</td>\n",
       "      <td>0</td>\n",
       "      <td>0</td>\n",
       "      <td>1</td>\n",
       "      <td>1</td>\n",
       "    </tr>\n",
       "    <tr>\n",
       "      <th>8617</th>\n",
       "      <td>Rod White</td>\n",
       "      <td>23.0</td>\n",
       "      <td>United States</td>\n",
       "      <td>2000</td>\n",
       "      <td>10-01-2000</td>\n",
       "      <td>Archery</td>\n",
       "      <td>0</td>\n",
       "      <td>0</td>\n",
       "      <td>1</td>\n",
       "      <td>1</td>\n",
       "    </tr>\n",
       "  </tbody>\n",
       "</table>\n",
       "</div>"
      ],
      "text/plain": [
       "                      name   age        country  year  Date_Given   sports  \\\n",
       "8613      Olena Sadovnycha  32.0        Ukraine  2000  10-01-2000  Archery   \n",
       "8614      Kateryna Serdiuk  17.0        Ukraine  2000  10-01-2000  Archery   \n",
       "8615      Wietse van Alten  21.0    Netherlands  2000  10-01-2000  Archery   \n",
       "8616  Sandra Wagner-Sachse  31.0        Germany  2000  10-01-2000  Archery   \n",
       "8617             Rod White  23.0  United States  2000  10-01-2000  Archery   \n",
       "\n",
       "      gold_medal  silver_medal  brone_medal  total_medal  \n",
       "8613           0             1            0            1  \n",
       "8614           0             1            0            1  \n",
       "8615           0             0            1            1  \n",
       "8616           0             0            1            1  \n",
       "8617           0             0            1            1  "
      ]
     },
     "execution_count": 4,
     "metadata": {},
     "output_type": "execute_result"
    }
   ],
   "source": [
    "df.tail()  # display botom 5 rows"
   ]
  },
  {
   "cell_type": "code",
   "execution_count": 5,
   "id": "ad59c2f4",
   "metadata": {},
   "outputs": [
    {
     "data": {
      "text/plain": [
       "Index(['name', 'age', 'country', 'year', 'Date_Given', 'sports', 'gold_medal',\n",
       "       'silver_medal', 'brone_medal', 'total_medal'],\n",
       "      dtype='object')"
      ]
     },
     "execution_count": 5,
     "metadata": {},
     "output_type": "execute_result"
    }
   ],
   "source": [
    "df.columns # display list of columns"
   ]
  },
  {
   "cell_type": "code",
   "execution_count": 6,
   "id": "096180be",
   "metadata": {},
   "outputs": [
    {
     "data": {
      "text/plain": [
       "(8618, 10)"
      ]
     },
     "execution_count": 6,
     "metadata": {},
     "output_type": "execute_result"
    }
   ],
   "source": [
    "df.shape # diaplay number of rows & columns"
   ]
  },
  {
   "cell_type": "markdown",
   "id": "b02a9621",
   "metadata": {},
   "source": [
    "we have 8618 rows with 10 columns. we may have duplicates in data. so we need to find number of duplicates & remove it."
   ]
  },
  {
   "cell_type": "code",
   "execution_count": 7,
   "id": "e02f2855",
   "metadata": {},
   "outputs": [
    {
     "data": {
      "text/plain": [
       "3"
      ]
     },
     "execution_count": 7,
     "metadata": {},
     "output_type": "execute_result"
    }
   ],
   "source": [
    "df.duplicated().sum()  # count duplicate values in dataframe"
   ]
  },
  {
   "cell_type": "markdown",
   "id": "d993a0a3",
   "metadata": {},
   "source": [
    "we have 3 duplicates,duplicates intoduce bias in analysis & gives slight error. so we will drop them."
   ]
  },
  {
   "cell_type": "code",
   "execution_count": 8,
   "id": "8c68e790",
   "metadata": {},
   "outputs": [
    {
     "data": {
      "text/plain": [
       "(8615, 10)"
      ]
     },
     "execution_count": 8,
     "metadata": {},
     "output_type": "execute_result"
    }
   ],
   "source": [
    "df.drop_duplicates(inplace=True)  # drop duplicates in data\n",
    "df.shape   # after dropping duplicates, verify count of rows & columns"
   ]
  },
  {
   "cell_type": "markdown",
   "id": "c6466790",
   "metadata": {},
   "source": [
    "After dropping duplicates, we have 8615 rows & 10 columns, our data may contain missing values. we have to deal them."
   ]
  },
  {
   "cell_type": "code",
   "execution_count": 9,
   "id": "62b85f3d",
   "metadata": {},
   "outputs": [
    {
     "data": {
      "text/plain": [
       "name            2\n",
       "age             2\n",
       "country         0\n",
       "year            0\n",
       "Date_Given      0\n",
       "sports          0\n",
       "gold_medal      0\n",
       "silver_medal    0\n",
       "brone_medal     0\n",
       "total_medal     0\n",
       "dtype: int64"
      ]
     },
     "execution_count": 9,
     "metadata": {},
     "output_type": "execute_result"
    }
   ],
   "source": [
    "df.isnull().sum()  # count of null values present"
   ]
  },
  {
   "cell_type": "markdown",
   "id": "c0d9848a",
   "metadata": {},
   "source": [
    "we have 2 rows of name, 2 rows of column contain null values, as it is very less quantity,it will not affect data by dropping them, first let us see the rows contain null values."
   ]
  },
  {
   "cell_type": "code",
   "execution_count": 10,
   "id": "7872696b",
   "metadata": {},
   "outputs": [],
   "source": [
    "nan_rows = df [df.isna ().any (axis=1)]  # on which rows nul value presents"
   ]
  },
  {
   "cell_type": "code",
   "execution_count": 11,
   "id": "0a12caa8",
   "metadata": {},
   "outputs": [
    {
     "data": {
      "text/html": [
       "<div>\n",
       "<style scoped>\n",
       "    .dataframe tbody tr th:only-of-type {\n",
       "        vertical-align: middle;\n",
       "    }\n",
       "\n",
       "    .dataframe tbody tr th {\n",
       "        vertical-align: top;\n",
       "    }\n",
       "\n",
       "    .dataframe thead th {\n",
       "        text-align: right;\n",
       "    }\n",
       "</style>\n",
       "<table border=\"1\" class=\"dataframe\">\n",
       "  <thead>\n",
       "    <tr style=\"text-align: right;\">\n",
       "      <th></th>\n",
       "      <th>name</th>\n",
       "      <th>age</th>\n",
       "      <th>country</th>\n",
       "      <th>year</th>\n",
       "      <th>Date_Given</th>\n",
       "      <th>sports</th>\n",
       "      <th>gold_medal</th>\n",
       "      <th>silver_medal</th>\n",
       "      <th>brone_medal</th>\n",
       "      <th>total_medal</th>\n",
       "    </tr>\n",
       "  </thead>\n",
       "  <tbody>\n",
       "    <tr>\n",
       "      <th>1428</th>\n",
       "      <td>NaN</td>\n",
       "      <td>NaN</td>\n",
       "      <td>Brazil</td>\n",
       "      <td>2012</td>\n",
       "      <td>08-12-2012</td>\n",
       "      <td>Volleyball</td>\n",
       "      <td>0</td>\n",
       "      <td>1</td>\n",
       "      <td>0</td>\n",
       "      <td>1</td>\n",
       "    </tr>\n",
       "    <tr>\n",
       "      <th>4485</th>\n",
       "      <td>NaN</td>\n",
       "      <td>NaN</td>\n",
       "      <td>Argentina</td>\n",
       "      <td>2012</td>\n",
       "      <td>08-12-2012</td>\n",
       "      <td>Hockey</td>\n",
       "      <td>0</td>\n",
       "      <td>1</td>\n",
       "      <td>0</td>\n",
       "      <td>1</td>\n",
       "    </tr>\n",
       "  </tbody>\n",
       "</table>\n",
       "</div>"
      ],
      "text/plain": [
       "     name  age    country  year  Date_Given      sports  gold_medal  \\\n",
       "1428  NaN  NaN     Brazil  2012  08-12-2012  Volleyball           0   \n",
       "4485  NaN  NaN  Argentina  2012  08-12-2012      Hockey           0   \n",
       "\n",
       "      silver_medal  brone_medal  total_medal  \n",
       "1428             1            0            1  \n",
       "4485             1            0            1  "
      ]
     },
     "execution_count": 11,
     "metadata": {},
     "output_type": "execute_result"
    }
   ],
   "source": [
    "nan_rows  # display of null value contain rows"
   ]
  },
  {
   "cell_type": "markdown",
   "id": "56f0030c",
   "metadata": {},
   "source": [
    "As null values in same year, for silver medal, but for different sports and different country, so if we remove also , it didnt effect our data. as we have to find count of medals by country, it didt make much difference, but we will try to fill name and age coumns . as age is numerical , we calculate its skewness value to check it is symmetric or skewed.if it is symmetric data we can fill by mean, if it is skewed data, we fill by median. as name is object & treat like categorical value, for categorical value, we will fill by mode."
   ]
  },
  {
   "cell_type": "code",
   "execution_count": 12,
   "id": "933b23f3",
   "metadata": {},
   "outputs": [
    {
     "data": {
      "text/plain": [
       "0           Anky van Grunsven\n",
       "1              Artur Taymazov\n",
       "2                 Ben Ainslie\n",
       "3             Bradley Wiggins\n",
       "4                Brenda Villa\n",
       "5                   Chris Hoy\n",
       "6     Christie Pearce-Rampone\n",
       "7              Emilie Heymans\n",
       "8              Eskild Ebbesen\n",
       "9               Heather Petri\n",
       "10                Jason Lezak\n",
       "11             Katalin Kovács\n",
       "12         Katherine Grainger\n",
       "13     Katrin Wagner-Augustin\n",
       "14                  Kim Rhode\n",
       "15            Kristi Harrower\n",
       "16             Lauren Jackson\n",
       "17               Leisel Jones\n",
       "18                Lucha Aymar\n",
       "19                 Matt Wells\n",
       "20            Michal Martikán\n",
       "21         Pavol Hochschorner\n",
       "22         Peter Hochschorner\n",
       "23             Robert Scheidt\n",
       "24           Sergey Tetyukhin\n",
       "25          Valentina Vezzali\n",
       "26    Veronica Campbell-Brown\n",
       "27                   Wang Hao\n",
       "28                   Yang Wei\n",
       "dtype: object"
      ]
     },
     "execution_count": 12,
     "metadata": {},
     "output_type": "execute_result"
    }
   ],
   "source": [
    "df['name'].mode()   # most frequent name in column"
   ]
  },
  {
   "cell_type": "code",
   "execution_count": 18,
   "id": "faafdfc7",
   "metadata": {},
   "outputs": [
    {
     "data": {
      "text/plain": [
       "0    24.0\n",
       "dtype: float64"
      ]
     },
     "execution_count": 18,
     "metadata": {},
     "output_type": "execute_result"
    }
   ],
   "source": [
    "df['age'].mode()  # most frequent age"
   ]
  },
  {
   "cell_type": "code",
   "execution_count": 13,
   "id": "91226e26",
   "metadata": {},
   "outputs": [
    {
     "data": {
      "text/plain": [
       "24.0    717\n",
       "26.0    705\n",
       "23.0    691\n",
       "25.0    683\n",
       "27.0    658\n",
       "28.0    651\n",
       "22.0    644\n",
       "29.0    526\n",
       "21.0    458\n",
       "30.0    452\n",
       "31.0    352\n",
       "20.0    329\n",
       "32.0    309\n",
       "19.0    222\n",
       "33.0    217\n",
       "34.0    179\n",
       "35.0    130\n",
       "18.0    129\n",
       "36.0    111\n",
       "17.0     76\n",
       "16.0     60\n",
       "37.0     53\n",
       "38.0     51\n",
       "39.0     40\n",
       "40.0     31\n",
       "42.0     20\n",
       "43.0     18\n",
       "15.0     18\n",
       "41.0     18\n",
       "44.0     15\n",
       "46.0     15\n",
       "45.0     13\n",
       "47.0      6\n",
       "49.0      4\n",
       "51.0      3\n",
       "52.0      2\n",
       "50.0      2\n",
       "54.0      1\n",
       "56.0      1\n",
       "55.0      1\n",
       "61.0      1\n",
       "48.0      1\n",
       "Name: age, dtype: int64"
      ]
     },
     "execution_count": 13,
     "metadata": {},
     "output_type": "execute_result"
    }
   ],
   "source": [
    "df['age'].value_counts()  # how many times same age repeats"
   ]
  },
  {
   "cell_type": "code",
   "execution_count": 15,
   "id": "f38204e0",
   "metadata": {},
   "outputs": [],
   "source": [
    "# import visualization libraries\n",
    "import matplotlib.pyplot as plt\n",
    "import seaborn as sns"
   ]
  },
  {
   "cell_type": "code",
   "execution_count": 16,
   "id": "373af7ae",
   "metadata": {},
   "outputs": [
    {
     "name": "stderr",
     "output_type": "stream",
     "text": [
      "C:\\Users\\Hp\\anaconda3\\lib\\site-packages\\seaborn\\_decorators.py:36: FutureWarning: Pass the following variable as a keyword arg: x. From version 0.12, the only valid positional argument will be `data`, and passing other arguments without an explicit keyword will result in an error or misinterpretation.\n",
      "  warnings.warn(\n"
     ]
    },
    {
     "data": {
      "text/plain": [
       "<AxesSubplot:xlabel='age'>"
      ]
     },
     "execution_count": 16,
     "metadata": {},
     "output_type": "execute_result"
    },
    {
     "data": {
      "image/png": "[encoded data removed]",
      "text/plain": [
       "<Figure size 432x288 with 1 Axes>"
      ]
     },
     "metadata": {
      "needs_background": "light"
     },
     "output_type": "display_data"
    }
   ],
   "source": [
    "sns.boxplot(df['age'])   # To check outliers & distribution of data"
   ]
  },
  {
   "cell_type": "markdown",
   "id": "3b4d6d0a",
   "metadata": {},
   "source": [
    "Here it shows outliers between 40-60. but in real life athletes wn medals in that age also, so we need not worry about it.Here median lies around 25 & quRtiles lie between ~22 -~30, which means most athletes are in this age range only.As plot shows symmetric with outliers, it may be slightly skewed toward right. we plot hdst plot for more clarity"
   ]
  },
  {
   "cell_type": "code",
   "execution_count": 17,
   "id": "9f458800",
   "metadata": {},
   "outputs": [
    {
     "name": "stderr",
     "output_type": "stream",
     "text": [
      "C:\\Users\\Hp\\anaconda3\\lib\\site-packages\\seaborn\\distributions.py:2619: FutureWarning: `distplot` is a deprecated function and will be removed in a future version. Please adapt your code to use either `displot` (a figure-level function with similar flexibility) or `histplot` (an axes-level function for histograms).\n",
      "  warnings.warn(msg, FutureWarning)\n"
     ]
    },
    {
     "data": {
      "text/plain": [
       "<AxesSubplot:xlabel='age', ylabel='Density'>"
      ]
     },
     "execution_count": 17,
     "metadata": {},
     "output_type": "execute_result"
    },
    {
     "data": {
      "image/png": "[encoded data removed]",
      "text/plain": [
       "<Figure size 432x288 with 1 Axes>"
      ]
     },
     "metadata": {
      "needs_background": "light"
     },
     "output_type": "display_data"
    }
   ],
   "source": [
    "sns.distplot(df['age'])  # examin distribution"
   ]
  },
  {
   "cell_type": "markdown",
   "id": "b6baa9a6",
   "metadata": {},
   "source": [
    "This plot shows data distribution is slightly skewed. most of data lies around 15 to 40 age range.Let us calculate skewness value for exact value."
   ]
  },
  {
   "cell_type": "code",
   "execution_count": 18,
   "id": "3172cf0b",
   "metadata": {},
   "outputs": [
    {
     "data": {
      "text/plain": [
       "0.8590070668484233"
      ]
     },
     "execution_count": 18,
     "metadata": {},
     "output_type": "execute_result"
    }
   ],
   "source": [
    "df['age'].skew()  # to examine distribution"
   ]
  },
  {
   "cell_type": "markdown",
   "id": "354d3839",
   "metadata": {},
   "source": [
    "As it is skewed data towards right. and also skew value is >0.5. so it is moderately skewed. we have to replace missing values with its median. "
   ]
  },
  {
   "cell_type": "code",
   "execution_count": 19,
   "id": "fc24d5a9",
   "metadata": {},
   "outputs": [
    {
     "data": {
      "text/plain": [
       "26.0"
      ]
     },
     "execution_count": 19,
     "metadata": {},
     "output_type": "execute_result"
    }
   ],
   "source": [
    "df['age'].median()  # medain of age"
   ]
  },
  {
   "cell_type": "markdown",
   "id": "789a7c05",
   "metadata": {},
   "source": [
    "But this data contain information of different years, so we will find median of age in null value row year which is 2012. so we need to group data by year and calulate medain of age in particular year."
   ]
  },
  {
   "cell_type": "code",
   "execution_count": 20,
   "id": "305ceb42",
   "metadata": {},
   "outputs": [],
   "source": [
    "df_ay = df['age'].groupby(df['year'])\n",
    "# group by year, because our daat contains different years info"
   ]
  },
  {
   "cell_type": "code",
   "execution_count": 21,
   "id": "002ab092",
   "metadata": {},
   "outputs": [
    {
     "data": {
      "text/plain": [
       "year\n",
       "2000    26.0\n",
       "2002    27.0\n",
       "2004    26.0\n",
       "2006    28.0\n",
       "2008    26.0\n",
       "2010    26.0\n",
       "2012    26.0\n",
       "Name: age, dtype: float64"
      ]
     },
     "execution_count": 21,
     "metadata": {},
     "output_type": "execute_result"
    }
   ],
   "source": [
    "df_ay.median()  # median of age according to years"
   ]
  },
  {
   "cell_type": "markdown",
   "id": "f7649cda",
   "metadata": {},
   "source": [
    "we have missing values in 2012. so we will replace its value with 26"
   ]
  },
  {
   "cell_type": "code",
   "execution_count": 22,
   "id": "21400733",
   "metadata": {},
   "outputs": [],
   "source": [
    "df['age'] = df['age'].fillna(26)  # filling null value with medain of age in year 2012(which is null value year)"
   ]
  },
  {
   "cell_type": "code",
   "execution_count": 23,
   "id": "0f18dcc6",
   "metadata": {},
   "outputs": [
    {
     "data": {
      "text/plain": [
       "0"
      ]
     },
     "execution_count": 23,
     "metadata": {},
     "output_type": "execute_result"
    }
   ],
   "source": [
    "df['age'].isna().sum() # verify count of nulls after filling with medain"
   ]
  },
  {
   "cell_type": "markdown",
   "id": "90c80213",
   "metadata": {},
   "source": [
    "As it is skewed data, we have o apply transformation\n",
    "\n",
    "|skew| Moderate|High| Higher| Extreme|\n",
    "|---|---|---|---|----|\n",
    "|positive/right tail|square root transformation| log| log base 10| Inverse\n",
    "|negative/;eft tail| reflect then square root| reflect then log|reflect then log base 10| reflect then inverse\n",
    "\n",
    "Here we have value of 0.8 , which means moderately positive skewed. se we use square root tramsformation.\n"
   ]
  },
  {
   "cell_type": "code",
   "execution_count": 24,
   "id": "a9d536b2",
   "metadata": {},
   "outputs": [],
   "source": [
    "df['age']=np.sqrt(df['age'])  # applying tranformation "
   ]
  },
  {
   "cell_type": "code",
   "execution_count": 25,
   "id": "e7b4188b",
   "metadata": {},
   "outputs": [
    {
     "data": {
      "text/plain": [
       "0.48991777592813834"
      ]
     },
     "execution_count": 25,
     "metadata": {},
     "output_type": "execute_result"
    }
   ],
   "source": [
    "df['age'].skew()  # check skewness value after transformation"
   ]
  },
  {
   "cell_type": "markdown",
   "id": "0c681c40",
   "metadata": {},
   "source": [
    "Now, it became approximately symmetric after square root tranformation"
   ]
  },
  {
   "cell_type": "code",
   "execution_count": 26,
   "id": "91b09b56",
   "metadata": {},
   "outputs": [
    {
     "name": "stderr",
     "output_type": "stream",
     "text": [
      "C:\\Users\\Hp\\anaconda3\\lib\\site-packages\\seaborn\\distributions.py:2619: FutureWarning: `distplot` is a deprecated function and will be removed in a future version. Please adapt your code to use either `displot` (a figure-level function with similar flexibility) or `histplot` (an axes-level function for histograms).\n",
      "  warnings.warn(msg, FutureWarning)\n"
     ]
    },
    {
     "data": {
      "text/plain": [
       "<AxesSubplot:xlabel='age', ylabel='Density'>"
      ]
     },
     "execution_count": 26,
     "metadata": {},
     "output_type": "execute_result"
    },
    {
     "data": {
      "image/png": "[encoded data removed]",
      "text/plain": [
       "<Figure size 432x288 with 1 Axes>"
      ]
     },
     "metadata": {
      "needs_background": "light"
     },
     "output_type": "display_data"
    }
   ],
   "source": [
    "sns.distplot(df['age'])  # after transformation, examine distribution of age data"
   ]
  },
  {
   "cell_type": "markdown",
   "id": "c73b2b10",
   "metadata": {},
   "source": [
    "Now it is converted to symmetric data after transforming."
   ]
  },
  {
   "cell_type": "code",
   "execution_count": 27,
   "id": "3ffe6f43",
   "metadata": {},
   "outputs": [
    {
     "data": {
      "text/plain": [
       "Matt Wells          4\n",
       "Jason Lezak         4\n",
       "Sergey Tetyukhin    4\n",
       "Leisel Jones        4\n",
       "Artur Taymazov      4\n",
       "                   ..\n",
       "Melanie Kok         1\n",
       "Jin Ziwei           1\n",
       "Michal Jelinski     1\n",
       "Josh Inman          1\n",
       "Rod White           1\n",
       "Name: name, Length: 6955, dtype: int64"
      ]
     },
     "execution_count": 27,
     "metadata": {},
     "output_type": "execute_result"
    }
   ],
   "source": [
    "df['name'].value_counts()  # how many times each time replats"
   ]
  },
  {
   "cell_type": "code",
   "execution_count": 28,
   "id": "7268a1cb",
   "metadata": {},
   "outputs": [
    {
     "data": {
      "text/html": [
       "<div>\n",
       "<style scoped>\n",
       "    .dataframe tbody tr th:only-of-type {\n",
       "        vertical-align: middle;\n",
       "    }\n",
       "\n",
       "    .dataframe tbody tr th {\n",
       "        vertical-align: top;\n",
       "    }\n",
       "\n",
       "    .dataframe thead th {\n",
       "        text-align: right;\n",
       "    }\n",
       "</style>\n",
       "<table border=\"1\" class=\"dataframe\">\n",
       "  <thead>\n",
       "    <tr style=\"text-align: right;\">\n",
       "      <th></th>\n",
       "      <th>name</th>\n",
       "      <th>age</th>\n",
       "      <th>country</th>\n",
       "      <th>year</th>\n",
       "      <th>Date_Given</th>\n",
       "      <th>sports</th>\n",
       "      <th>gold_medal</th>\n",
       "      <th>silver_medal</th>\n",
       "      <th>brone_medal</th>\n",
       "      <th>total_medal</th>\n",
       "    </tr>\n",
       "  </thead>\n",
       "  <tbody>\n",
       "    <tr>\n",
       "      <th>1428</th>\n",
       "      <td>NaN</td>\n",
       "      <td>5.099020</td>\n",
       "      <td>Brazil</td>\n",
       "      <td>2012</td>\n",
       "      <td>08-12-2012</td>\n",
       "      <td>Volleyball</td>\n",
       "      <td>0</td>\n",
       "      <td>1</td>\n",
       "      <td>0</td>\n",
       "      <td>1</td>\n",
       "    </tr>\n",
       "    <tr>\n",
       "      <th>1431</th>\n",
       "      <td>Foluke Akinradewo</td>\n",
       "      <td>4.898979</td>\n",
       "      <td>United States</td>\n",
       "      <td>2012</td>\n",
       "      <td>08-12-2012</td>\n",
       "      <td>Volleyball</td>\n",
       "      <td>0</td>\n",
       "      <td>1</td>\n",
       "      <td>0</td>\n",
       "      <td>1</td>\n",
       "    </tr>\n",
       "    <tr>\n",
       "      <th>1432</th>\n",
       "      <td>Thiago Alves</td>\n",
       "      <td>5.099020</td>\n",
       "      <td>Brazil</td>\n",
       "      <td>2012</td>\n",
       "      <td>08-12-2012</td>\n",
       "      <td>Volleyball</td>\n",
       "      <td>0</td>\n",
       "      <td>1</td>\n",
       "      <td>0</td>\n",
       "      <td>1</td>\n",
       "    </tr>\n",
       "    <tr>\n",
       "      <th>1433</th>\n",
       "      <td>Nikolay Apalikov</td>\n",
       "      <td>5.385165</td>\n",
       "      <td>Russia</td>\n",
       "      <td>2012</td>\n",
       "      <td>08-12-2012</td>\n",
       "      <td>Volleyball</td>\n",
       "      <td>1</td>\n",
       "      <td>0</td>\n",
       "      <td>0</td>\n",
       "      <td>1</td>\n",
       "    </tr>\n",
       "    <tr>\n",
       "      <th>1434</th>\n",
       "      <td>Erika Araki</td>\n",
       "      <td>5.196152</td>\n",
       "      <td>Japan</td>\n",
       "      <td>2012</td>\n",
       "      <td>08-12-2012</td>\n",
       "      <td>Volleyball</td>\n",
       "      <td>0</td>\n",
       "      <td>0</td>\n",
       "      <td>1</td>\n",
       "      <td>1</td>\n",
       "    </tr>\n",
       "    <tr>\n",
       "      <th>...</th>\n",
       "      <td>...</td>\n",
       "      <td>...</td>\n",
       "      <td>...</td>\n",
       "      <td>...</td>\n",
       "      <td>...</td>\n",
       "      <td>...</td>\n",
       "      <td>...</td>\n",
       "      <td>...</td>\n",
       "      <td>...</td>\n",
       "      <td>...</td>\n",
       "    </tr>\n",
       "    <tr>\n",
       "      <th>1704</th>\n",
       "      <td>Virna</td>\n",
       "      <td>5.385165</td>\n",
       "      <td>Brazil</td>\n",
       "      <td>2000</td>\n",
       "      <td>10-01-2000</td>\n",
       "      <td>Volleyball</td>\n",
       "      <td>0</td>\n",
       "      <td>0</td>\n",
       "      <td>1</td>\n",
       "      <td>1</td>\n",
       "    </tr>\n",
       "    <tr>\n",
       "      <th>1705</th>\n",
       "      <td>Goran Vujevic</td>\n",
       "      <td>5.196152</td>\n",
       "      <td>Serbia and Montenegro</td>\n",
       "      <td>2000</td>\n",
       "      <td>10-01-2000</td>\n",
       "      <td>Volleyball</td>\n",
       "      <td>1</td>\n",
       "      <td>0</td>\n",
       "      <td>0</td>\n",
       "      <td>1</td>\n",
       "    </tr>\n",
       "    <tr>\n",
       "      <th>1706</th>\n",
       "      <td>Igor Vušurovic</td>\n",
       "      <td>5.000000</td>\n",
       "      <td>Serbia and Montenegro</td>\n",
       "      <td>2000</td>\n",
       "      <td>10-01-2000</td>\n",
       "      <td>Volleyball</td>\n",
       "      <td>1</td>\n",
       "      <td>0</td>\n",
       "      <td>0</td>\n",
       "      <td>1</td>\n",
       "    </tr>\n",
       "    <tr>\n",
       "      <th>1707</th>\n",
       "      <td>Walewska</td>\n",
       "      <td>4.582576</td>\n",
       "      <td>Brazil</td>\n",
       "      <td>2000</td>\n",
       "      <td>10-01-2000</td>\n",
       "      <td>Volleyball</td>\n",
       "      <td>0</td>\n",
       "      <td>0</td>\n",
       "      <td>1</td>\n",
       "      <td>1</td>\n",
       "    </tr>\n",
       "    <tr>\n",
       "      <th>1708</th>\n",
       "      <td>Roman Yakovlev</td>\n",
       "      <td>4.898979</td>\n",
       "      <td>Russia</td>\n",
       "      <td>2000</td>\n",
       "      <td>10-01-2000</td>\n",
       "      <td>Volleyball</td>\n",
       "      <td>0</td>\n",
       "      <td>1</td>\n",
       "      <td>0</td>\n",
       "      <td>1</td>\n",
       "    </tr>\n",
       "  </tbody>\n",
       "</table>\n",
       "<p>279 rows × 10 columns</p>\n",
       "</div>"
      ],
      "text/plain": [
       "                   name       age                country  year  Date_Given  \\\n",
       "1428                NaN  5.099020                 Brazil  2012  08-12-2012   \n",
       "1431  Foluke Akinradewo  4.898979          United States  2012  08-12-2012   \n",
       "1432       Thiago Alves  5.099020                 Brazil  2012  08-12-2012   \n",
       "1433   Nikolay Apalikov  5.385165                 Russia  2012  08-12-2012   \n",
       "1434        Erika Araki  5.196152                  Japan  2012  08-12-2012   \n",
       "...                 ...       ...                    ...   ...         ...   \n",
       "1704              Virna  5.385165                 Brazil  2000  10-01-2000   \n",
       "1705      Goran Vujevic  5.196152  Serbia and Montenegro  2000  10-01-2000   \n",
       "1706     Igor Vušurovic  5.000000  Serbia and Montenegro  2000  10-01-2000   \n",
       "1707           Walewska  4.582576                 Brazil  2000  10-01-2000   \n",
       "1708     Roman Yakovlev  4.898979                 Russia  2000  10-01-2000   \n",
       "\n",
       "          sports  gold_medal  silver_medal  brone_medal  total_medal  \n",
       "1428  Volleyball           0             1            0            1  \n",
       "1431  Volleyball           0             1            0            1  \n",
       "1432  Volleyball           0             1            0            1  \n",
       "1433  Volleyball           1             0            0            1  \n",
       "1434  Volleyball           0             0            1            1  \n",
       "...          ...         ...           ...          ...          ...  \n",
       "1704  Volleyball           0             0            1            1  \n",
       "1705  Volleyball           1             0            0            1  \n",
       "1706  Volleyball           1             0            0            1  \n",
       "1707  Volleyball           0             0            1            1  \n",
       "1708  Volleyball           0             1            0            1  \n",
       "\n",
       "[279 rows x 10 columns]"
      ]
     },
     "execution_count": 28,
     "metadata": {},
     "output_type": "execute_result"
    }
   ],
   "source": [
    "df[df['sports']=='Volleyball']  # for volleyball, we have null value, so lets check daat to replace"
   ]
  },
  {
   "cell_type": "markdown",
   "id": "e1f594f9",
   "metadata": {},
   "source": [
    "for name column,we have same in 1428 row & 1432 , so we can replace name. but if we do that it will become duplicate, again we have to drop. and also we have to find number of medals won by country, here we do by coutry not by name, so we can drop them."
   ]
  },
  {
   "cell_type": "code",
   "execution_count": 29,
   "id": "ab7c42cf",
   "metadata": {},
   "outputs": [
    {
     "data": {
      "text/plain": [
       "name            0\n",
       "age             0\n",
       "country         0\n",
       "year            0\n",
       "Date_Given      0\n",
       "sports          0\n",
       "gold_medal      0\n",
       "silver_medal    0\n",
       "brone_medal     0\n",
       "total_medal     0\n",
       "dtype: int64"
      ]
     },
     "execution_count": 29,
     "metadata": {},
     "output_type": "execute_result"
    }
   ],
   "source": [
    "df = df.dropna()  # when null values less than 0.5% of data, we can drop them\n",
    "df.isnull().sum()  # verify count of null values after dropping"
   ]
  },
  {
   "cell_type": "markdown",
   "id": "032eb6b8",
   "metadata": {},
   "source": [
    "after dropping null values of name column, let check shape of data"
   ]
  },
  {
   "cell_type": "code",
   "execution_count": 30,
   "id": "db3a4823",
   "metadata": {},
   "outputs": [
    {
     "data": {
      "text/plain": [
       "(8613, 10)"
      ]
     },
     "execution_count": 30,
     "metadata": {},
     "output_type": "execute_result"
    }
   ],
   "source": [
    "df.shape  # verify count of rows after droping null values"
   ]
  },
  {
   "cell_type": "markdown",
   "id": "a8acd3c2",
   "metadata": {},
   "source": [
    "we have 8613 rows without null & duplicates"
   ]
  },
  {
   "cell_type": "code",
   "execution_count": 31,
   "id": "858210bf",
   "metadata": {},
   "outputs": [
    {
     "name": "stdout",
     "output_type": "stream",
     "text": [
      "<class 'pandas.core.frame.DataFrame'>\n",
      "Int64Index: 8613 entries, 0 to 8617\n",
      "Data columns (total 10 columns):\n",
      " #   Column        Non-Null Count  Dtype  \n",
      "---  ------        --------------  -----  \n",
      " 0   name          8613 non-null   object \n",
      " 1   age           8613 non-null   float64\n",
      " 2   country       8613 non-null   object \n",
      " 3   year          8613 non-null   int64  \n",
      " 4   Date_Given    8613 non-null   object \n",
      " 5   sports        8613 non-null   object \n",
      " 6   gold_medal    8613 non-null   int64  \n",
      " 7   silver_medal  8613 non-null   int64  \n",
      " 8   brone_medal   8613 non-null   int64  \n",
      " 9   total_medal   8613 non-null   int64  \n",
      "dtypes: float64(1), int64(5), object(4)\n",
      "memory usage: 740.2+ KB\n"
     ]
    }
   ],
   "source": [
    "df.info()  # display datatypes of how python reading"
   ]
  },
  {
   "cell_type": "markdown",
   "id": "71bbccc5",
   "metadata": {},
   "source": [
    "Date_Given should be in date format, country, sports can convert to category, so we can reduce its memory usage."
   ]
  },
  {
   "cell_type": "code",
   "execution_count": 32,
   "id": "819fcec1",
   "metadata": {},
   "outputs": [],
   "source": [
    "# import date library to typecast of date_Given column\n",
    "from datetime import datetime as dt\n",
    "df['Date_Given'] =  pd.to_datetime(df['Date_Given'], infer_datetime_format=True) \n"
   ]
  },
  {
   "cell_type": "code",
   "execution_count": 33,
   "id": "567c128b",
   "metadata": {},
   "outputs": [],
   "source": [
    "df[['country','sports','year']] = df[['country','sports','year']].astype('category') # convert to category,"
   ]
  },
  {
   "cell_type": "code",
   "execution_count": 34,
   "id": "2c1fabe3",
   "metadata": {},
   "outputs": [
    {
     "data": {
      "text/plain": [
       "name                    object\n",
       "age                    float64\n",
       "country               category\n",
       "year                  category\n",
       "Date_Given      datetime64[ns]\n",
       "sports                category\n",
       "gold_medal               int64\n",
       "silver_medal             int64\n",
       "brone_medal              int64\n",
       "total_medal              int64\n",
       "dtype: object"
      ]
     },
     "execution_count": 34,
     "metadata": {},
     "output_type": "execute_result"
    }
   ],
   "source": [
    "df.dtypes  # display datatypes of columns after typrcast"
   ]
  },
  {
   "cell_type": "code",
   "execution_count": 39,
   "id": "1097ee42",
   "metadata": {},
   "outputs": [
    {
     "data": {
      "text/html": [
       "<div>\n",
       "<style scoped>\n",
       "    .dataframe tbody tr th:only-of-type {\n",
       "        vertical-align: middle;\n",
       "    }\n",
       "\n",
       "    .dataframe tbody tr th {\n",
       "        vertical-align: top;\n",
       "    }\n",
       "\n",
       "    .dataframe thead th {\n",
       "        text-align: right;\n",
       "    }\n",
       "</style>\n",
       "<table border=\"1\" class=\"dataframe\">\n",
       "  <thead>\n",
       "    <tr style=\"text-align: right;\">\n",
       "      <th></th>\n",
       "      <th>name</th>\n",
       "      <th>age</th>\n",
       "      <th>country</th>\n",
       "      <th>year</th>\n",
       "      <th>Date_Given</th>\n",
       "      <th>sports</th>\n",
       "      <th>gold_medal</th>\n",
       "      <th>silver_medal</th>\n",
       "      <th>brone_medal</th>\n",
       "      <th>total_medal</th>\n",
       "    </tr>\n",
       "  </thead>\n",
       "  <tbody>\n",
       "    <tr>\n",
       "      <th>0</th>\n",
       "      <td>Michael Phelps</td>\n",
       "      <td>23.0</td>\n",
       "      <td>United States</td>\n",
       "      <td>2008</td>\n",
       "      <td>2008-08-24</td>\n",
       "      <td>Swimming</td>\n",
       "      <td>8</td>\n",
       "      <td>0</td>\n",
       "      <td>0</td>\n",
       "      <td>8</td>\n",
       "    </tr>\n",
       "    <tr>\n",
       "      <th>1</th>\n",
       "      <td>Michael Phelps</td>\n",
       "      <td>19.0</td>\n",
       "      <td>United States</td>\n",
       "      <td>2004</td>\n",
       "      <td>2004-08-29</td>\n",
       "      <td>Swimming</td>\n",
       "      <td>6</td>\n",
       "      <td>0</td>\n",
       "      <td>2</td>\n",
       "      <td>8</td>\n",
       "    </tr>\n",
       "    <tr>\n",
       "      <th>2</th>\n",
       "      <td>Michael Phelps</td>\n",
       "      <td>27.0</td>\n",
       "      <td>United States</td>\n",
       "      <td>2012</td>\n",
       "      <td>2012-08-12</td>\n",
       "      <td>Swimming</td>\n",
       "      <td>4</td>\n",
       "      <td>2</td>\n",
       "      <td>0</td>\n",
       "      <td>6</td>\n",
       "    </tr>\n",
       "    <tr>\n",
       "      <th>3</th>\n",
       "      <td>Natalie Coughlin</td>\n",
       "      <td>25.0</td>\n",
       "      <td>United States</td>\n",
       "      <td>2008</td>\n",
       "      <td>2008-08-24</td>\n",
       "      <td>Swimming</td>\n",
       "      <td>1</td>\n",
       "      <td>2</td>\n",
       "      <td>3</td>\n",
       "      <td>6</td>\n",
       "    </tr>\n",
       "    <tr>\n",
       "      <th>4</th>\n",
       "      <td>Aleksey Nemov</td>\n",
       "      <td>24.0</td>\n",
       "      <td>Russia</td>\n",
       "      <td>2000</td>\n",
       "      <td>2000-10-01</td>\n",
       "      <td>Gymnastics</td>\n",
       "      <td>2</td>\n",
       "      <td>1</td>\n",
       "      <td>3</td>\n",
       "      <td>6</td>\n",
       "    </tr>\n",
       "  </tbody>\n",
       "</table>\n",
       "</div>"
      ],
      "text/plain": [
       "               name   age        country  year Date_Given      sports  \\\n",
       "0    Michael Phelps  23.0  United States  2008 2008-08-24    Swimming   \n",
       "1    Michael Phelps  19.0  United States  2004 2004-08-29    Swimming   \n",
       "2    Michael Phelps  27.0  United States  2012 2012-08-12    Swimming   \n",
       "3  Natalie Coughlin  25.0  United States  2008 2008-08-24    Swimming   \n",
       "4     Aleksey Nemov  24.0         Russia  2000 2000-10-01  Gymnastics   \n",
       "\n",
       "   gold_medal  silver_medal  brone_medal  total_medal  \n",
       "0           8             0            0            8  \n",
       "1           6             0            2            8  \n",
       "2           4             2            0            6  \n",
       "3           1             2            3            6  \n",
       "4           2             1            3            6  "
      ]
     },
     "execution_count": 39,
     "metadata": {},
     "output_type": "execute_result"
    }
   ],
   "source": [
    "df.head()  # display top 5 rows afer clean & type conversion"
   ]
  },
  {
   "cell_type": "code",
   "execution_count": 49,
   "id": "3be2e303",
   "metadata": {},
   "outputs": [
    {
     "data": {
      "text/plain": [
       "Matt Wells          4\n",
       "Jason Lezak         4\n",
       "Sergey Tetyukhin    4\n",
       "Leisel Jones        4\n",
       "Artur Taymazov      4\n",
       "                   ..\n",
       "Melanie Kok         1\n",
       "Jin Ziwei           1\n",
       "Michal Jelinski     1\n",
       "Josh Inman          1\n",
       "Rod White           1\n",
       "Name: name, Length: 6955, dtype: int64"
      ]
     },
     "execution_count": 49,
     "metadata": {},
     "output_type": "execute_result"
    }
   ],
   "source": [
    "df['name'].value_counts()"
   ]
  },
  {
   "cell_type": "code",
   "execution_count": 61,
   "id": "cab8c703",
   "metadata": {},
   "outputs": [],
   "source": [
    "import re  # library for string "
   ]
  },
  {
   "cell_type": "code",
   "execution_count": 62,
   "id": "51972ef8",
   "metadata": {},
   "outputs": [],
   "source": [
    "def strip_character(dataCol):\n",
    "    r = re.compile(r'[^a-zA-Z !@#$%&*_+-=|\\:\";<>,./()[\\]{}\\']')\n",
    "    return r.sub('', dataCol)\n"
   ]
  },
  {
   "cell_type": "code",
   "execution_count": 63,
   "id": "526afd76",
   "metadata": {},
   "outputs": [
    {
     "data": {
      "text/plain": [
       "0            Michael Phelps\n",
       "1            Michael Phelps\n",
       "2            Michael Phelps\n",
       "3          Natalie Coughlin\n",
       "4             Aleksey Nemov\n",
       "5             Alicia Coutts\n",
       "6            Missy Franklin\n",
       "7               Ryan Lochte\n",
       "8           Allison Schmitt\n",
       "9          Natalie Coughlin\n",
       "10               Ian Thorpe\n",
       "11              Dara Torres\n",
       "12            Cindy Klassen\n",
       "13            Nastia Liukin\n",
       "14             Marit Bjrgen\n",
       "15                 Sun Yang\n",
       "16          Kirsty Coventry\n",
       "17    Libby Lenton-Trickett\n",
       "18              Ryan Lochte\n",
       "19           Inge de Bruijn\n",
       "Name: name, dtype: object"
      ]
     },
     "execution_count": 63,
     "metadata": {},
     "output_type": "execute_result"
    }
   ],
   "source": [
    "df['name'] = df['name'].apply(strip_character)\n",
    "df['name'].head(20)"
   ]
  },
  {
   "cell_type": "markdown",
   "id": "2e115833",
   "metadata": {},
   "source": [
    "Now all special charecters are removed."
   ]
  },
  {
   "cell_type": "markdown",
   "id": "fa6f83f2",
   "metadata": {},
   "source": [
    "Now we have colmplete clean data.\n",
    "# Statistical  analysis\n"
   ]
  },
  {
   "cell_type": "markdown",
   "id": "ada599c9",
   "metadata": {},
   "source": [
    " we have category and numerical data. \n",
    "* we can apply describe function for numerical data. for categorical data we use mode for calculating statistical measures.\n",
    "* statistical measures are **measure of central tendency** and **measure of central dispersion**.\n",
    "* **measure of central tendency** are **mean ,median,mode**.\n",
    "* **measure of central dispersion** are **std,IQR,Variance,skewness**.\n",
    "* For **symmetrical** data **measure of central tendency is mean** and **measure of central dispersion is sd.\n",
    "* For **Unsymmeric data**, **measure of central tandency is median** and **measure of central dispersion is IQR**,because it is not affected by outliers.\n",
    "* For **categorical** data **measure of central tendency is mode** & measure of cenral dispersion is not there,because these are only few categories, we cant find spread of data."
   ]
  },
  {
   "cell_type": "code",
   "execution_count": 35,
   "id": "c14a3228",
   "metadata": {},
   "outputs": [
    {
     "data": {
      "text/html": [
       "<div>\n",
       "<style scoped>\n",
       "    .dataframe tbody tr th:only-of-type {\n",
       "        vertical-align: middle;\n",
       "    }\n",
       "\n",
       "    .dataframe tbody tr th {\n",
       "        vertical-align: top;\n",
       "    }\n",
       "\n",
       "    .dataframe thead th {\n",
       "        text-align: right;\n",
       "    }\n",
       "</style>\n",
       "<table border=\"1\" class=\"dataframe\">\n",
       "  <thead>\n",
       "    <tr style=\"text-align: right;\">\n",
       "      <th></th>\n",
       "      <th>age</th>\n",
       "      <th>gold_medal</th>\n",
       "      <th>silver_medal</th>\n",
       "      <th>brone_medal</th>\n",
       "      <th>total_medal</th>\n",
       "    </tr>\n",
       "  </thead>\n",
       "  <tbody>\n",
       "    <tr>\n",
       "      <th>count</th>\n",
       "      <td>8613.000000</td>\n",
       "      <td>8613.000000</td>\n",
       "      <td>8613.000000</td>\n",
       "      <td>8613.000000</td>\n",
       "      <td>8613.000000</td>\n",
       "    </tr>\n",
       "    <tr>\n",
       "      <th>mean</th>\n",
       "      <td>5.115589</td>\n",
       "      <td>0.364914</td>\n",
       "      <td>0.362940</td>\n",
       "      <td>0.377917</td>\n",
       "      <td>1.105770</td>\n",
       "    </tr>\n",
       "    <tr>\n",
       "      <th>std</th>\n",
       "      <td>0.486011</td>\n",
       "      <td>0.545436</td>\n",
       "      <td>0.511531</td>\n",
       "      <td>0.505069</td>\n",
       "      <td>0.409003</td>\n",
       "    </tr>\n",
       "    <tr>\n",
       "      <th>min</th>\n",
       "      <td>3.872983</td>\n",
       "      <td>0.000000</td>\n",
       "      <td>0.000000</td>\n",
       "      <td>0.000000</td>\n",
       "      <td>1.000000</td>\n",
       "    </tr>\n",
       "    <tr>\n",
       "      <th>25%</th>\n",
       "      <td>4.795832</td>\n",
       "      <td>0.000000</td>\n",
       "      <td>0.000000</td>\n",
       "      <td>0.000000</td>\n",
       "      <td>1.000000</td>\n",
       "    </tr>\n",
       "    <tr>\n",
       "      <th>50%</th>\n",
       "      <td>5.099020</td>\n",
       "      <td>0.000000</td>\n",
       "      <td>0.000000</td>\n",
       "      <td>0.000000</td>\n",
       "      <td>1.000000</td>\n",
       "    </tr>\n",
       "    <tr>\n",
       "      <th>75%</th>\n",
       "      <td>5.385165</td>\n",
       "      <td>1.000000</td>\n",
       "      <td>1.000000</td>\n",
       "      <td>1.000000</td>\n",
       "      <td>1.000000</td>\n",
       "    </tr>\n",
       "    <tr>\n",
       "      <th>max</th>\n",
       "      <td>7.810250</td>\n",
       "      <td>8.000000</td>\n",
       "      <td>3.000000</td>\n",
       "      <td>3.000000</td>\n",
       "      <td>8.000000</td>\n",
       "    </tr>\n",
       "  </tbody>\n",
       "</table>\n",
       "</div>"
      ],
      "text/plain": [
       "               age   gold_medal  silver_medal  brone_medal  total_medal\n",
       "count  8613.000000  8613.000000   8613.000000  8613.000000  8613.000000\n",
       "mean      5.115589     0.364914      0.362940     0.377917     1.105770\n",
       "std       0.486011     0.545436      0.511531     0.505069     0.409003\n",
       "min       3.872983     0.000000      0.000000     0.000000     1.000000\n",
       "25%       4.795832     0.000000      0.000000     0.000000     1.000000\n",
       "50%       5.099020     0.000000      0.000000     0.000000     1.000000\n",
       "75%       5.385165     1.000000      1.000000     1.000000     1.000000\n",
       "max       7.810250     8.000000      3.000000     3.000000     8.000000"
      ]
     },
     "execution_count": 35,
     "metadata": {},
     "output_type": "execute_result"
    }
   ],
   "source": [
    "df.describe()  # calculate statistical measures for all numerical columns"
   ]
  },
  {
   "cell_type": "markdown",
   "id": "46c2f97e",
   "metadata": {},
   "source": [
    "We got count, mean, standard deviation, minimun , 25percentile,50 percentile, 75th percentile & maxilum value of numerical columns."
   ]
  },
  {
   "cell_type": "markdown",
   "id": "8c7b6cba",
   "metadata": {},
   "source": [
    "# measures of central tendency\n",
    "mean, median. mode\n",
    "mean value obtain from above describe function"
   ]
  },
  {
   "cell_type": "code",
   "execution_count": 36,
   "id": "e75cf7b8",
   "metadata": {},
   "outputs": [
    {
     "name": "stderr",
     "output_type": "stream",
     "text": [
      "C:\\Users\\Hp\\AppData\\Local\\Temp/ipykernel_2836/2081304913.py:1: FutureWarning: DataFrame.mean and DataFrame.median with numeric_only=None will include datetime64 and datetime64tz columns in a future version.\n",
      "  df.median()  # median value of numerical columns\n",
      "C:\\Users\\Hp\\AppData\\Local\\Temp/ipykernel_2836/2081304913.py:1: FutureWarning: Dropping of nuisance columns in DataFrame reductions (with 'numeric_only=None') is deprecated; in a future version this will raise TypeError.  Select only valid columns before calling the reduction.\n",
      "  df.median()  # median value of numerical columns\n"
     ]
    },
    {
     "data": {
      "text/plain": [
       "age             5.09902\n",
       "gold_medal      0.00000\n",
       "silver_medal    0.00000\n",
       "brone_medal     0.00000\n",
       "total_medal     1.00000\n",
       "dtype: float64"
      ]
     },
     "execution_count": 36,
     "metadata": {},
     "output_type": "execute_result"
    }
   ],
   "source": [
    "df.median()  # median value of numerical columns"
   ]
  },
  {
   "cell_type": "code",
   "execution_count": 37,
   "id": "eef702f1",
   "metadata": {},
   "outputs": [
    {
     "data": {
      "text/html": [
       "<div>\n",
       "<style scoped>\n",
       "    .dataframe tbody tr th:only-of-type {\n",
       "        vertical-align: middle;\n",
       "    }\n",
       "\n",
       "    .dataframe tbody tr th {\n",
       "        vertical-align: top;\n",
       "    }\n",
       "\n",
       "    .dataframe thead th {\n",
       "        text-align: right;\n",
       "    }\n",
       "</style>\n",
       "<table border=\"1\" class=\"dataframe\">\n",
       "  <thead>\n",
       "    <tr style=\"text-align: right;\">\n",
       "      <th></th>\n",
       "      <th>name</th>\n",
       "      <th>age</th>\n",
       "      <th>country</th>\n",
       "      <th>year</th>\n",
       "      <th>Date_Given</th>\n",
       "      <th>sports</th>\n",
       "      <th>gold_medal</th>\n",
       "      <th>silver_medal</th>\n",
       "      <th>brone_medal</th>\n",
       "      <th>total_medal</th>\n",
       "    </tr>\n",
       "  </thead>\n",
       "  <tbody>\n",
       "    <tr>\n",
       "      <th>0</th>\n",
       "      <td>Anky van Grunsven</td>\n",
       "      <td>4.898979</td>\n",
       "      <td>United States</td>\n",
       "      <td>2008</td>\n",
       "      <td>2008-08-24</td>\n",
       "      <td>Athletics</td>\n",
       "      <td>0.0</td>\n",
       "      <td>0.0</td>\n",
       "      <td>0.0</td>\n",
       "      <td>1.0</td>\n",
       "    </tr>\n",
       "    <tr>\n",
       "      <th>1</th>\n",
       "      <td>Artur Taymazov</td>\n",
       "      <td>NaN</td>\n",
       "      <td>NaN</td>\n",
       "      <td>NaN</td>\n",
       "      <td>NaT</td>\n",
       "      <td>NaN</td>\n",
       "      <td>NaN</td>\n",
       "      <td>NaN</td>\n",
       "      <td>NaN</td>\n",
       "      <td>NaN</td>\n",
       "    </tr>\n",
       "    <tr>\n",
       "      <th>2</th>\n",
       "      <td>Ben Ainslie</td>\n",
       "      <td>NaN</td>\n",
       "      <td>NaN</td>\n",
       "      <td>NaN</td>\n",
       "      <td>NaT</td>\n",
       "      <td>NaN</td>\n",
       "      <td>NaN</td>\n",
       "      <td>NaN</td>\n",
       "      <td>NaN</td>\n",
       "      <td>NaN</td>\n",
       "    </tr>\n",
       "    <tr>\n",
       "      <th>3</th>\n",
       "      <td>Bradley Wiggins</td>\n",
       "      <td>NaN</td>\n",
       "      <td>NaN</td>\n",
       "      <td>NaN</td>\n",
       "      <td>NaT</td>\n",
       "      <td>NaN</td>\n",
       "      <td>NaN</td>\n",
       "      <td>NaN</td>\n",
       "      <td>NaN</td>\n",
       "      <td>NaN</td>\n",
       "    </tr>\n",
       "    <tr>\n",
       "      <th>4</th>\n",
       "      <td>Brenda Villa</td>\n",
       "      <td>NaN</td>\n",
       "      <td>NaN</td>\n",
       "      <td>NaN</td>\n",
       "      <td>NaT</td>\n",
       "      <td>NaN</td>\n",
       "      <td>NaN</td>\n",
       "      <td>NaN</td>\n",
       "      <td>NaN</td>\n",
       "      <td>NaN</td>\n",
       "    </tr>\n",
       "    <tr>\n",
       "      <th>5</th>\n",
       "      <td>Chris Hoy</td>\n",
       "      <td>NaN</td>\n",
       "      <td>NaN</td>\n",
       "      <td>NaN</td>\n",
       "      <td>NaT</td>\n",
       "      <td>NaN</td>\n",
       "      <td>NaN</td>\n",
       "      <td>NaN</td>\n",
       "      <td>NaN</td>\n",
       "      <td>NaN</td>\n",
       "    </tr>\n",
       "    <tr>\n",
       "      <th>6</th>\n",
       "      <td>Christie Pearce-Rampone</td>\n",
       "      <td>NaN</td>\n",
       "      <td>NaN</td>\n",
       "      <td>NaN</td>\n",
       "      <td>NaT</td>\n",
       "      <td>NaN</td>\n",
       "      <td>NaN</td>\n",
       "      <td>NaN</td>\n",
       "      <td>NaN</td>\n",
       "      <td>NaN</td>\n",
       "    </tr>\n",
       "    <tr>\n",
       "      <th>7</th>\n",
       "      <td>Emilie Heymans</td>\n",
       "      <td>NaN</td>\n",
       "      <td>NaN</td>\n",
       "      <td>NaN</td>\n",
       "      <td>NaT</td>\n",
       "      <td>NaN</td>\n",
       "      <td>NaN</td>\n",
       "      <td>NaN</td>\n",
       "      <td>NaN</td>\n",
       "      <td>NaN</td>\n",
       "    </tr>\n",
       "    <tr>\n",
       "      <th>8</th>\n",
       "      <td>Eskild Ebbesen</td>\n",
       "      <td>NaN</td>\n",
       "      <td>NaN</td>\n",
       "      <td>NaN</td>\n",
       "      <td>NaT</td>\n",
       "      <td>NaN</td>\n",
       "      <td>NaN</td>\n",
       "      <td>NaN</td>\n",
       "      <td>NaN</td>\n",
       "      <td>NaN</td>\n",
       "    </tr>\n",
       "    <tr>\n",
       "      <th>9</th>\n",
       "      <td>Heather Petri</td>\n",
       "      <td>NaN</td>\n",
       "      <td>NaN</td>\n",
       "      <td>NaN</td>\n",
       "      <td>NaT</td>\n",
       "      <td>NaN</td>\n",
       "      <td>NaN</td>\n",
       "      <td>NaN</td>\n",
       "      <td>NaN</td>\n",
       "      <td>NaN</td>\n",
       "    </tr>\n",
       "    <tr>\n",
       "      <th>10</th>\n",
       "      <td>Jason Lezak</td>\n",
       "      <td>NaN</td>\n",
       "      <td>NaN</td>\n",
       "      <td>NaN</td>\n",
       "      <td>NaT</td>\n",
       "      <td>NaN</td>\n",
       "      <td>NaN</td>\n",
       "      <td>NaN</td>\n",
       "      <td>NaN</td>\n",
       "      <td>NaN</td>\n",
       "    </tr>\n",
       "    <tr>\n",
       "      <th>11</th>\n",
       "      <td>Katalin Kovács</td>\n",
       "      <td>NaN</td>\n",
       "      <td>NaN</td>\n",
       "      <td>NaN</td>\n",
       "      <td>NaT</td>\n",
       "      <td>NaN</td>\n",
       "      <td>NaN</td>\n",
       "      <td>NaN</td>\n",
       "      <td>NaN</td>\n",
       "      <td>NaN</td>\n",
       "    </tr>\n",
       "    <tr>\n",
       "      <th>12</th>\n",
       "      <td>Katherine Grainger</td>\n",
       "      <td>NaN</td>\n",
       "      <td>NaN</td>\n",
       "      <td>NaN</td>\n",
       "      <td>NaT</td>\n",
       "      <td>NaN</td>\n",
       "      <td>NaN</td>\n",
       "      <td>NaN</td>\n",
       "      <td>NaN</td>\n",
       "      <td>NaN</td>\n",
       "    </tr>\n",
       "    <tr>\n",
       "      <th>13</th>\n",
       "      <td>Katrin Wagner-Augustin</td>\n",
       "      <td>NaN</td>\n",
       "      <td>NaN</td>\n",
       "      <td>NaN</td>\n",
       "      <td>NaT</td>\n",
       "      <td>NaN</td>\n",
       "      <td>NaN</td>\n",
       "      <td>NaN</td>\n",
       "      <td>NaN</td>\n",
       "      <td>NaN</td>\n",
       "    </tr>\n",
       "    <tr>\n",
       "      <th>14</th>\n",
       "      <td>Kim Rhode</td>\n",
       "      <td>NaN</td>\n",
       "      <td>NaN</td>\n",
       "      <td>NaN</td>\n",
       "      <td>NaT</td>\n",
       "      <td>NaN</td>\n",
       "      <td>NaN</td>\n",
       "      <td>NaN</td>\n",
       "      <td>NaN</td>\n",
       "      <td>NaN</td>\n",
       "    </tr>\n",
       "    <tr>\n",
       "      <th>15</th>\n",
       "      <td>Kristi Harrower</td>\n",
       "      <td>NaN</td>\n",
       "      <td>NaN</td>\n",
       "      <td>NaN</td>\n",
       "      <td>NaT</td>\n",
       "      <td>NaN</td>\n",
       "      <td>NaN</td>\n",
       "      <td>NaN</td>\n",
       "      <td>NaN</td>\n",
       "      <td>NaN</td>\n",
       "    </tr>\n",
       "    <tr>\n",
       "      <th>16</th>\n",
       "      <td>Lauren Jackson</td>\n",
       "      <td>NaN</td>\n",
       "      <td>NaN</td>\n",
       "      <td>NaN</td>\n",
       "      <td>NaT</td>\n",
       "      <td>NaN</td>\n",
       "      <td>NaN</td>\n",
       "      <td>NaN</td>\n",
       "      <td>NaN</td>\n",
       "      <td>NaN</td>\n",
       "    </tr>\n",
       "    <tr>\n",
       "      <th>17</th>\n",
       "      <td>Leisel Jones</td>\n",
       "      <td>NaN</td>\n",
       "      <td>NaN</td>\n",
       "      <td>NaN</td>\n",
       "      <td>NaT</td>\n",
       "      <td>NaN</td>\n",
       "      <td>NaN</td>\n",
       "      <td>NaN</td>\n",
       "      <td>NaN</td>\n",
       "      <td>NaN</td>\n",
       "    </tr>\n",
       "    <tr>\n",
       "      <th>18</th>\n",
       "      <td>Lucha Aymar</td>\n",
       "      <td>NaN</td>\n",
       "      <td>NaN</td>\n",
       "      <td>NaN</td>\n",
       "      <td>NaT</td>\n",
       "      <td>NaN</td>\n",
       "      <td>NaN</td>\n",
       "      <td>NaN</td>\n",
       "      <td>NaN</td>\n",
       "      <td>NaN</td>\n",
       "    </tr>\n",
       "    <tr>\n",
       "      <th>19</th>\n",
       "      <td>Matt Wells</td>\n",
       "      <td>NaN</td>\n",
       "      <td>NaN</td>\n",
       "      <td>NaN</td>\n",
       "      <td>NaT</td>\n",
       "      <td>NaN</td>\n",
       "      <td>NaN</td>\n",
       "      <td>NaN</td>\n",
       "      <td>NaN</td>\n",
       "      <td>NaN</td>\n",
       "    </tr>\n",
       "    <tr>\n",
       "      <th>20</th>\n",
       "      <td>Michal Martikán</td>\n",
       "      <td>NaN</td>\n",
       "      <td>NaN</td>\n",
       "      <td>NaN</td>\n",
       "      <td>NaT</td>\n",
       "      <td>NaN</td>\n",
       "      <td>NaN</td>\n",
       "      <td>NaN</td>\n",
       "      <td>NaN</td>\n",
       "      <td>NaN</td>\n",
       "    </tr>\n",
       "    <tr>\n",
       "      <th>21</th>\n",
       "      <td>Pavol Hochschorner</td>\n",
       "      <td>NaN</td>\n",
       "      <td>NaN</td>\n",
       "      <td>NaN</td>\n",
       "      <td>NaT</td>\n",
       "      <td>NaN</td>\n",
       "      <td>NaN</td>\n",
       "      <td>NaN</td>\n",
       "      <td>NaN</td>\n",
       "      <td>NaN</td>\n",
       "    </tr>\n",
       "    <tr>\n",
       "      <th>22</th>\n",
       "      <td>Peter Hochschorner</td>\n",
       "      <td>NaN</td>\n",
       "      <td>NaN</td>\n",
       "      <td>NaN</td>\n",
       "      <td>NaT</td>\n",
       "      <td>NaN</td>\n",
       "      <td>NaN</td>\n",
       "      <td>NaN</td>\n",
       "      <td>NaN</td>\n",
       "      <td>NaN</td>\n",
       "    </tr>\n",
       "    <tr>\n",
       "      <th>23</th>\n",
       "      <td>Robert Scheidt</td>\n",
       "      <td>NaN</td>\n",
       "      <td>NaN</td>\n",
       "      <td>NaN</td>\n",
       "      <td>NaT</td>\n",
       "      <td>NaN</td>\n",
       "      <td>NaN</td>\n",
       "      <td>NaN</td>\n",
       "      <td>NaN</td>\n",
       "      <td>NaN</td>\n",
       "    </tr>\n",
       "    <tr>\n",
       "      <th>24</th>\n",
       "      <td>Sergey Tetyukhin</td>\n",
       "      <td>NaN</td>\n",
       "      <td>NaN</td>\n",
       "      <td>NaN</td>\n",
       "      <td>NaT</td>\n",
       "      <td>NaN</td>\n",
       "      <td>NaN</td>\n",
       "      <td>NaN</td>\n",
       "      <td>NaN</td>\n",
       "      <td>NaN</td>\n",
       "    </tr>\n",
       "    <tr>\n",
       "      <th>25</th>\n",
       "      <td>Valentina Vezzali</td>\n",
       "      <td>NaN</td>\n",
       "      <td>NaN</td>\n",
       "      <td>NaN</td>\n",
       "      <td>NaT</td>\n",
       "      <td>NaN</td>\n",
       "      <td>NaN</td>\n",
       "      <td>NaN</td>\n",
       "      <td>NaN</td>\n",
       "      <td>NaN</td>\n",
       "    </tr>\n",
       "    <tr>\n",
       "      <th>26</th>\n",
       "      <td>Veronica Campbell-Brown</td>\n",
       "      <td>NaN</td>\n",
       "      <td>NaN</td>\n",
       "      <td>NaN</td>\n",
       "      <td>NaT</td>\n",
       "      <td>NaN</td>\n",
       "      <td>NaN</td>\n",
       "      <td>NaN</td>\n",
       "      <td>NaN</td>\n",
       "      <td>NaN</td>\n",
       "    </tr>\n",
       "    <tr>\n",
       "      <th>27</th>\n",
       "      <td>Wang Hao</td>\n",
       "      <td>NaN</td>\n",
       "      <td>NaN</td>\n",
       "      <td>NaN</td>\n",
       "      <td>NaT</td>\n",
       "      <td>NaN</td>\n",
       "      <td>NaN</td>\n",
       "      <td>NaN</td>\n",
       "      <td>NaN</td>\n",
       "      <td>NaN</td>\n",
       "    </tr>\n",
       "    <tr>\n",
       "      <th>28</th>\n",
       "      <td>Yang Wei</td>\n",
       "      <td>NaN</td>\n",
       "      <td>NaN</td>\n",
       "      <td>NaN</td>\n",
       "      <td>NaT</td>\n",
       "      <td>NaN</td>\n",
       "      <td>NaN</td>\n",
       "      <td>NaN</td>\n",
       "      <td>NaN</td>\n",
       "      <td>NaN</td>\n",
       "    </tr>\n",
       "  </tbody>\n",
       "</table>\n",
       "</div>"
      ],
      "text/plain": [
       "                       name       age        country  year Date_Given  \\\n",
       "0         Anky van Grunsven  4.898979  United States  2008 2008-08-24   \n",
       "1            Artur Taymazov       NaN            NaN   NaN        NaT   \n",
       "2               Ben Ainslie       NaN            NaN   NaN        NaT   \n",
       "3           Bradley Wiggins       NaN            NaN   NaN        NaT   \n",
       "4              Brenda Villa       NaN            NaN   NaN        NaT   \n",
       "5                 Chris Hoy       NaN            NaN   NaN        NaT   \n",
       "6   Christie Pearce-Rampone       NaN            NaN   NaN        NaT   \n",
       "7            Emilie Heymans       NaN            NaN   NaN        NaT   \n",
       "8            Eskild Ebbesen       NaN            NaN   NaN        NaT   \n",
       "9             Heather Petri       NaN            NaN   NaN        NaT   \n",
       "10              Jason Lezak       NaN            NaN   NaN        NaT   \n",
       "11           Katalin Kovács       NaN            NaN   NaN        NaT   \n",
       "12       Katherine Grainger       NaN            NaN   NaN        NaT   \n",
       "13   Katrin Wagner-Augustin       NaN            NaN   NaN        NaT   \n",
       "14                Kim Rhode       NaN            NaN   NaN        NaT   \n",
       "15          Kristi Harrower       NaN            NaN   NaN        NaT   \n",
       "16           Lauren Jackson       NaN            NaN   NaN        NaT   \n",
       "17             Leisel Jones       NaN            NaN   NaN        NaT   \n",
       "18              Lucha Aymar       NaN            NaN   NaN        NaT   \n",
       "19               Matt Wells       NaN            NaN   NaN        NaT   \n",
       "20          Michal Martikán       NaN            NaN   NaN        NaT   \n",
       "21       Pavol Hochschorner       NaN            NaN   NaN        NaT   \n",
       "22       Peter Hochschorner       NaN            NaN   NaN        NaT   \n",
       "23           Robert Scheidt       NaN            NaN   NaN        NaT   \n",
       "24         Sergey Tetyukhin       NaN            NaN   NaN        NaT   \n",
       "25        Valentina Vezzali       NaN            NaN   NaN        NaT   \n",
       "26  Veronica Campbell-Brown       NaN            NaN   NaN        NaT   \n",
       "27                 Wang Hao       NaN            NaN   NaN        NaT   \n",
       "28                 Yang Wei       NaN            NaN   NaN        NaT   \n",
       "\n",
       "       sports  gold_medal  silver_medal  brone_medal  total_medal  \n",
       "0   Athletics         0.0           0.0          0.0          1.0  \n",
       "1         NaN         NaN           NaN          NaN          NaN  \n",
       "2         NaN         NaN           NaN          NaN          NaN  \n",
       "3         NaN         NaN           NaN          NaN          NaN  \n",
       "4         NaN         NaN           NaN          NaN          NaN  \n",
       "5         NaN         NaN           NaN          NaN          NaN  \n",
       "6         NaN         NaN           NaN          NaN          NaN  \n",
       "7         NaN         NaN           NaN          NaN          NaN  \n",
       "8         NaN         NaN           NaN          NaN          NaN  \n",
       "9         NaN         NaN           NaN          NaN          NaN  \n",
       "10        NaN         NaN           NaN          NaN          NaN  \n",
       "11        NaN         NaN           NaN          NaN          NaN  \n",
       "12        NaN         NaN           NaN          NaN          NaN  \n",
       "13        NaN         NaN           NaN          NaN          NaN  \n",
       "14        NaN         NaN           NaN          NaN          NaN  \n",
       "15        NaN         NaN           NaN          NaN          NaN  \n",
       "16        NaN         NaN           NaN          NaN          NaN  \n",
       "17        NaN         NaN           NaN          NaN          NaN  \n",
       "18        NaN         NaN           NaN          NaN          NaN  \n",
       "19        NaN         NaN           NaN          NaN          NaN  \n",
       "20        NaN         NaN           NaN          NaN          NaN  \n",
       "21        NaN         NaN           NaN          NaN          NaN  \n",
       "22        NaN         NaN           NaN          NaN          NaN  \n",
       "23        NaN         NaN           NaN          NaN          NaN  \n",
       "24        NaN         NaN           NaN          NaN          NaN  \n",
       "25        NaN         NaN           NaN          NaN          NaN  \n",
       "26        NaN         NaN           NaN          NaN          NaN  \n",
       "27        NaN         NaN           NaN          NaN          NaN  \n",
       "28        NaN         NaN           NaN          NaN          NaN  "
      ]
     },
     "execution_count": 37,
     "metadata": {},
     "output_type": "execute_result"
    }
   ],
   "source": [
    "df.mode() # mode for both categorical & numerical columns"
   ]
  },
  {
   "cell_type": "markdown",
   "id": "75ce408b",
   "metadata": {},
   "source": [
    "# measures of central dispersion\n",
    "var,std,IQR,skewness"
   ]
  },
  {
   "cell_type": "code",
   "execution_count": 38,
   "id": "80f59fc7",
   "metadata": {},
   "outputs": [
    {
     "name": "stderr",
     "output_type": "stream",
     "text": [
      "C:\\Users\\Hp\\AppData\\Local\\Temp/ipykernel_2836/1348498134.py:1: FutureWarning: Dropping of nuisance columns in DataFrame reductions (with 'numeric_only=None') is deprecated; in a future version this will raise TypeError.  Select only valid columns before calling the reduction.\n",
      "  df.var()  # variance of numerical columns\n"
     ]
    },
    {
     "data": {
      "text/plain": [
       "age             0.236207\n",
       "gold_medal      0.297501\n",
       "silver_medal    0.261664\n",
       "brone_medal     0.255095\n",
       "total_medal     0.167283\n",
       "dtype: float64"
      ]
     },
     "execution_count": 38,
     "metadata": {},
     "output_type": "execute_result"
    }
   ],
   "source": [
    "df.var()  # variance of numerical columns"
   ]
  },
  {
   "cell_type": "markdown",
   "id": "f5935c99",
   "metadata": {},
   "source": [
    "IQR can be calculated by 75%-25%. for numerical columns we calcuted iqr.for unsymmetric data measure of central dispersion is IQR.if any null values are there, we will replace it by it."
   ]
  },
  {
   "cell_type": "code",
   "execution_count": 39,
   "id": "8e0f28d7",
   "metadata": {},
   "outputs": [
    {
     "data": {
      "text/plain": [
       "name                    object\n",
       "age                    float64\n",
       "country               category\n",
       "year                  category\n",
       "Date_Given      datetime64[ns]\n",
       "sports                category\n",
       "gold_medal               int64\n",
       "silver_medal             int64\n",
       "brone_medal              int64\n",
       "total_medal              int64\n",
       "dtype: object"
      ]
     },
     "execution_count": 39,
     "metadata": {},
     "output_type": "execute_result"
    }
   ],
   "source": [
    "df.dtypes"
   ]
  },
  {
   "cell_type": "code",
   "execution_count": 40,
   "id": "0f42952c",
   "metadata": {},
   "outputs": [
    {
     "name": "stdout",
     "output_type": "stream",
     "text": [
      "age iQR 0.5893332838217846\n",
      "gold_medal iQR 1.0\n",
      "silver_medal iQR 1.0\n",
      "brone_medal iQR 1.0\n",
      "total_medal iQR 0.0\n"
     ]
    }
   ],
   "source": [
    "# IQR=75%-25%\n",
    "iQR=[]\n",
    "for col in df:\n",
    "    if df[col].dtype == 'float64'or df[col].dtype == 'int64':\n",
    "        (q3,q1)=np.percentile(df[col],[75,25])\n",
    "        print(col,'iQR',q3-q1)\n"
   ]
  },
  {
   "cell_type": "markdown",
   "id": "76236d0e",
   "metadata": {},
   "source": [
    "std is standard deviation, whch is square root of variance. sd or std will have same unit with mean.for symmetric data measure of central dispersion is sd.if any missing values present , we will replace it with it.It is calcluted for numerical values. when we use describe function also. we get sd for numerical columns."
   ]
  },
  {
   "cell_type": "code",
   "execution_count": 41,
   "id": "e1df2fc7",
   "metadata": {},
   "outputs": [
    {
     "name": "stderr",
     "output_type": "stream",
     "text": [
      "C:\\Users\\Hp\\AppData\\Local\\Temp/ipykernel_2836/2027750418.py:1: FutureWarning: Dropping of nuisance columns in DataFrame reductions (with 'numeric_only=None') is deprecated; in a future version this will raise TypeError.  Select only valid columns before calling the reduction.\n",
      "  df.std()  # standard deviation of numerical columns\n"
     ]
    },
    {
     "data": {
      "text/plain": [
       "age                                 0.486011\n",
       "Date_Given      1552 days 00:19:01.380717312\n",
       "gold_medal                          0.545436\n",
       "silver_medal                        0.511531\n",
       "brone_medal                         0.505069\n",
       "total_medal                         0.409003\n",
       "dtype: object"
      ]
     },
     "execution_count": 41,
     "metadata": {},
     "output_type": "execute_result"
    }
   ],
   "source": [
    "df.std()  # standard deviation of numerical columns"
   ]
  },
  {
   "cell_type": "markdown",
   "id": "110c6d81",
   "metadata": {},
   "source": [
    "skew function is for finding skewness value.it is usefull to differentiate data as symmetric & unsymmetric.If skewness value is in between 0.5 to -0.5 then it is considered as approximately symmetric data.If it is between +/- 0.5 to +/- 1 then it is moderately skewed data. if it is more than that it is fully skewed data. if values are +,then it is positively skewed/right skewed data.it values ae - ,then it is negatively skewed or left skewed data.\n",
    "\n",
    "|distribution|skew value|\n",
    "|---|---|\n",
    "|symmetric|0|\n",
    "|approx symmetric| 0to +-0.5|\n",
    "moderately skewed| +-0.5 to +-1|\n",
    "fully skewed| +-1 above|"
   ]
  },
  {
   "cell_type": "code",
   "execution_count": 42,
   "id": "86280d4e",
   "metadata": {},
   "outputs": [
    {
     "name": "stderr",
     "output_type": "stream",
     "text": [
      "C:\\Users\\Hp\\AppData\\Local\\Temp/ipykernel_2836/245788020.py:1: FutureWarning: Dropping of nuisance columns in DataFrame reductions (with 'numeric_only=None') is deprecated; in a future version this will raise TypeError.  Select only valid columns before calling the reduction.\n",
      "  df.skew()  # to examine distribution of numerical columns\n"
     ]
    },
    {
     "data": {
      "text/plain": [
       "age             0.489837\n",
       "gold_medal      1.638839\n",
       "silver_medal    0.955039\n",
       "brone_medal     0.762090\n",
       "total_medal     5.580939\n",
       "dtype: float64"
      ]
     },
     "execution_count": 42,
     "metadata": {},
     "output_type": "execute_result"
    }
   ],
   "source": [
    "df.skew()  # to examine distribution of numerical columns"
   ]
  },
  {
   "cell_type": "markdown",
   "id": "80650f4e",
   "metadata": {},
   "source": [
    "Here age skewness value is greater than 0.5 , so it is moderately skewed. gold medal is skewed. silver and bronze are moderately skewed. total medal is fully skewed."
   ]
  },
  {
   "cell_type": "markdown",
   "id": "2f48d2ae",
   "metadata": {},
   "source": [
    "# Exploratory Data Analysis with code & Plots"
   ]
  },
  {
   "cell_type": "code",
   "execution_count": 49,
   "id": "e2e755ac",
   "metadata": {},
   "outputs": [
    {
     "data": {
      "text/plain": [
       "0    5689\n",
       "1    2745\n",
       "2     150\n",
       "3      24\n",
       "4       3\n",
       "8       1\n",
       "6       1\n",
       "Name: gold_medal, dtype: int64"
      ]
     },
     "execution_count": 49,
     "metadata": {},
     "output_type": "execute_result"
    }
   ],
   "source": [
    "df['gold_medal'].value_counts()"
   ]
  },
  {
   "cell_type": "markdown",
   "id": "26f00422",
   "metadata": {},
   "source": [
    "most of the athletes didnt won gold medal. 2745 athletes won 1 medal, 150 athletes won 2 medals, 24 athletes won 3 medals, 3 athelets won 4 medals, 1 number of athete won 8,6 medals."
   ]
  },
  {
   "cell_type": "code",
   "execution_count": 46,
   "id": "cb33316f",
   "metadata": {},
   "outputs": [
    {
     "data": {
      "text/plain": [
       "Text(0.5, 1.0, 'trend of medals')"
      ]
     },
     "execution_count": 46,
     "metadata": {},
     "output_type": "execute_result"
    },
    {
     "data": {
      "image/png": "[encoded data removed]",
      "text/plain": [
       "<Figure size 720x360 with 1 Axes>"
      ]
     },
     "metadata": {
      "needs_background": "light"
     },
     "output_type": "display_data"
    }
   ],
   "source": [
    "plt.figure(figsize=(10,5))  # for bigger size of plot\n",
    "sns.lineplot(x = df['Date_Given'],y=df['total_medal']) # syntax for count plot\n",
    "plt.title('trend of medals')"
   ]
  },
  {
   "cell_type": "markdown",
   "id": "411097e5",
   "metadata": {},
   "source": [
    "In 2002,2006,2010 medals are increasing trend.in 2004,2008 it shows decresing trend."
   ]
  },
  {
   "cell_type": "markdown",
   "id": "debb511a",
   "metadata": {},
   "source": [
    "Lets examine gold medals per country, as column are category & numerical, we can use barplot."
   ]
  },
  {
   "cell_type": "code",
   "execution_count": 70,
   "id": "1becc5e3",
   "metadata": {},
   "outputs": [
    {
     "data": {
      "text/plain": [
       "Text(0, 0.5, 'count of gold medals won')"
      ]
     },
     "execution_count": 70,
     "metadata": {},
     "output_type": "execute_result"
    },
    {
     "data": {
      "image/png": "[encoded data removed]",
      "text/plain": [
       "<Figure size 7200x360 with 1 Axes>"
      ]
     },
     "metadata": {
      "needs_background": "light"
     },
     "output_type": "display_data"
    }
   ],
   "source": [
    "plt.figure(figsize=(100,5))\n",
    "sns.barplot(x='country',y='gold_medal',data=df)\n",
    "plt.title('gold medal per country')\n",
    "plt.xlabel(\"country\")\n",
    "plt.ylabel('count of gold medals won')"
   ]
  },
  {
   "cell_type": "markdown",
   "id": "ce6d8fab",
   "metadata": {},
   "source": [
    "From plot we notice **United States** got more gold medals. uganda, zimbabwe also got more"
   ]
  },
  {
   "cell_type": "code",
   "execution_count": 71,
   "id": "910ac20a",
   "metadata": {},
   "outputs": [
    {
     "name": "stderr",
     "output_type": "stream",
     "text": [
      "C:\\Users\\Hp\\anaconda3\\lib\\site-packages\\seaborn\\_decorators.py:36: FutureWarning: Pass the following variables as keyword args: x, y. From version 0.12, the only valid positional argument will be `data`, and passing other arguments without an explicit keyword will result in an error or misinterpretation.\n",
      "  warnings.warn(\n"
     ]
    },
    {
     "data": {
      "text/plain": [
       "Text(0.5, 1.0, 'Variation of Age over time')"
      ]
     },
     "execution_count": 71,
     "metadata": {},
     "output_type": "execute_result"
    },
    {
     "data": {
      "image/png": "[encoded data removed]",
      "text/plain": [
       "<Figure size 1440x720 with 1 Axes>"
      ]
     },
     "metadata": {
      "needs_background": "light"
     },
     "output_type": "display_data"
    }
   ],
   "source": [
    "plt.figure(figsize=(20, 10))\n",
    "sns.boxplot('year', 'age', data=df)\n",
    "plt.title('Variation of Age over time')"
   ]
  },
  {
   "cell_type": "markdown",
   "id": "006c7416",
   "metadata": {},
   "source": [
    "when we notice year and their respective age distribution. all years age mostly lies between 20-30 and medium lies around 25. maximum age around 40. all years showing outliers, but in real time , some athletes played & won in more age around 60. so we dont need to worry about outliers."
   ]
  },
  {
   "cell_type": "code",
   "execution_count": 80,
   "id": "5fbc56e6",
   "metadata": {},
   "outputs": [
    {
     "name": "stderr",
     "output_type": "stream",
     "text": [
      "C:\\Users\\Hp\\anaconda3\\lib\\site-packages\\seaborn\\_decorators.py:36: FutureWarning: Pass the following variable as a keyword arg: x. From version 0.12, the only valid positional argument will be `data`, and passing other arguments without an explicit keyword will result in an error or misinterpretation.\n",
      "  warnings.warn(\n"
     ]
    },
    {
     "data": {
      "text/plain": [
       "Text(0.5, 1.0, 'count of gold_medals ')"
      ]
     },
     "execution_count": 80,
     "metadata": {},
     "output_type": "execute_result"
    },
    {
     "data": {
      "image/png": "[encoded data removed]",
      "text/plain": [
       "<Figure size 432x288 with 1 Axes>"
      ]
     },
     "metadata": {
      "needs_background": "light"
     },
     "output_type": "display_data"
    }
   ],
   "source": [
    "\n",
    "sns.countplot('gold_medal', data=df)\n",
    "plt.title('count of gold_medals ')"
   ]
  },
  {
   "cell_type": "markdown",
   "id": "5f17c1fa",
   "metadata": {},
   "source": [
    "From above plot we can say, most of atletes didint won gold medal. around 2500 athletes won gold medal 1 time."
   ]
  },
  {
   "cell_type": "markdown",
   "id": "009a11a7",
   "metadata": {},
   "source": [
    "# Please list the top 10 countries with the gold medal, then the top10 countries with the silver medal, then the bronze medal and the total medal."
   ]
  },
  {
   "cell_type": "code",
   "execution_count": 74,
   "id": "cb97a2b7",
   "metadata": {},
   "outputs": [
    {
     "data": {
      "text/plain": [
       "country\n",
       "United States    552\n",
       "Russia           234\n",
       "China            234\n",
       "Germany          223\n",
       "Canada           168\n",
       "Australia        163\n",
       "Great Britain    124\n",
       "South Korea      110\n",
       "France           108\n",
       "Netherlands      101\n",
       "Name: gold_medal, dtype: int64"
      ]
     },
     "execution_count": 74,
     "metadata": {},
     "output_type": "execute_result"
    }
   ],
   "source": [
    "df1 = df['gold_medal'].groupby(df['country']).sum().sort_values(ascending=False)\n",
    "df1.head(10)"
   ]
  },
  {
   "cell_type": "code",
   "execution_count": 106,
   "id": "bcb8e4ad",
   "metadata": {},
   "outputs": [
    {
     "data": {
      "text/plain": [
       "country\n",
       "United States    320\n",
       "Russia           313\n",
       "Germany          223\n",
       "Australia        220\n",
       "Italy            142\n",
       "China            140\n",
       "Japan            113\n",
       "South Korea      105\n",
       "Canada           104\n",
       "France           103\n",
       "Name: brone_medal, dtype: int64"
      ]
     },
     "execution_count": 106,
     "metadata": {},
     "output_type": "execute_result"
    }
   ],
   "source": [
    "df2 = df['brone_medal'].groupby(df['country']).sum().sort_values(ascending=False)\n",
    "df2.head(10)"
   ]
  },
  {
   "cell_type": "code",
   "execution_count": 105,
   "id": "80f5e6ab",
   "metadata": {},
   "outputs": [
    {
     "data": {
      "text/plain": [
       "country\n",
       "United States    440\n",
       "Australia        226\n",
       "Russia           221\n",
       "Germany          183\n",
       "China            156\n",
       "Netherlands      135\n",
       "Spain            116\n",
       "Japan            112\n",
       "France           107\n",
       "Italy            103\n",
       "Name: silver_medal, dtype: int64"
      ]
     },
     "execution_count": 105,
     "metadata": {},
     "output_type": "execute_result"
    }
   ],
   "source": [
    "df3 = df['silver_medal'].groupby(df['country']).sum().sort_values(ascending=False)\n",
    "df3.head(10)"
   ]
  },
  {
   "cell_type": "code",
   "execution_count": 104,
   "id": "0fdaa79a",
   "metadata": {},
   "outputs": [
    {
     "data": {
      "text/plain": [
       "country\n",
       "United States    1312\n",
       "Russia            768\n",
       "Germany           629\n",
       "Australia         609\n",
       "China             530\n",
       "Canada            370\n",
       "Italy             331\n",
       "Great Britain     322\n",
       "France            318\n",
       "Netherlands       318\n",
       "Name: total_medal, dtype: int64"
      ]
     },
     "execution_count": 104,
     "metadata": {},
     "output_type": "execute_result"
    }
   ],
   "source": [
    "df3 = df['total_medal'].groupby(df['country']).sum().sort_values(ascending=False)\n",
    "df3.head(10)"
   ]
  },
  {
   "cell_type": "markdown",
   "id": "b8ac20af",
   "metadata": {},
   "source": [
    "United states is the top country in all gold,silver,bronze medals."
   ]
  },
  {
   "cell_type": "markdown",
   "id": "9a72c83c",
   "metadata": {},
   "source": [
    "United states is the country having highest number of medals of 1312."
   ]
  },
  {
   "cell_type": "markdown",
   "id": "f22d5b68",
   "metadata": {},
   "source": [
    "|country with gold medal|  country silver medal| country Bronze medal|total medal\n",
    "|----|----|----|--|\n",
    "United States   552|United States    440|United States    320|United States    1312\n",
    "Russia           234|Australia        226|Russia           313|Russia            768\n",
    "China            234|Russia           221|Germany          223|Germany           629\n",
    "Germany         223|Germany          183|Australia        220|Australia         609\n",
    "Canada           168|China            156|Italy            142|China             530\n",
    "Australia        163|Netherlands      135|China            140|Canada            370\n",
    "Great Britain    124|Spain            116|Japan            113|Italy             331\n",
    "South Korea      110|Japan            112|South Korea      105|Great Britain     322\n",
    "France           108|France           107|Canada           104|France            318\n",
    "Netherlands      101|Italy            103|France           103|Netherlands       318"
   ]
  },
  {
   "cell_type": "code",
   "execution_count": 109,
   "id": "63582326",
   "metadata": {},
   "outputs": [
    {
     "data": {
      "text/plain": [
       "sports\n",
       "Swimming      765\n",
       "Athletics     753\n",
       "Rowing        576\n",
       "Football      407\n",
       "Hockey        386\n",
       "Ice Hockey    384\n",
       "Handball      351\n",
       "Canoeing      333\n",
       "Waterpolo     306\n",
       "Cycling       306\n",
       "Name: total_medal, dtype: int64"
      ]
     },
     "execution_count": 109,
     "metadata": {},
     "output_type": "execute_result"
    }
   ],
   "source": [
    "df4 = df['total_medal'].groupby(df['sports']).sum().sort_values(ascending=False)\n",
    "df4.head(10)"
   ]
  },
  {
   "cell_type": "markdown",
   "id": "94191df6",
   "metadata": {},
   "source": [
    "Swimming is the sport having highest number of total medals of 765.After that athletics got more medals."
   ]
  },
  {
   "cell_type": "code",
   "execution_count": 111,
   "id": "aedbceb7",
   "metadata": {},
   "outputs": [
    {
     "data": {
      "text/plain": [
       "year\n",
       "2008    2050\n",
       "2000    2005\n",
       "2004    2004\n",
       "2012    1941\n",
       "2006     526\n",
       "2010     520\n",
       "2002     478\n",
       "Name: total_medal, dtype: int64"
      ]
     },
     "execution_count": 111,
     "metadata": {},
     "output_type": "execute_result"
    }
   ],
   "source": [
    "df4 = df['total_medal'].groupby(df['year']).sum().sort_values(ascending=False)\n",
    "df4.head(10)"
   ]
  },
  {
   "cell_type": "markdown",
   "id": "c0e9215e",
   "metadata": {},
   "source": [
    "In 2008, 2050 medals won by athlets which is highest."
   ]
  },
  {
   "cell_type": "code",
   "execution_count": 112,
   "id": "a817c8d3",
   "metadata": {},
   "outputs": [
    {
     "data": {
      "text/plain": [
       "age\n",
       "24.0    285\n",
       "25.0    261\n",
       "26.0    251\n",
       "23.0    249\n",
       "28.0    238\n",
       "22.0    227\n",
       "27.0    223\n",
       "29.0    184\n",
       "21.0    158\n",
       "30.0    149\n",
       "Name: gold_medal, dtype: int64"
      ]
     },
     "execution_count": 112,
     "metadata": {},
     "output_type": "execute_result"
    }
   ],
   "source": [
    "df5 = df['gold_medal'].groupby(df['age']).sum().sort_values(ascending=False)\n",
    "df5.head(10)"
   ]
  },
  {
   "cell_type": "markdown",
   "id": "189125c2",
   "metadata": {},
   "source": [
    "At age of 24, athlets won more medals of 285."
   ]
  },
  {
   "cell_type": "code",
   "execution_count": 113,
   "id": "fba7278b",
   "metadata": {},
   "outputs": [
    {
     "data": {
      "text/plain": [
       "name\n",
       "Michael Phelps         22\n",
       "Natalie Coughlin       12\n",
       "Ryan Lochte            11\n",
       "Ole Einar Bjrndalen     9\n",
       "Leisel Jones            9\n",
       "Ian Thorpe              9\n",
       "Inge de Bruijn          8\n",
       "Katalin Kovcs           8\n",
       "Apolo Anton Ohno        8\n",
       "Jason Lezak             8\n",
       "Name: total_medal, dtype: int64"
      ]
     },
     "execution_count": 113,
     "metadata": {},
     "output_type": "execute_result"
    }
   ],
   "source": [
    "df6 = df['total_medal'].groupby(df['name']).sum().sort_values(ascending=False)\n",
    "df6.head(10)"
   ]
  },
  {
   "cell_type": "markdown",
   "id": "72a63f2c",
   "metadata": {},
   "source": [
    "Michael Phelps is the athelete who won highest number of medals of  22."
   ]
  },
  {
   "cell_type": "markdown",
   "id": "526f6b1e",
   "metadata": {},
   "source": [
    "# Conclusion:\n",
    "We read data into pandas dataaframe. we did basic exploration of data. we clean data by handling duplicates, missing values, special charecters. we transform data of age to reudce its skewness. we perform statistical analysis on cleaned data by calculating measures of central tendency & dispersion.we perform Exploratory Data analysis by analysing gold medals per country, sorting top countries with their number of gold,bronze & silver medals.Us is the country having highest number of medals in total &  also all categories. Michael Phelps won more medals. at age 24 athlete won more medals. in 2008 more medals are won. In swimming, we have more medals. \n",
    "\n",
    "**Author**: Harsha Veena\n",
    "\n",
    "**Created on** : 10:7:2022\n",
    "\n",
    "**Language**: Python\n",
    "\n",
    "**IDE**: Jupyter Notebook from Anaconda\n",
    "\n",
    "**Libraries**: numpy, pandas, seaborn, matplotlib.pyplot, re\n",
    "\n",
    "**Functions**: read_csv, head(), tail(),info(),shape,columns, duplicated(), sum(), drop(), isnull(), dropna(), fllna(), apply, groupby, count,sort_values(), ascending, describe(), median(), mode(), var(), std(), skew(), np.percentile(),np.sqrt()\n",
    "\n",
    "**purpose**: Capstone project on data analysis of Olympics data\n",
    "\n",
    "**code Reference on github** : https://github.com/Harshaveenakondeti/\n",
    "\n",
    "\n"
   ]
  }
 ],
 "metadata": {
  "kernelspec": {
   "display_name": "Python 3 (ipykernel)",
   "language": "python",
   "name": "python3"
  },
  "language_info": {
   "codemirror_mode": {
    "name": "ipython",
    "version": 3
   },
   "file_extension": ".py",
   "mimetype": "text/x-python",
   "name": "python",
   "nbconvert_exporter": "python",
   "pygments_lexer": "ipython3",
   "version": "3.9.7"
  }
 },
 "nbformat": 4,
 "nbformat_minor": 5
}
