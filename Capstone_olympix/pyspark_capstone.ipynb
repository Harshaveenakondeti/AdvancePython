{
 "cells": [
  {
   "cell_type": "markdown",
   "metadata": {
    "id": "vXmW4M-smMIB"
   },
   "source": [
    "# Olympic Data Analysis using pyspark\n",
    "\n",
    "## Capstone project -pyspark\n",
    "**By Harsha Veena on 9:7:2022** \n",
    "## Introduction:\n",
    "Olympic data is about winners information of different athletes from different country in their sport/game and their medals i particular year.we have 8618 winners information.\n",
    "            In this project, we are going to see the Olympics analysis using Python. The modern Olympic Games or Olympics are leading international sports events featuring summer and winter sports competitions in which thousands of athletes from around the world participate in a variety of competitions. The Olympic Games are considered the world’s foremost sports competition with more than 200 nations participating.\n",
    "         The total number of events in the Olympics is 339 in 33 sports. And for every event there are winners. Therefore various data is generated.So, by using Python we will analyze this data.We have **10 attributes with 8618 athletes** data.\n",
    "\n",
    "our attributes contain information like mention in following table:\n",
    "\n",
    "|information type|attributes|\n",
    "|--|--|\n",
    "|personal| name, age|\n",
    "|region| country|\n",
    "|tenure|year|\n",
    "|summary|sports,Date_Given,total_medal|\n",
    "|medal|gold,silver,bronze|\n",
    "\n",
    "\n",
    "**Data Description**\n",
    "1. **Name** is name of athlete, which is a string, **object** datatype.\n",
    "2. **age** is at which age, athlete won that, which can be continuous value, **float** datatype.\n",
    "3. **year** is which year they won of olympix, they won medal, which is specific umber, disrete **int** datatype.\n",
    "4. **Date_Given** on that date, they won medal, which should be in date format.\n",
    "5. **sports** is in which game they playes & won, which is unique string, so **object**, but we keep in **category** to reduce memory usage.\n",
    "6. **country** is from which country they represents, which is unique string or **object**, but we convert to **category** to reduce memory.\n",
    "7. **gold_medal** is athlete won number of gold medals, which is **discrete** number, so **int** format.\n",
    "8. **silver_medal** is the athlete won number of silver medals, which is **discrete** number, so **int** datatype.\n",
    "9. **brone_medal** is the athlete won number of bronze medals, which is **discrete** number , so **int** format.\n",
    "10. **total_medal** is the athlete won number of total medals, which is **discrete** number, so **int** format.\n",
    "\n",
    "## Objective:\n",
    "Our aim is to analyse given olympic data by statistically,visually and apply transformation whereever necessary and get insights from data  by answering follwong questions\n",
    "\n",
    "1. Write PySpark code to read the olympix_data.csv file\n",
    "2. Write PySpark code to print the Olympic Sports/games in the dataset.\n",
    "3. Write PySpark code to plot the total number of medals in  each Olympic Sport/game\n",
    "4. Sort the result based on the total number of medals.\n",
    "5. Find the total number of medals won by each country in swimming.\n",
    "6. Find the total number of medals won by each country in Skeleton.\n",
    "7. Find the number of medals that the US won yearly.\n",
    "8. Find the total number of medals won by each country.\n",
    "9. Who was the oldest athlete in the olympics? \n",
    "10. Which country was he/she from?\n",
    "\n",
    "## Data Collection:\n",
    "Data was downloaded from odin school LMS portal and saved in local computer.Our data is in csv format. we need to convert to spark dataframe to analyze. so first we need to install pyspark & create spark session to analyse data. we need to import pandas,matplotlib,seaborn for plots, ."
   ]
  },
  {
   "cell_type": "code",
   "execution_count": 1,
   "metadata": {
    "colab": {
     "base_uri": "https://localhost:8080/"
    },
    "id": "1I6rwCkqvzk7",
    "outputId": "81fc1146-96b3-4bcf-a0d4-12ebbb71a2ff"
   },
   "outputs": [
    {
     "name": "stdout",
     "output_type": "stream",
     "text": [
      "Looking in indexes: https://pypi.org/simple, https://us-python.pkg.dev/colab-wheels/public/simple/\n",
      "Collecting pyspark\n",
      "  Downloading pyspark-3.3.0.tar.gz (281.3 MB)\n",
      "\u001b[K     |████████████████████████████████| 281.3 MB 44 kB/s \n",
      "\u001b[?25hCollecting py4j==0.10.9.5\n",
      "  Downloading py4j-0.10.9.5-py2.py3-none-any.whl (199 kB)\n",
      "\u001b[K     |████████████████████████████████| 199 kB 55.9 MB/s \n",
      "\u001b[?25hBuilding wheels for collected packages: pyspark\n",
      "  Building wheel for pyspark (setup.py) ... \u001b[?25l\u001b[?25hdone\n",
      "  Created wheel for pyspark: filename=pyspark-3.3.0-py2.py3-none-any.whl size=281764026 sha256=fb9c85f3d93cb4a0646552b001b4a4632880a9fb4fee488c0f444e1a67f08b66\n",
      "  Stored in directory: /root/.cache/pip/wheels/7a/8e/1b/f73a52650d2e5f337708d9f6a1750d451a7349a867f928b885\n",
      "Successfully built pyspark\n",
      "Installing collected packages: py4j, pyspark\n",
      "Successfully installed py4j-0.10.9.5 pyspark-3.3.0\n"
     ]
    }
   ],
   "source": [
    "pip install pyspark"
   ]
  },
  {
   "cell_type": "code",
   "execution_count": 2,
   "metadata": {
    "colab": {
     "base_uri": "https://localhost:8080/"
    },
    "id": "UjYekMb5wBie",
    "outputId": "4aa4f3b0-acc6-4cd8-d0e9-f981863604f2"
   },
   "outputs": [
    {
     "name": "stderr",
     "output_type": "stream",
     "text": [
      "/usr/local/lib/python3.7/dist-packages/pyspark/sql/context.py:114: FutureWarning: Deprecated in 3.0.0. Use SparkSession.builder.getOrCreate() instead.\n",
      "  FutureWarning,\n"
     ]
    }
   ],
   "source": [
    "# initializing pyspark\n",
    "from pyspark import SparkContext, SparkConf\n",
    "from pyspark.sql import SparkSession\n",
    "from pyspark.sql import SQLContext\n",
    "conf= SparkConf().setAppName('capstone')\n",
    "sc=SparkContext(conf=conf)\n",
    "spark=SparkSession.builder.appName('Test').getOrCreate()\n",
    "sqlcontext=SQLContext(sc)"
   ]
  },
  {
   "cell_type": "code",
   "execution_count": null,
   "metadata": {
    "colab": {
     "base_uri": "https://localhost:8080/"
    },
    "id": "Le0GmvCkwIXz",
    "outputId": "9a12d5ca-59af-4f86-bfe3-84247c28c50f"
   },
   "outputs": [
    {
     "name": "stdout",
     "output_type": "stream",
     "text": [
      "+----------------+---+-------------+----+----------+----------+----------+------------+-----------+-----------+\n",
      "|            name|age|      country|year|Date_Given|    sports|gold_medal|silver_medal|brone_medal|total_medal|\n",
      "+----------------+---+-------------+----+----------+----------+----------+------------+-----------+-----------+\n",
      "|  Michael Phelps| 23|United States|2008| 8/24/2008|  Swimming|         8|           0|          0|          8|\n",
      "|  Michael Phelps| 19|United States|2004| 8/29/2004|  Swimming|         6|           0|          2|          8|\n",
      "|  Michael Phelps| 27|United States|2012|08-12-2012|  Swimming|         4|           2|          0|          6|\n",
      "|Natalie Coughlin| 25|United States|2008| 8/24/2008|  Swimming|         1|           2|          3|          6|\n",
      "|   Aleksey Nemov| 24|       Russia|2000|10-01-2000|Gymnastics|         2|           1|          3|          6|\n",
      "+----------------+---+-------------+----+----------+----------+----------+------------+-----------+-----------+\n",
      "only showing top 5 rows\n",
      "\n"
     ]
    }
   ],
   "source": [
    "# reading data\n",
    "df = spark.read.format(\"csv\").option(\"header\",\"true\").option(\"inferschema\",\"true\").load(\"/content/olympix_data_organized_with_header (1) (1).csv\")\n",
    "df.show(5)   # display top 5 rows"
   ]
  },
  {
   "cell_type": "code",
   "execution_count": null,
   "metadata": {
    "colab": {
     "base_uri": "https://localhost:8080/"
    },
    "id": "LcGM_YbgwIUv",
    "outputId": "6cb8c2b7-355b-48dc-fc0b-62e99ec46cd1"
   },
   "outputs": [
    {
     "data": {
      "text/plain": [
       "['name',\n",
       " 'age',\n",
       " 'country',\n",
       " 'year',\n",
       " 'Date_Given',\n",
       " 'sports',\n",
       " 'gold_medal',\n",
       " 'silver_medal',\n",
       " 'brone_medal',\n",
       " 'total_medal']"
      ]
     },
     "execution_count": 179,
     "metadata": {},
     "output_type": "execute_result"
    }
   ],
   "source": [
    "df.columns  # display column names"
   ]
  },
  {
   "cell_type": "code",
   "execution_count": null,
   "metadata": {
    "colab": {
     "base_uri": "https://localhost:8080/"
    },
    "id": "LYA9LdRc2Qv0",
    "outputId": "3b3152ab-4963-41a1-e026-193843592ae0"
   },
   "outputs": [
    {
     "data": {
      "text/plain": [
       "8618"
      ]
     },
     "execution_count": 180,
     "metadata": {},
     "output_type": "execute_result"
    }
   ],
   "source": [
    "df.count()  # count of rows"
   ]
  },
  {
   "cell_type": "markdown",
   "metadata": {
    "id": "_IUAkrS9ns-B"
   },
   "source": [
    "we have 8618 athletes data"
   ]
  },
  {
   "cell_type": "code",
   "execution_count": null,
   "metadata": {
    "colab": {
     "base_uri": "https://localhost:8080/"
    },
    "id": "SrDboO38wINE",
    "outputId": "911227bc-ccdb-4502-e794-f90441e529f5"
   },
   "outputs": [
    {
     "data": {
      "text/plain": [
       "8615"
      ]
     },
     "execution_count": 181,
     "metadata": {},
     "output_type": "execute_result"
    }
   ],
   "source": [
    "#from pyspark.sql.functions import countDistinct\n",
    "# verify any duplicates\n",
    "df1 = df.distinct() # new daatframe form , without duplicate\n",
    "df1.count()"
   ]
  },
  {
   "cell_type": "markdown",
   "metadata": {
    "id": "Lm8Kqa7snxd2"
   },
   "source": [
    "It remove duplicates, after duplicates, we have 8615 athletes data"
   ]
  },
  {
   "cell_type": "code",
   "execution_count": null,
   "metadata": {
    "colab": {
     "base_uri": "https://localhost:8080/"
    },
    "id": "jEVNUyeHwISU",
    "outputId": "e3846d6a-4231-437b-e976-6f2befecd63b"
   },
   "outputs": [
    {
     "name": "stdout",
     "output_type": "stream",
     "text": [
      "root\n",
      " |-- name: string (nullable = true)\n",
      " |-- age: integer (nullable = true)\n",
      " |-- country: string (nullable = true)\n",
      " |-- year: integer (nullable = true)\n",
      " |-- Date_Given: string (nullable = true)\n",
      " |-- sports: string (nullable = true)\n",
      " |-- gold_medal: integer (nullable = true)\n",
      " |-- silver_medal: integer (nullable = true)\n",
      " |-- brone_medal: integer (nullable = true)\n",
      " |-- total_medal: integer (nullable = true)\n",
      "\n"
     ]
    }
   ],
   "source": [
    "df1.printSchema()  # datatypes of columns"
   ]
  },
  {
   "cell_type": "markdown",
   "metadata": {
    "id": "ahF9LOpmwzHQ"
   },
   "source": [
    "Here Date_given should be in date format, we need o cast it to data type."
   ]
  },
  {
   "cell_type": "code",
   "execution_count": 10,
   "metadata": {
    "id": "i3jAv6XRxLKn"
   },
   "outputs": [],
   "source": [
    "from pyspark.sql import functions as f  # for importing functions\n",
    "from pyspark.sql.functions import *   # to import all methods to use further\n",
    "from pyspark.sql.functions import col,isnan, when, count\n",
    "from pyspark.sql.types import * # to import dataypes to cast\n",
    "from pyspark.sql.functions import regexp_replace, regexp_extract   # deal with special charecers in data"
   ]
  },
  {
   "cell_type": "code",
   "execution_count": null,
   "metadata": {
    "colab": {
     "base_uri": "https://localhost:8080/"
    },
    "id": "CJCpnEEoQW2k",
    "outputId": "02de1169-0739-4923-fa3f-9b74f182c957"
   },
   "outputs": [
    {
     "name": "stdout",
     "output_type": "stream",
     "text": [
      "+-------+-------------+------------------+-----------+------------------+----------+-------------+------------------+-------------------+------------------+------------------+\n",
      "|summary|         name|               age|    country|              year|Date_Given|       sports|        gold_medal|       silver_medal|       brone_medal|       total_medal|\n",
      "+-------+-------------+------------------+-----------+------------------+----------+-------------+------------------+-------------------+------------------+------------------+\n",
      "|  count|         8613|              8613|       8615|              8615|      8615|         8615|              8615|               8615|              8615|              8615|\n",
      "|   mean|         null|26.405433646812956|       null|2005.9767846778875|      null|         null|0.3648287869994196|0.36308763784097503|0.3778293673824724| 1.105745792222867|\n",
      "| stddev|         null| 5.102118191961385|       null| 4.289221118191563|      null|         null|0.5454013505748084| 0.5115637340634982| 0.505043682369853|0.4089584224909971|\n",
      "|    min|A. J. Mleczko|                15|Afghanistan|              2000|08-12-2012|Alpine Skiing|                 0|                  0|                 0|                 1|\n",
      "|    max|  Živko Gocic|                61|   Zimbabwe|              2012| 8/29/2004|    Wrestling|                 8|                  3|                 3|                 8|\n",
      "+-------+-------------+------------------+-----------+------------------+----------+-------------+------------------+-------------------+------------------+------------------+\n",
      "\n"
     ]
    }
   ],
   "source": [
    "df1.describe().show()  # ststistical analysis"
   ]
  },
  {
   "cell_type": "markdown",
   "metadata": {
    "id": "rjXB9t-HQn_y"
   },
   "source": [
    "we need to clen data, name column has special charecters"
   ]
  },
  {
   "cell_type": "code",
   "execution_count": null,
   "metadata": {
    "colab": {
     "base_uri": "https://localhost:8080/"
    },
    "id": "Zcy6riCAQjuE",
    "outputId": "45d29dfb-aabc-4acd-d30e-30184c83b14e"
   },
   "outputs": [
    {
     "data": {
      "text/plain": [
       "DataFrame[age: int, year: int, gold_medal: int, brone_medal: int, silver_medal: int]"
      ]
     },
     "execution_count": 186,
     "metadata": {},
     "output_type": "execute_result"
    }
   ],
   "source": [
    "df_num = df.select(\"age\",'year','gold_medal','brone_medal','silver_medal')\n",
    "df_num.cache() # storage changed to disk"
   ]
  },
  {
   "cell_type": "code",
   "execution_count": null,
   "metadata": {
    "colab": {
     "base_uri": "https://localhost:8080/"
    },
    "id": "CuH3IFJXRahJ",
    "outputId": "73b09a9e-9d90-42d7-e068-1d17c02b295a"
   },
   "outputs": [
    {
     "name": "stdout",
     "output_type": "stream",
     "text": [
      "+-------+------------------+------------------+-------------------+------------------+-------------------+\n",
      "|summary|               age|              year|         gold_medal|       brone_medal|       silver_medal|\n",
      "+-------+------------------+------------------+-------------------+------------------+-------------------+\n",
      "|  count|              8613|              8618|               8618|              8618|               8618|\n",
      "|   mean|26.405433646812956|2005.9788814110002|0.36470178695753075|0.3776978417266187|0.36330935251798563|\n",
      "| stddev|  5.10211819196138| 4.289946258614372| 0.5453488740297667|0.5050049522149438| 0.5116126702333476|\n",
      "|    min|                15|              2000|                  0|                 0|                  0|\n",
      "|    max|                61|              2012|                  8|                 3|                  3|\n",
      "+-------+------------------+------------------+-------------------+------------------+-------------------+\n",
      "\n"
     ]
    }
   ],
   "source": [
    "df_num.describe().show()  # statistical analysis of numerical columns"
   ]
  },
  {
   "cell_type": "code",
   "execution_count": null,
   "metadata": {
    "colab": {
     "base_uri": "https://localhost:8080/"
    },
    "id": "oqT0i8up0z5B",
    "outputId": "7e799ada-dd78-4747-84d6-d6bc45ac2127"
   },
   "outputs": [
    {
     "name": "stdout",
     "output_type": "stream",
     "text": [
      "+----+---+-------+----+----------+------+----------+------------+-----------+-----------+\n",
      "|name|age|country|year|Date_Given|sports|gold_medal|silver_medal|brone_medal|total_medal|\n",
      "+----+---+-------+----+----------+------+----------+------------+-----------+-----------+\n",
      "|   2|  2|      0|   0|         0|     0|         0|           0|          0|          0|\n",
      "+----+---+-------+----+----------+------+----------+------------+-----------+-----------+\n",
      "\n"
     ]
    }
   ],
   "source": [
    "# using when condition to check null,nana in all columns\n",
    "df1.select([count(when(isnan(c) | col(c).isNull(), c)).alias(c) for c in df.columns]\n",
    "           ).show()"
   ]
  },
  {
   "cell_type": "markdown",
   "metadata": {
    "id": "JOx4e-qV4_yD"
   },
   "source": [
    "Only name and age column have 2 null values. which is very small compared to whole data. so we can drop them."
   ]
  },
  {
   "cell_type": "code",
   "execution_count": null,
   "metadata": {
    "id": "sGCy9qG05NUh"
   },
   "outputs": [],
   "source": [
    "df1 = df1.na.drop()  # drop null values rows"
   ]
  },
  {
   "cell_type": "code",
   "execution_count": null,
   "metadata": {
    "colab": {
     "base_uri": "https://localhost:8080/"
    },
    "id": "VuEW2uuT6-9e",
    "outputId": "6cf19ca3-a8c7-46a6-a1b0-8b1a99b1af50"
   },
   "outputs": [
    {
     "name": "stdout",
     "output_type": "stream",
     "text": [
      "+----+---+-------+----+----------+------+----------+------------+-----------+-----------+\n",
      "|name|age|country|year|Date_Given|sports|gold_medal|silver_medal|brone_medal|total_medal|\n",
      "+----+---+-------+----+----------+------+----------+------------+-----------+-----------+\n",
      "|   0|  0|      0|   0|         0|     0|         0|           0|          0|          0|\n",
      "+----+---+-------+----+----------+------+----------+------------+-----------+-----------+\n",
      "\n"
     ]
    }
   ],
   "source": [
    "df1.select([count(when(isnan(c) | col(c).isNull(), c)).alias(c) for c in df.columns]\n",
    "   ).show()"
   ]
  },
  {
   "cell_type": "markdown",
   "metadata": {
    "id": "W0gBhN9ooEYQ"
   },
   "source": [
    "Now null values, we dropped, because it is less than 0.5 % of data. it doesnt affect data"
   ]
  },
  {
   "cell_type": "code",
   "execution_count": null,
   "metadata": {
    "colab": {
     "base_uri": "https://localhost:8080/"
    },
    "id": "67Xkr9YXx_te",
    "outputId": "15b2f4f1-f0ca-4717-a25b-218f83145681"
   },
   "outputs": [
    {
     "name": "stdout",
     "output_type": "stream",
     "text": [
      "+----------+----------+\n",
      "|      Date|Date_Given|\n",
      "+----------+----------+\n",
      "| 2/26/2006| 2/26/2006|\n",
      "|10/01/2000|10-01-2000|\n",
      "|10/01/2000|10-01-2000|\n",
      "| 2/28/2010| 2/28/2010|\n",
      "|08/12/2012|08-12-2012|\n",
      "| 8/24/2008| 8/24/2008|\n",
      "|10/01/2000|10-01-2000|\n",
      "|10/01/2000|10-01-2000|\n",
      "|08/12/2012|08-12-2012|\n",
      "| 8/24/2008| 8/24/2008|\n",
      "| 8/24/2008| 8/24/2008|\n",
      "|10/01/2000|10-01-2000|\n",
      "|08/12/2012|08-12-2012|\n",
      "| 8/24/2008| 8/24/2008|\n",
      "| 8/24/2008| 8/24/2008|\n",
      "|10/01/2000|10-01-2000|\n",
      "|10/01/2000|10-01-2000|\n",
      "| 2/28/2010| 2/28/2010|\n",
      "| 2/24/2002| 2/24/2002|\n",
      "|08/12/2012|08-12-2012|\n",
      "| 8/24/2008| 8/24/2008|\n",
      "|08/12/2012|08-12-2012|\n",
      "| 8/24/2008| 8/24/2008|\n",
      "|08/12/2012|08-12-2012|\n",
      "|08/12/2012|08-12-2012|\n",
      "| 8/29/2004| 8/29/2004|\n",
      "|08/12/2012|08-12-2012|\n",
      "|10/01/2000|10-01-2000|\n",
      "| 2/24/2002| 2/24/2002|\n",
      "| 8/24/2008| 8/24/2008|\n",
      "+----------+----------+\n",
      "only showing top 30 rows\n",
      "\n"
     ]
    }
   ],
   "source": [
    "df1 = df1.withColumn('Date',regexp_replace(col('Date_Given'),'-','/'))  # it replace - to /\n",
    "df1.select('Date','Date_Given').show(30)"
   ]
  },
  {
   "cell_type": "markdown",
   "metadata": {
    "id": "vwpqxSExoQN9"
   },
   "source": [
    "data column have /,- symbols, we replace & keep in one format"
   ]
  },
  {
   "cell_type": "code",
   "execution_count": null,
   "metadata": {
    "colab": {
     "base_uri": "https://localhost:8080/"
    },
    "id": "Tvixmt07wIPJ",
    "outputId": "bfdc0a44-0ef6-44ce-fdc2-d492cb7206d9"
   },
   "outputs": [
    {
     "name": "stdout",
     "output_type": "stream",
     "text": [
      "root\n",
      " |-- name: string (nullable = true)\n",
      " |-- age: integer (nullable = true)\n",
      " |-- country: string (nullable = true)\n",
      " |-- year: integer (nullable = true)\n",
      " |-- Date_Given: string (nullable = true)\n",
      " |-- sports: string (nullable = true)\n",
      " |-- gold_medal: integer (nullable = true)\n",
      " |-- silver_medal: integer (nullable = true)\n",
      " |-- brone_medal: integer (nullable = true)\n",
      " |-- total_medal: integer (nullable = true)\n",
      " |-- Date: date (nullable = true)\n",
      "\n"
     ]
    },
    {
     "data": {
      "text/plain": [
       "['name',\n",
       " 'age',\n",
       " 'country',\n",
       " 'year',\n",
       " 'Date_Given',\n",
       " 'sports',\n",
       " 'gold_medal',\n",
       " 'silver_medal',\n",
       " 'brone_medal',\n",
       " 'total_medal',\n",
       " 'Date']"
      ]
     },
     "execution_count": 197,
     "metadata": {},
     "output_type": "execute_result"
    }
   ],
   "source": [
    "df1 = df1.withColumn('Date',f.to_date(col(\"Date\"),\"MM/dd/yyyy\"))\n",
    "\n",
    "df1.printSchema()\n",
    "df1.columns"
   ]
  },
  {
   "cell_type": "markdown",
   "metadata": {
    "id": "Nl4nWqop4hpn"
   },
   "source": [
    "I casted string to data & store in new column called Date and drop old column Date_Given."
   ]
  },
  {
   "cell_type": "code",
   "execution_count": null,
   "metadata": {
    "id": "KHvJ3ty108rr"
   },
   "outputs": [],
   "source": [
    "df1 =df1.drop('Date_Given')"
   ]
  },
  {
   "cell_type": "code",
   "execution_count": null,
   "metadata": {
    "colab": {
     "base_uri": "https://localhost:8080/"
    },
    "id": "f9X6nJ261Fo5",
    "outputId": "345c9f98-a24a-4d55-b7ea-665b633dbabd"
   },
   "outputs": [
    {
     "name": "stdout",
     "output_type": "stream",
     "text": [
      "root\n",
      " |-- name: string (nullable = true)\n",
      " |-- age: integer (nullable = true)\n",
      " |-- country: string (nullable = true)\n",
      " |-- year: integer (nullable = true)\n",
      " |-- sports: string (nullable = true)\n",
      " |-- gold_medal: integer (nullable = true)\n",
      " |-- silver_medal: integer (nullable = true)\n",
      " |-- brone_medal: integer (nullable = true)\n",
      " |-- total_medal: integer (nullable = true)\n",
      " |-- Date: date (nullable = true)\n",
      "\n"
     ]
    },
    {
     "data": {
      "text/plain": [
       "['name',\n",
       " 'age',\n",
       " 'country',\n",
       " 'year',\n",
       " 'sports',\n",
       " 'gold_medal',\n",
       " 'silver_medal',\n",
       " 'brone_medal',\n",
       " 'total_medal',\n",
       " 'Date']"
      ]
     },
     "execution_count": 199,
     "metadata": {},
     "output_type": "execute_result"
    }
   ],
   "source": [
    "df1.printSchema()\n",
    "df1.columns"
   ]
  },
  {
   "cell_type": "code",
   "execution_count": null,
   "metadata": {
    "colab": {
     "base_uri": "https://localhost:8080/"
    },
    "id": "K6LGoQPW7VL9",
    "outputId": "319bd22d-6b28-4e1e-aea4-ba5351b7626b"
   },
   "outputs": [
    {
     "data": {
      "text/plain": [
       "8613"
      ]
     },
     "execution_count": 201,
     "metadata": {},
     "output_type": "execute_result"
    }
   ],
   "source": [
    "df1.count() # after removing missing values"
   ]
  },
  {
   "cell_type": "code",
   "execution_count": null,
   "metadata": {
    "colab": {
     "base_uri": "https://localhost:8080/"
    },
    "id": "vtBj6IIyRad2",
    "outputId": "f7cb191f-dfc3-4583-d77e-2c1d79cd7fdd"
   },
   "outputs": [
    {
     "name": "stdout",
     "output_type": "stream",
     "text": [
      "+--------------------+--------------------+\n",
      "|                Name|                name|\n",
      "+--------------------+--------------------+\n",
      "|           Wang Meng|           Wang Meng|\n",
      "|          Rita König|          Rita König|\n",
      "|       Botond Storcz|       Botond Storcz|\n",
      "|Ole Einar Bjørndalen|Ole Einar Bjørndalen|\n",
      "|       Roser Tarragó|       Roser Tarragó|\n",
      "|        Mieke Cabout|        Mieke Cabout|\n",
      "|          Vasa Mijic|          Vasa Mijic|\n",
      "|    Huang ChihHsiung|    Huang ChihHsiung|\n",
      "|              Luo Xi|              Luo Xi|\n",
      "|     Yevgeny Lagunov|     Yevgeny Lagunov|\n",
      "|        Ayumi Karino|        Ayumi Karino|\n",
      "|       Crystl Bustos|       Crystl Bustos|\n",
      "|       Jessica Rossi|       Jessica Rossi|\n",
      "|     Nino Salukvadze|     Nino Salukvadze|\n",
      "|     Merel Witteveen|     Merel Witteveen|\n",
      "|      Simon Hiscocks|      Simon Hiscocks|\n",
      "|Georgios Vazagkas...|Georgios Vazagkas...|\n",
      "|        Saija Sirviö|        Saija Sirviö|\n",
      "|  Isabelle Chartrand|  Isabelle Chartrand|\n",
      "|         Beth Storry|         Beth Storry|\n",
      "|     Raúl Entrerríos|     Raúl Entrerríos|\n",
      "|       Néstor Vidrio|       Néstor Vidrio|\n",
      "|        Dele Adeleye|        Dele Adeleye|\n",
      "|    Rares Dumitrescu|    Rares Dumitrescu|\n",
      "|          Kim JiYeon|          Kim JiYeon|\n",
      "|       Zsolt Nemcsik|       Zsolt Nemcsik|\n",
      "|       Zara Phillips|       Zara Phillips|\n",
      "|Lesley McNaughtMä...|Lesley McNaughtMä...|\n",
      "|     Laurence Rochat|     Laurence Rochat|\n",
      "|        Chantal Meek|        Chantal Meek|\n",
      "+--------------------+--------------------+\n",
      "only showing top 30 rows\n",
      "\n"
     ]
    }
   ],
   "source": [
    "regex_string ='[!@#$%&*_^~-]'  # all special charecters store in one variable\n",
    "df1 = df1.withColumn('Name',regexp_replace(col('name'),regex_string,''))  # it removes special charecters\n",
    "df1.select('Name','name').show(30)\n"
   ]
  },
  {
   "cell_type": "markdown",
   "metadata": {
    "id": "YTvnPFz3obhr"
   },
   "source": [
    "We replaced special characters in name column"
   ]
  },
  {
   "cell_type": "code",
   "execution_count": null,
   "metadata": {
    "colab": {
     "base_uri": "https://localhost:8080/",
     "height": 295
    },
    "id": "RCCZrso9aU2n",
    "outputId": "5eb27f7a-f619-4e75-c159-778129c702d8"
   },
   "outputs": [
    {
     "data": {
      "image/png": "[encoded data removed]",
      "text/plain": [
       "<Figure size 432x288 with 1 Axes>"
      ]
     },
     "metadata": {
      "needs_background": "light"
     },
     "output_type": "display_data"
    }
   ],
   "source": [
    "import matplotlib.pyplot as plt     # visualizing data for numbber of medals freach year\n",
    "dfplot = df1.groupBy('year').sum('total_medal')\n",
    "x = dfplot.toPandas()['year'].values.tolist()\n",
    "y = dfplot.toPandas()['sum(total_medal)'].values.tolist()\n",
    "plt.bar(x,y)\n",
    "plt.title('total count of medals per year')\n",
    "plt.xlabel('year')\n",
    "plt.ylabel('total medals')\n",
    "plt.show()"
   ]
  },
  {
   "cell_type": "code",
   "execution_count": null,
   "metadata": {
    "colab": {
     "base_uri": "https://localhost:8080/",
     "height": 73
    },
    "id": "juEXetHSaUyw",
    "outputId": "e6d6e489-9b69-4b60-a01a-14c6a9a739e0"
   },
   "outputs": [
    {
     "data": {
      "image/png": "[encoded data removed]",
      "text/plain": [
       "<Figure size 7200x360 with 1 Axes>"
      ]
     },
     "metadata": {
      "needs_background": "light"
     },
     "output_type": "display_data"
    }
   ],
   "source": [
    "dfplot1 = df1.groupBy('country').sum('total_medal')\n",
    "x = dfplot1.toPandas()['country'].values.tolist()\n",
    "y = dfplot1.toPandas()['sum(total_medal)'].values.tolist()\n",
    "plt.figure(figsize=(100,5))\n",
    "plt.bar(x,y)\n",
    "plt.title('total count of medals per country')\n",
    "plt.xlabel('year')\n",
    "plt.ylabel('total medals')\n",
    "plt.show()"
   ]
  },
  {
   "cell_type": "code",
   "execution_count": null,
   "metadata": {
    "colab": {
     "base_uri": "https://localhost:8080/"
    },
    "id": "JZzgL1bVaUtP",
    "outputId": "4be660cb-ec45-4f8f-9722-34e94a944592"
   },
   "outputs": [
    {
     "data": {
      "text/plain": [
       "-0.15099280680987004"
      ]
     },
     "execution_count": 206,
     "metadata": {},
     "output_type": "execute_result"
    }
   ],
   "source": [
    "df1.stat.cov('age','total_medal')  # covariance between 2 columns"
   ]
  },
  {
   "cell_type": "markdown",
   "metadata": {
    "id": "09Nk6AtWfgEj"
   },
   "source": [
    "It is negatively correlated. when age more, u will get less medals."
   ]
  },
  {
   "cell_type": "code",
   "execution_count": null,
   "metadata": {
    "colab": {
     "base_uri": "https://localhost:8080/"
    },
    "id": "fop614iXaUrQ",
    "outputId": "ffdd61bf-1b97-4b4e-a6cd-3b4d370a68e6"
   },
   "outputs": [
    {
     "data": {
      "text/plain": [
       "-0.02955324132937454"
      ]
     },
     "execution_count": 207,
     "metadata": {},
     "output_type": "execute_result"
    }
   ],
   "source": [
    "df1.stat.corr('age','gold_medal')  # correlation betwen age & geting gold medal"
   ]
  },
  {
   "cell_type": "markdown",
   "metadata": {
    "id": "j34oaHeqfw1z"
   },
   "source": [
    "it is negatively correlated"
   ]
  },
  {
   "cell_type": "code",
   "execution_count": null,
   "metadata": {
    "colab": {
     "base_uri": "https://localhost:8080/"
    },
    "id": "hGNEp_K2aUo_",
    "outputId": "f277bd2a-cce2-4063-d4e1-8a0e210665f5"
   },
   "outputs": [
    {
     "name": "stdout",
     "output_type": "stream",
     "text": [
      "+--------------+---+---+---+---+---+---+---+\n",
      "|age_gold_medal|  0|  1|  2|  3|  4|  6|  8|\n",
      "+--------------+---+---+---+---+---+---+---+\n",
      "|            56|  1|  0|  0|  0|  0|  0|  0|\n",
      "|            42| 13|  7|  0|  0|  0|  0|  0|\n",
      "|            24|454|244| 16|  3|  0|  0|  0|\n",
      "|            37| 38| 15|  0|  0|  0|  0|  0|\n",
      "|            25|441|224| 17|  1|  0|  0|  0|\n",
      "|            52|  1|  1|  0|  0|  0|  0|  0|\n",
      "|            20|208|106| 10|  5|  0|  0|  0|\n",
      "|            46| 12|  3|  0|  0|  0|  0|  0|\n",
      "|            29|354|162|  8|  2|  0|  0|  0|\n",
      "|            61|  1|  0|  0|  0|  0|  0|  0|\n",
      "|            28|425|217|  7|  1|  1|  0|  0|\n",
      "|            38| 29| 21|  1|  0|  0|  0|  0|\n",
      "|            21|313|134|  9|  2|  0|  0|  0|\n",
      "|            33|136| 78|  3|  0|  0|  0|  0|\n",
      "|            41| 15|  3|  0|  0|  0|  0|  0|\n",
      "|            32|197|105|  6|  1|  0|  0|  0|\n",
      "|            34|124| 52|  3|  0|  0|  0|  0|\n",
      "|            45| 10|  2|  1|  0|  0|  0|  0|\n",
      "|            17| 47| 23|  3|  2|  1|  0|  0|\n",
      "|            22|436|191| 15|  2|  0|  0|  0|\n",
      "+--------------+---+---+---+---+---+---+---+\n",
      "only showing top 20 rows\n",
      "\n"
     ]
    }
   ],
   "source": [
    "df1.stat.crosstab('age','gold_medal').show()"
   ]
  },
  {
   "cell_type": "code",
   "execution_count": null,
   "metadata": {
    "colab": {
     "base_uri": "https://localhost:8080/"
    },
    "id": "AVjifK7caUmC",
    "outputId": "1f5eafcb-12c9-4491-e320-50ae5c0247ad"
   },
   "outputs": [
    {
     "data": {
      "text/plain": [
       "[Row(name_freqItems=['Jake Kaminski'], country_freqItems=['Norway', 'United States', 'Russia'], year_freqItems=[2012, 2008, 2004], total_medal_freqItems=[2, 1, 3])]"
      ]
     },
     "execution_count": 209,
     "metadata": {},
     "output_type": "execute_result"
    }
   ],
   "source": [
    "freq = df1.stat.freqItems(('name','country','year','total_medal'),0.3)  # it shows min 30% present in data\n",
    "freq.collect()"
   ]
  },
  {
   "cell_type": "markdown",
   "metadata": {},
   "source": [
    "Jake Kaminski is most frequent player. Norway, Uited States, Russia are countries won medals most of time.2012,2008.2004 are years, in which medasa won more. mostly player won 1,2 or 3 total medals ,most of time. "
   ]
  },
  {
   "cell_type": "code",
   "execution_count": null,
   "metadata": {
    "colab": {
     "base_uri": "https://localhost:8080/"
    },
    "id": "zD-ZnaSZaUje",
    "outputId": "7cf4c10f-401f-4785-9b00-b1923d27ca8c"
   },
   "outputs": [
    {
     "data": {
      "text/plain": [
       "[23.0, 26.0, 29.0, 31.0]"
      ]
     },
     "execution_count": 210,
     "metadata": {},
     "output_type": "execute_result"
    }
   ],
   "source": [
    "#it is like IQR\n",
    "Quantileprobs = [0.25,0.5, 0.75, 0.9]\n",
    "relError =0.05  # this much erro is okay, it reduce time for execution\n",
    "df1.stat.approxQuantile('age',Quantileprobs,relError)"
   ]
  },
  {
   "cell_type": "code",
   "execution_count": null,
   "metadata": {
    "colab": {
     "base_uri": "https://localhost:8080/"
    },
    "id": "KALnqdQUaUfK",
    "outputId": "934c0929-7e75-4f51-dd69-fd1cb18ea86a"
   },
   "outputs": [
    {
     "data": {
      "text/plain": [
       "[0.0, 0.0, 1.0, 1.0]"
      ]
     },
     "execution_count": 211,
     "metadata": {},
     "output_type": "execute_result"
    }
   ],
   "source": [
    "df1.stat.approxQuantile('gold_medal',Quantileprobs,relError)"
   ]
  },
  {
   "cell_type": "code",
   "execution_count": null,
   "metadata": {
    "colab": {
     "base_uri": "https://localhost:8080/"
    },
    "id": "zq2JrGHiaUbu",
    "outputId": "3c4173c3-4bc3-4e17-9ba4-1d8c1ee05b50"
   },
   "outputs": [
    {
     "data": {
      "text/plain": [
       "[0.0, 0.0, 1.0, 1.0]"
      ]
     },
     "execution_count": 212,
     "metadata": {},
     "output_type": "execute_result"
    }
   ],
   "source": [
    "df1.stat.approxQuantile('brone_medal',Quantileprobs,relError)"
   ]
  },
  {
   "cell_type": "code",
   "execution_count": null,
   "metadata": {
    "colab": {
     "base_uri": "https://localhost:8080/"
    },
    "id": "P8dxY8nOaUZt",
    "outputId": "69c608c2-f9b5-416a-f28c-c4a88715900c"
   },
   "outputs": [
    {
     "data": {
      "text/plain": [
       "[0.0, 0.0, 1.0, 1.0]"
      ]
     },
     "execution_count": 213,
     "metadata": {},
     "output_type": "execute_result"
    }
   ],
   "source": [
    "df1.stat.approxQuantile('silver_medal',Quantileprobs,relError)"
   ]
  },
  {
   "cell_type": "code",
   "execution_count": null,
   "metadata": {
    "colab": {
     "base_uri": "https://localhost:8080/"
    },
    "id": "cWuh9-sCiHPZ",
    "outputId": "43c354ae-14f7-4b04-d05f-bd31b69a9525"
   },
   "outputs": [
    {
     "data": {
      "text/plain": [
       "[1.0, 1.0, 1.0, 1.0]"
      ]
     },
     "execution_count": 214,
     "metadata": {},
     "output_type": "execute_result"
    }
   ],
   "source": [
    "df1.stat.approxQuantile('total_medal',Quantileprobs,relError)"
   ]
  },
  {
   "cell_type": "code",
   "execution_count": null,
   "metadata": {
    "colab": {
     "base_uri": "https://localhost:8080/"
    },
    "id": "89DPSG0JiNXo",
    "outputId": "400ee017-2383-4e12-a6f2-7eaca4876fe9"
   },
   "outputs": [
    {
     "name": "stdout",
     "output_type": "stream",
     "text": [
      "+------------------+\n",
      "|     skewness(age)|\n",
      "+------------------+\n",
      "|0.8588574589372446|\n",
      "+------------------+\n",
      "\n"
     ]
    }
   ],
   "source": [
    "# to find age symmetric or skewed\n",
    "df1.agg({'age':'skewness'}).show()"
   ]
  },
  {
   "cell_type": "markdown",
   "metadata": {
    "id": "5aMsdq56ovR9"
   },
   "source": [
    "If skewnes value  betwen 0.5 to 1. It shows moderately skewed. so we need to apply square root transformation."
   ]
  },
  {
   "cell_type": "code",
   "execution_count": null,
   "metadata": {
    "colab": {
     "base_uri": "https://localhost:8080/"
    },
    "id": "FhEySAcNiNVF",
    "outputId": "ff2d584d-34dc-44fa-f93b-175050c21739"
   },
   "outputs": [
    {
     "data": {
      "text/plain": [
       "['Name',\n",
       " 'age',\n",
       " 'country',\n",
       " 'year',\n",
       " 'sports',\n",
       " 'gold_medal',\n",
       " 'silver_medal',\n",
       " 'brone_medal',\n",
       " 'total_medal',\n",
       " 'Date',\n",
       " 'Age_trans']"
      ]
     },
     "execution_count": 216,
     "metadata": {},
     "output_type": "execute_result"
    }
   ],
   "source": [
    "df1 =df1.withColumn('Age_trans',f.sqrt('age'))\n",
    "df1.columns"
   ]
  },
  {
   "cell_type": "code",
   "execution_count": null,
   "metadata": {
    "colab": {
     "base_uri": "https://localhost:8080/"
    },
    "id": "hrwsAArOiNQO",
    "outputId": "ad1af572-ff82-4206-d2aa-971da6114cba"
   },
   "outputs": [
    {
     "name": "stdout",
     "output_type": "stream",
     "text": [
      "+-----------------+\n",
      "|      stddev(age)|\n",
      "+-----------------+\n",
      "|5.102118191961385|\n",
      "+-----------------+\n",
      "\n"
     ]
    }
   ],
   "source": [
    "df1.agg({'age':'stddev'}).show()"
   ]
  },
  {
   "cell_type": "code",
   "execution_count": null,
   "metadata": {
    "colab": {
     "base_uri": "https://localhost:8080/"
    },
    "id": "a2YYLrc11zq8",
    "outputId": "b50683d2-6cc3-4df6-a5ce-334c6bd9e889"
   },
   "outputs": [
    {
     "name": "stdout",
     "output_type": "stream",
     "text": [
      "+-------------------+\n",
      "|stddev(total_medal)|\n",
      "+-------------------+\n",
      "|0.40900273140259247|\n",
      "+-------------------+\n",
      "\n"
     ]
    }
   ],
   "source": [
    "df1.agg({'total_medal':'stddev'}).show()"
   ]
  },
  {
   "cell_type": "code",
   "execution_count": null,
   "metadata": {
    "colab": {
     "base_uri": "https://localhost:8080/"
    },
    "id": "JsUvf8u5p-ma",
    "outputId": "0b248ab7-2fc8-422d-aa21-270d00045d11"
   },
   "outputs": [
    {
     "name": "stdout",
     "output_type": "stream",
     "text": [
      "+------------------+\n",
      "|stddev(gold_medal)|\n",
      "+------------------+\n",
      "|0.5454363359989107|\n",
      "+------------------+\n",
      "\n"
     ]
    }
   ],
   "source": [
    "df1.agg({'gold_medal':'stddev'}).show()"
   ]
  },
  {
   "cell_type": "code",
   "execution_count": null,
   "metadata": {
    "colab": {
     "base_uri": "https://localhost:8080/"
    },
    "id": "vnu8PrJCp-jM",
    "outputId": "26acbb7d-d3c1-488f-f31a-97223c67a996"
   },
   "outputs": [
    {
     "name": "stdout",
     "output_type": "stream",
     "text": [
      "+-------------------+\n",
      "|stddev(brone_medal)|\n",
      "+-------------------+\n",
      "| 0.5050694967667286|\n",
      "+-------------------+\n",
      "\n"
     ]
    }
   ],
   "source": [
    "df1.agg({'brone_medal':'stddev'}).show()"
   ]
  },
  {
   "cell_type": "code",
   "execution_count": null,
   "metadata": {
    "colab": {
     "base_uri": "https://localhost:8080/"
    },
    "id": "4EXYDdGbp-gG",
    "outputId": "1d7f2783-74cc-4890-ab20-3356b6ca3116"
   },
   "outputs": [
    {
     "name": "stdout",
     "output_type": "stream",
     "text": [
      "+--------------------+\n",
      "|stddev(silver_medal)|\n",
      "+--------------------+\n",
      "|  0.5115310349685307|\n",
      "+--------------------+\n",
      "\n"
     ]
    }
   ],
   "source": [
    "df1.agg({'silver_medal':'stddev'}).show()"
   ]
  },
  {
   "cell_type": "code",
   "execution_count": null,
   "metadata": {
    "colab": {
     "base_uri": "https://localhost:8080/"
    },
    "id": "_fapSTUgtkDP",
    "outputId": "26d744b6-b077-4bbe-8011-3e5283e1bd10"
   },
   "outputs": [
    {
     "name": "stdout",
     "output_type": "stream",
     "text": [
      "+--------------------+---+-----------------+\n",
      "|                Name|age|        Age_trans|\n",
      "+--------------------+---+-----------------+\n",
      "|           Wang Meng| 20| 4.47213595499958|\n",
      "|          Rita König| 23|4.795831523312719|\n",
      "|       Botond Storcz| 25|              5.0|\n",
      "|Ole Einar Bjørndalen| 36|              6.0|\n",
      "|       Roser Tarragó| 19|4.358898943540674|\n",
      "+--------------------+---+-----------------+\n",
      "only showing top 5 rows\n",
      "\n"
     ]
    }
   ],
   "source": [
    "df1.select('Name','age','Age_trans').show(5)"
   ]
  },
  {
   "cell_type": "markdown",
   "metadata": {
    "id": "yqg8SIIVop-r"
   },
   "source": [
    "we performed transformation, to make age column symmetric"
   ]
  },
  {
   "cell_type": "code",
   "execution_count": null,
   "metadata": {
    "colab": {
     "base_uri": "https://localhost:8080/"
    },
    "id": "O25CM-9S5oU2",
    "outputId": "9e7b4af1-28fa-46dc-c2e4-b8bf2f540344"
   },
   "outputs": [
    {
     "data": {
      "text/plain": [
       "['Name',\n",
       " 'age',\n",
       " 'country',\n",
       " 'year',\n",
       " 'sports',\n",
       " 'gold_medal',\n",
       " 'silver_medal',\n",
       " 'brone_medal',\n",
       " 'total_medal',\n",
       " 'Date',\n",
       " 'Age_trans']"
      ]
     },
     "execution_count": 224,
     "metadata": {},
     "output_type": "execute_result"
    }
   ],
   "source": [
    "df1.columns"
   ]
  },
  {
   "cell_type": "markdown",
   "metadata": {
    "id": "du-DJohzoxTi"
   },
   "source": [
    "Now, our data is completely cleaned."
   ]
  },
  {
   "cell_type": "code",
   "execution_count": null,
   "metadata": {
    "colab": {
     "base_uri": "https://localhost:8080/"
    },
    "id": "GYbtZ8mOqWMN",
    "outputId": "d067a2c7-0f91-488a-f5a1-67998f7f59cc"
   },
   "outputs": [
    {
     "name": "stdout",
     "output_type": "stream",
     "text": [
      "+--------------------+---+--------------------+----+--------------------+----------+------------+-----------+-----------+------------------+\n",
      "|                Name|age|             country|year|              sports|gold_medal|silver_medal|brone_medal|total_medal|         Age_trans|\n",
      "+--------------------+---+--------------------+----+--------------------+----------+------------+-----------+-----------+------------------+\n",
      "|           Wang Meng| 20|               China|2006|Short-Track Speed...|         1|           1|          1|          3|  4.47213595499958|\n",
      "|          Rita König| 23|             Germany|2000|             Fencing|         0|           1|          1|          2| 4.795831523312719|\n",
      "|       Botond Storcz| 25|             Hungary|2000|            Canoeing|         2|           0|          0|          2|               5.0|\n",
      "|Ole Einar Bjørndalen| 36|              Norway|2010|            Biathlon|         1|           1|          0|          2|               6.0|\n",
      "|       Roser Tarragó| 19|               Spain|2012|           Waterpolo|         0|           1|          0|          1| 4.358898943540674|\n",
      "|        Mieke Cabout| 22|         Netherlands|2008|           Waterpolo|         1|           0|          0|          1|  4.69041575982343|\n",
      "|          Vasa Mijic| 27|Serbia and Monten...|2000|          Volleyball|         1|           0|          0|          1| 5.196152422706632|\n",
      "|    Huang ChihHsiung| 23|      Chinese Taipei|2000|           Taekwondo|         0|           0|          1|          1| 4.795831523312719|\n",
      "|              Luo Xi| 24|               China|2012|Synchronized Swim...|         0|           1|          0|          1| 4.898979485566356|\n",
      "|     Yevgeny Lagunov| 22|              Russia|2008|            Swimming|         0|           1|          0|          1|  4.69041575982343|\n",
      "|        Ayumi Karino| 23|               Japan|2008|            Softball|         1|           0|          0|          1| 4.795831523312719|\n",
      "|       Crystl Bustos| 23|       United States|2000|            Softball|         1|           0|          0|          1| 4.795831523312719|\n",
      "|       Jessica Rossi| 20|               Italy|2012|            Shooting|         1|           0|          0|          1|  4.47213595499958|\n",
      "|     Nino Salukvadze| 39|             Georgia|2008|            Shooting|         0|           0|          1|          1| 6.244997998398398|\n",
      "|     Merel Witteveen| 23|         Netherlands|2008|             Sailing|         0|           1|          0|          1| 4.795831523312719|\n",
      "|      Simon Hiscocks| 27|       Great Britain|2000|             Sailing|         0|           1|          0|          1| 5.196152422706632|\n",
      "|Georgios Vazagkas...| 26|             Georgia|2000|                Judo|         0|           0|          1|          1|5.0990195135927845|\n",
      "|        Saija Sirviö| 27|             Finland|2010|          Ice Hockey|         0|           0|          1|          1| 5.196152422706632|\n",
      "|  Isabelle Chartrand| 23|              Canada|2002|          Ice Hockey|         1|           0|          0|          1| 4.795831523312719|\n",
      "|         Beth Storry| 34|       Great Britain|2012|              Hockey|         0|           0|          1|          1| 5.830951894845301|\n",
      "+--------------------+---+--------------------+----+--------------------+----------+------------+-----------+-----------+------------------+\n",
      "only showing top 20 rows\n",
      "\n"
     ]
    }
   ],
   "source": [
    "df_clean = df1.select('Name','age','country','year','sports','gold_medal','silver_medal','brone_medal','total_medal','Age_trans')\n",
    "df_clean.show()\n"
   ]
  },
  {
   "cell_type": "markdown",
   "metadata": {
    "id": "wnQ87ouho230"
   },
   "source": [
    "As we dont use date column in answering questions. i simply didnt take it to further analysis. i just take necassary columns and saving as olympics csv file format.this data is used to further analysis."
   ]
  },
  {
   "cell_type": "code",
   "execution_count": null,
   "metadata": {
    "id": "4wrdkIb_7l7J"
   },
   "outputs": [],
   "source": [
    "df_clean.repartition(1).write.csv(\"Olympix_Data.csv\", sep='|',header=True)"
   ]
  },
  {
   "cell_type": "markdown",
   "metadata": {
    "id": "wWcfi8pppNmm"
   },
   "source": [
    "To save our daat all in one file, we need to use repartition."
   ]
  },
  {
   "cell_type": "markdown",
   "metadata": {
    "id": "rO1U13dC94iS"
   },
   "source": [
    "# Data Analysis\n"
   ]
  },
  {
   "cell_type": "markdown",
   "metadata": {
    "id": "XmznMNhlL5el"
   },
   "source": [
    "# Write PySpark code to read the olympix_data.csv file"
   ]
  },
  {
   "cell_type": "code",
   "execution_count": 3,
   "metadata": {
    "colab": {
     "base_uri": "https://localhost:8080/"
    },
    "id": "Gc_MPpkb62HG",
    "outputId": "2db2ecf8-1428-4962-d364-9c18d15cd32e"
   },
   "outputs": [
    {
     "name": "stdout",
     "output_type": "stream",
     "text": [
      "+--------------------+---+--------------------+----+--------------------+----------+------------+-----------+-----------+------------------+\n",
      "|                Name|age|             country|year|              sports|gold_medal|silver_medal|brone_medal|total_medal|         Age_trans|\n",
      "+--------------------+---+--------------------+----+--------------------+----------+------------+-----------+-----------+------------------+\n",
      "|           Wang Meng| 20|               China|2006|Short-Track Speed...|         1|           1|          1|          3|  4.47213595499958|\n",
      "|          Rita König| 23|             Germany|2000|             Fencing|         0|           1|          1|          2| 4.795831523312719|\n",
      "|       Botond Storcz| 25|             Hungary|2000|            Canoeing|         2|           0|          0|          2|               5.0|\n",
      "|Ole Einar Bjørndalen| 36|              Norway|2010|            Biathlon|         1|           1|          0|          2|               6.0|\n",
      "|       Roser Tarragó| 19|               Spain|2012|           Waterpolo|         0|           1|          0|          1| 4.358898943540674|\n",
      "|        Mieke Cabout| 22|         Netherlands|2008|           Waterpolo|         1|           0|          0|          1|  4.69041575982343|\n",
      "|          Vasa Mijic| 27|Serbia and Monten...|2000|          Volleyball|         1|           0|          0|          1| 5.196152422706632|\n",
      "|    Huang ChihHsiung| 23|      Chinese Taipei|2000|           Taekwondo|         0|           0|          1|          1| 4.795831523312719|\n",
      "|              Luo Xi| 24|               China|2012|Synchronized Swim...|         0|           1|          0|          1| 4.898979485566356|\n",
      "|     Yevgeny Lagunov| 22|              Russia|2008|            Swimming|         0|           1|          0|          1|  4.69041575982343|\n",
      "|        Ayumi Karino| 23|               Japan|2008|            Softball|         1|           0|          0|          1| 4.795831523312719|\n",
      "|       Crystl Bustos| 23|       United States|2000|            Softball|         1|           0|          0|          1| 4.795831523312719|\n",
      "|       Jessica Rossi| 20|               Italy|2012|            Shooting|         1|           0|          0|          1|  4.47213595499958|\n",
      "|     Nino Salukvadze| 39|             Georgia|2008|            Shooting|         0|           0|          1|          1| 6.244997998398398|\n",
      "|     Merel Witteveen| 23|         Netherlands|2008|             Sailing|         0|           1|          0|          1| 4.795831523312719|\n",
      "|      Simon Hiscocks| 27|       Great Britain|2000|             Sailing|         0|           1|          0|          1| 5.196152422706632|\n",
      "|Georgios Vazagkas...| 26|             Georgia|2000|                Judo|         0|           0|          1|          1|5.0990195135927845|\n",
      "|        Saija Sirviö| 27|             Finland|2010|          Ice Hockey|         0|           0|          1|          1| 5.196152422706632|\n",
      "|  Isabelle Chartrand| 23|              Canada|2002|          Ice Hockey|         1|           0|          0|          1| 4.795831523312719|\n",
      "|         Beth Storry| 34|       Great Britain|2012|              Hockey|         0|           0|          1|          1| 5.830951894845301|\n",
      "+--------------------+---+--------------------+----+--------------------+----------+------------+-----------+-----------+------------------+\n",
      "only showing top 20 rows\n",
      "\n"
     ]
    }
   ],
   "source": [
    "dfo = spark.read.format('csv').option('header','true').option('inferschema','true').option('sep','|').load('/content/Olympix_Data.csv')\n",
    "dfo.show()"
   ]
  },
  {
   "cell_type": "markdown",
   "metadata": {
    "id": "1fe-fRY4pXe3"
   },
   "source": [
    "We created new spark dataframe with cleaned data csv file."
   ]
  },
  {
   "cell_type": "markdown",
   "metadata": {
    "id": "su8eBfs2L0NE"
   },
   "source": [
    "# Write PySpark code to print the Olympic Sports/games in the dataset."
   ]
  },
  {
   "cell_type": "code",
   "execution_count": 5,
   "metadata": {
    "colab": {
     "base_uri": "https://localhost:8080/"
    },
    "id": "2b78DDl_62EI",
    "outputId": "ef432a8a-d37e-41f9-a0bc-c940625a1655"
   },
   "outputs": [
    {
     "name": "stdout",
     "output_type": "stream",
     "text": [
      "+--------------------+\n",
      "|              sports|\n",
      "+--------------------+\n",
      "|          Gymnastics|\n",
      "|              Tennis|\n",
      "|              Boxing|\n",
      "|Short-Track Speed...|\n",
      "|          Ice Hockey|\n",
      "|              Rowing|\n",
      "|                Judo|\n",
      "|            Softball|\n",
      "|             Sailing|\n",
      "|            Swimming|\n",
      "|       Alpine Skiing|\n",
      "|          Basketball|\n",
      "|            Handball|\n",
      "| Rhythmic Gymnastics|\n",
      "|            Biathlon|\n",
      "|           Triathlon|\n",
      "|           Badminton|\n",
      "|           Athletics|\n",
      "|      Figure Skating|\n",
      "|    Beach Volleyball|\n",
      "+--------------------+\n",
      "only showing top 20 rows\n",
      "\n"
     ]
    }
   ],
   "source": [
    "dfo.select('sports').distinct().show()"
   ]
  },
  {
   "cell_type": "markdown",
   "metadata": {
    "id": "oyt8Q2KNpgcK"
   },
   "source": [
    "These are the sports in olympics"
   ]
  },
  {
   "cell_type": "markdown",
   "metadata": {
    "id": "W-bm5_y399rn"
   },
   "source": [
    "# Write PySpark code to plot the total number of medals in each Olympic Sport/game"
   ]
  },
  {
   "cell_type": "code",
   "execution_count": 7,
   "metadata": {
    "id": "d8TSDcOItOmG"
   },
   "outputs": [],
   "source": [
    "import matplotlib.pyplot as plt\n"
   ]
  },
  {
   "cell_type": "code",
   "execution_count": 8,
   "metadata": {
    "colab": {
     "base_uri": "https://localhost:8080/",
     "height": 541
    },
    "id": "teKwcexM_w9P",
    "outputId": "b586473b-6b09-484e-a242-0d9ff9a805b2"
   },
   "outputs": [
    {
     "name": "stdout",
     "output_type": "stream",
     "text": [
      "total number of medals in each sport\n",
      "+--------------------+----------------+\n",
      "|              sports|sum(total_medal)|\n",
      "+--------------------+----------------+\n",
      "|          Gymnastics|             282|\n",
      "|              Tennis|              78|\n",
      "|              Boxing|             188|\n",
      "|Short-Track Speed...|             138|\n",
      "|          Ice Hockey|             384|\n",
      "|              Rowing|             576|\n",
      "|                Judo|             224|\n",
      "|            Softball|             134|\n",
      "|             Sailing|             210|\n",
      "|            Swimming|             765|\n",
      "|       Alpine Skiing|              90|\n",
      "|          Basketball|             287|\n",
      "|            Handball|             351|\n",
      "| Rhythmic Gymnastics|              84|\n",
      "|            Biathlon|             138|\n",
      "|           Triathlon|              24|\n",
      "|           Badminton|              96|\n",
      "|           Athletics|             753|\n",
      "|      Figure Skating|              54|\n",
      "|    Beach Volleyball|              48|\n",
      "+--------------------+----------------+\n",
      "only showing top 20 rows\n",
      "\n"
     ]
    },
    {
     "data": {
      "image/png": "[encoded data removed]",
      "text/plain": [
       "<Figure size 7200x360 with 1 Axes>"
      ]
     },
     "metadata": {
      "needs_background": "light"
     },
     "output_type": "display_data"
    }
   ],
   "source": [
    "dfplot1 = dfo.groupBy('sports').sum('total_medal') # total medals in each sport\n",
    "print('total number of medals in each sport')\n",
    "dfplot1.show()\n",
    "x = dfplot1.toPandas()['sports'].values.tolist()  # converting to list to plt using pandas\n",
    "y = dfplot1.toPandas()['sum(total_medal)'].values.tolist()\n",
    "plt.figure(figsize=(100,5))  # size of figure\n",
    "plt.bar(x,y)   # category vs numerical, so bar is best\n",
    "plt.title('total count of medals per sports/Game')  # title\n",
    "plt.xlabel('sports/Games')\n",
    "plt.ylabel('total medals')\n",
    "plt.show()   # to display plot"
   ]
  },
  {
   "cell_type": "markdown",
   "metadata": {
    "id": "pFRJ_b6V-TQA"
   },
   "source": [
    "# Sort the result based on the total number of medals."
   ]
  },
  {
   "cell_type": "code",
   "execution_count": 11,
   "metadata": {
    "colab": {
     "base_uri": "https://localhost:8080/"
    },
    "id": "u6xvT3KI-JTg",
    "outputId": "e6050ef6-c125-413c-a070-b8bbb4b30799"
   },
   "outputs": [
    {
     "name": "stdout",
     "output_type": "stream",
     "text": [
      "+----------+----------------+\n",
      "|    sports|sum(total_medal)|\n",
      "+----------+----------------+\n",
      "|  Swimming|             765|\n",
      "| Athletics|             753|\n",
      "|    Rowing|             576|\n",
      "|  Football|             407|\n",
      "|    Hockey|             386|\n",
      "|Ice Hockey|             384|\n",
      "|  Handball|             351|\n",
      "|  Canoeing|             333|\n",
      "| Waterpolo|             306|\n",
      "|   Cycling|             306|\n",
      "|Basketball|             287|\n",
      "|Gymnastics|             282|\n",
      "|Volleyball|             278|\n",
      "|   Fencing|             256|\n",
      "| Wrestling|             245|\n",
      "|      Judo|             224|\n",
      "|  Baseball|             216|\n",
      "|   Sailing|             210|\n",
      "|  Shooting|             192|\n",
      "|    Boxing|             188|\n",
      "+----------+----------------+\n",
      "only showing top 20 rows\n",
      "\n"
     ]
    }
   ],
   "source": [
    "dfplot1.orderBy(col('sum(total_medal)').desc()).show()    # to sort numer of medals"
   ]
  },
  {
   "cell_type": "markdown",
   "metadata": {
    "id": "pPzDgyoc-24D"
   },
   "source": [
    "# Find the total number of medals won by each country in swimming."
   ]
  },
  {
   "cell_type": "code",
   "execution_count": 12,
   "metadata": {
    "colab": {
     "base_uri": "https://localhost:8080/"
    },
    "id": "3rCfok27Aji9",
    "outputId": "ff67c71f-6ef0-4ede-a05c-05f9eed10f24"
   },
   "outputs": [
    {
     "name": "stdout",
     "output_type": "stream",
     "text": [
      "swimming sport df\n",
      "+--------------------+---+-------------+----+--------+----------+------------+-----------+-----------+------------------+\n",
      "|                Name|age|      country|year|  sports|gold_medal|silver_medal|brone_medal|total_medal|         Age_trans|\n",
      "+--------------------+---+-------------+----+--------+----------+------------+-----------+-----------+------------------+\n",
      "|     Yevgeny Lagunov| 22|       Russia|2008|Swimming|         0|           1|          0|          1|  4.69041575982343|\n",
      "|           Ye Shiwen| 16|        China|2012|Swimming|         2|           0|          0|          2|               4.0|\n",
      "|            Ed Moses| 20|United States|2000|Swimming|         1|           1|          0|          2|  4.47213595499958|\n",
      "|             Tang Yi| 19|        China|2012|Swimming|         0|           0|          1|          1| 4.358898943540674|\n",
      "|      Davis Tarwater| 28|United States|2012|Swimming|         1|           0|          0|          1| 5.291502622129181|\n",
      "|        Tang Jingzhi| 21|        China|2008|Swimming|         0|           1|          0|          1|  4.58257569495584|\n",
      "|       Gabe Woodward| 25|United States|2004|Swimming|         0|           0|          1|          1|               5.0|\n",
      "|Franziska van Alm...| 26|      Germany|2004|Swimming|         0|           0|          2|          2|5.0990195135927845|\n",
      "| Ranomi Kromowidjojo| 21|  Netherlands|2012|Swimming|         2|           1|          0|          3|  4.58257569495584|\n",
      "|       Aaron Peirsol| 25|United States|2008|Swimming|         2|           1|          0|          3|               5.0|\n",
      "|       Katie Ledecky| 15|United States|2012|Swimming|         1|           0|          0|          1| 3.872983346207417|\n",
      "|        Ryo Tateishi| 23|        Japan|2012|Swimming|         0|           0|          1|          1| 4.795831523312719|\n",
      "|         Thomas Lurz| 28|      Germany|2008|Swimming|         0|           0|          1|          1| 5.291502622129181|\n",
      "|        Michael Klim| 23|    Australia|2000|Swimming|         2|           2|          0|          4| 4.795831523312719|\n",
      "|         Helge Meeuw| 19|      Germany|2004|Swimming|         0|           1|          0|          1| 4.358898943540674|\n",
      "|      Patrick Murphy| 24|    Australia|2008|Swimming|         0|           0|          2|          2| 4.898979485566356|\n",
      "|           Li Xuanxu| 18|        China|2012|Swimming|         0|           0|          1|          1| 4.242640687119285|\n",
      "|    Peter Vanderkaay| 28|United States|2012|Swimming|         0|           0|          1|          1| 5.291502622129181|\n",
      "|       B. J. Bedford| 27|United States|2000|Swimming|         1|           0|          0|          1| 5.196152422706632|\n",
      "|       Sara Harstick| 19|      Germany|2000|Swimming|         0|           0|          1|          1| 4.358898943540674|\n",
      "+--------------------+---+-------------+----+--------+----------+------------+-----------+-----------+------------------+\n",
      "only showing top 20 rows\n",
      "\n",
      "Total number of medals by each country in swimming\n",
      "+-------------+----------------+\n",
      "|      country|sum(total_medal)|\n",
      "+-------------+----------------+\n",
      "|       Russia|              20|\n",
      "|       Sweden|               9|\n",
      "|      Germany|              32|\n",
      "|       France|              39|\n",
      "|     Slovakia|               2|\n",
      "|    Argentina|               1|\n",
      "|Great Britain|              11|\n",
      "|        China|              35|\n",
      "|United States|             267|\n",
      "|      Belarus|               2|\n",
      "|      Croatia|               1|\n",
      "|        Italy|              16|\n",
      "|    Lithuania|               1|\n",
      "|       Norway|               2|\n",
      "|        Spain|               3|\n",
      "|      Denmark|               1|\n",
      "|      Ukraine|               7|\n",
      "|  South Korea|               4|\n",
      "|     Zimbabwe|               7|\n",
      "|      Tunisia|               3|\n",
      "+-------------+----------------+\n",
      "only showing top 20 rows\n",
      "\n"
     ]
    }
   ],
   "source": [
    "df_swim = dfo.filter(dfo.sports=='Swimming')  # filter df for swimming sport only\n",
    "print('swimming sport df')\n",
    "df_swim.show()   #display swimming sport df\n",
    "print('Total number of medals by each country in swimming')\n",
    "df_swim.groupBy('country').sum('total_medal').show()   # how many medals for each country in swimming sport"
   ]
  },
  {
   "cell_type": "code",
   "execution_count": 13,
   "metadata": {
    "colab": {
     "base_uri": "https://localhost:8080/",
     "height": 127
    },
    "id": "IFwAmmu2Br77",
    "outputId": "1fa0ac53-3b4f-4f65-d0f6-ff2858f38bf8"
   },
   "outputs": [
    {
     "data": {
      "image/png": "[encoded data removed]",
      "text/plain": [
       "<Figure size 3600x360 with 1 Axes>"
      ]
     },
     "metadata": {
      "needs_background": "light"
     },
     "output_type": "display_data"
    }
   ],
   "source": [
    "dfplot1 = df_swim.groupBy('country').sum('total_medal')   # plot swimming sport country vs medals\n",
    "x = dfplot1.toPandas()['country'].values.tolist()  # conevrt to list using panads\n",
    "y = dfplot1.toPandas()['sum(total_medal)'].values.tolist()\n",
    "plt.figure(figsize=(50,5))  # figure size\n",
    "plt.bar(x,y)  # category vs numerical, so bar is bes to use\n",
    "plt.title('total count of medals per country in  swimming')\n",
    "plt.xlabel('country')\n",
    "plt.ylabel('total medals')\n",
    "plt.show()"
   ]
  },
  {
   "cell_type": "markdown",
   "metadata": {
    "id": "6xaSRfuHE-tG"
   },
   "source": [
    "# Find the total number of medals won by each country in Skeleton."
   ]
  },
  {
   "cell_type": "code",
   "execution_count": 14,
   "metadata": {
    "colab": {
     "base_uri": "https://localhost:8080/",
     "height": 529
    },
    "id": "aZhfSSpZEXA9",
    "outputId": "78121700-4d5d-412d-eee7-8008a4059a69"
   },
   "outputs": [
    {
     "name": "stdout",
     "output_type": "stream",
     "text": [
      "Total number of medals won by each country in skelton\n",
      "+-------------+----------------+\n",
      "|      country|sum(total_medal)|\n",
      "+-------------+----------------+\n",
      "|       Russia|               1|\n",
      "|      Germany|               2|\n",
      "|Great Britain|               3|\n",
      "|United States|               3|\n",
      "|  Switzerland|               3|\n",
      "|       Latvia|               1|\n",
      "|       Canada|               4|\n",
      "|      Austria|               1|\n",
      "+-------------+----------------+\n",
      "\n"
     ]
    },
    {
     "data": {
      "image/png": "[encoded data removed]",
      "text/plain": [
       "<Figure size 1440x360 with 1 Axes>"
      ]
     },
     "metadata": {
      "needs_background": "light"
     },
     "output_type": "display_data"
    }
   ],
   "source": [
    "df_skel = dfo.filter(dfo.sports=='Skeleton')  # filter df for skelton game\n",
    "dfplot1 = df_skel.groupBy('country').sum('total_medal')  # number of medals per country\n",
    "print('Total number of medals won by each country in skelton')\n",
    "dfplot1.show()\n",
    "x = dfplot1.toPandas()['country'].values.tolist()  # converting to list using pandas\n",
    "y = dfplot1.toPandas()['sum(total_medal)'].values.tolist()\n",
    "plt.figure(figsize=(20,5))\n",
    "plt.bar(x,y)\n",
    "plt.title('total count of medals per country in  swimming')\n",
    "plt.xlabel('country')\n",
    "plt.ylabel('total medals')\n",
    "plt.show()"
   ]
  },
  {
   "cell_type": "markdown",
   "metadata": {
    "id": "JSjZNt9pFl6I"
   },
   "source": [
    "# Find the number of medals that the US won yearly."
   ]
  },
  {
   "cell_type": "code",
   "execution_count": 16,
   "metadata": {
    "colab": {
     "base_uri": "https://localhost:8080/",
     "height": 982
    },
    "id": "xs3X1sGZFUdi",
    "outputId": "5f973857-7e25-46bf-afdd-aa2ea3a340ad"
   },
   "outputs": [
    {
     "name": "stdout",
     "output_type": "stream",
     "text": [
      "+--------------------+---+-------------+----+---------------+----------+------------+-----------+-----------+------------------+\n",
      "|                Name|age|      country|year|         sports|gold_medal|silver_medal|brone_medal|total_medal|         Age_trans|\n",
      "+--------------------+---+-------------+----+---------------+----------+------------+-----------+-----------+------------------+\n",
      "|       Crystl Bustos| 23|United States|2000|       Softball|         1|           0|          0|          1| 4.795831523312719|\n",
      "|            Ed Moses| 20|United States|2000|       Swimming|         1|           1|          0|          2|  4.47213595499958|\n",
      "|      Davis Tarwater| 28|United States|2012|       Swimming|         1|           0|          0|          1| 5.291502622129181|\n",
      "|       Gabe Woodward| 25|United States|2004|       Swimming|         0|           0|          1|          1|               5.0|\n",
      "|      Jonathan McKee| 40|United States|2000|        Sailing|         0|           0|          1|          1| 6.324555320336759|\n",
      "|      Molly Engstrom| 22|United States|2006|     Ice Hockey|         0|           0|          1|          1|  4.69041575982343|\n",
      "|     Angela Ruggiero| 26|United States|2006|     Ice Hockey|         0|           0|          1|          1|5.0990195135927845|\n",
      "|        Danell Leyva| 20|United States|2012|     Gymnastics|         0|           0|          1|          1|  4.47213595499958|\n",
      "| DeLisha MiltonJones| 33|United States|2008|     Basketball|         1|           0|          0|          1| 5.744562646538029|\n",
      "|       Angelo Taylor| 33|United States|2012|      Athletics|         0|           1|          0|          1| 5.744562646538029|\n",
      "|          Mike Bryan| 34|United States|2012|         Tennis|         1|           0|          1|          2| 5.830951894845301|\n",
      "|     Rebecca Giddens| 26|United States|2004|       Canoeing|         0|           1|          0|          1|5.0990195135927845|\n",
      "|     Lauryn Williams| 28|United States|2012|      Athletics|         1|           0|          0|          1| 5.291502622129181|\n",
      "|       Aaron Peirsol| 25|United States|2008|       Swimming|         2|           1|          0|          3|               5.0|\n",
      "|     Johnny Spillane| 29|United States|2010|Nordic Combined|         0|           3|          0|          3| 5.385164807134504|\n",
      "|       Katie Ledecky| 15|United States|2012|       Swimming|         1|           0|          0|          1| 3.872983346207417|\n",
      "|        Andrea Duran| 24|United States|2008|       Softball|         0|           1|          0|          1| 4.898979485566356|\n",
      "|Jenny SchmidgallP...| 31|United States|2010|     Ice Hockey|         0|           1|          0|          1|5.5677643628300215|\n",
      "|      Krissy Wendell| 20|United States|2002|     Ice Hockey|         0|           1|          0|          1|  4.47213595499958|\n",
      "|         Cat Reddick| 22|United States|2004|       Football|         1|           0|          0|          1|  4.69041575982343|\n",
      "+--------------------+---+-------------+----+---------------+----------+------------+-----------+-----------+------------------+\n",
      "only showing top 20 rows\n",
      "\n",
      "number of medals that US won yearly\n",
      "+----+----------------+\n",
      "|year|sum(total_medal)|\n",
      "+----+----------------+\n",
      "|2006|              52|\n",
      "|2004|             265|\n",
      "|2012|             254|\n",
      "|2000|             243|\n",
      "|2010|              97|\n",
      "|2008|             317|\n",
      "|2002|              84|\n",
      "+----+----------------+\n",
      "\n"
     ]
    },
    {
     "data": {
      "image/png": "[encoded data removed]",
      "text/plain": [
       "<Figure size 1440x360 with 1 Axes>"
      ]
     },
     "metadata": {
      "needs_background": "light"
     },
     "output_type": "display_data"
    }
   ],
   "source": [
    "df_us = dfo.filter(dfo.country=='United States')  # fitering for united states only\n",
    "df_us.show()\n",
    "dfplot1 = df_us.groupBy('year').sum('total_medal')  # group by year\n",
    "print('number of medals that US won yearly')\n",
    "dfplot1.show()\n",
    "x = dfplot1.toPandas()['year'].values.tolist()  # converting to list\n",
    "y = dfplot1.toPandas()['sum(total_medal)'].values.tolist()\n",
    "plt.figure(figsize=(20,5))\n",
    "plt.bar(x,y)\n",
    "plt.title('total count of medals per year by united states')\n",
    "plt.xlabel('year')\n",
    "plt.ylabel('total medals')\n",
    "plt.show()"
   ]
  },
  {
   "cell_type": "markdown",
   "metadata": {
    "id": "oREP-S8UGJkX"
   },
   "source": [
    "# Find the total number of medals won by each country."
   ]
  },
  {
   "cell_type": "code",
   "execution_count": 17,
   "metadata": {
    "colab": {
     "base_uri": "https://localhost:8080/",
     "height": 541
    },
    "id": "5fqNUM_zF6W0",
    "outputId": "0007118c-c6df-4e3e-f43e-cd6b740d6f85"
   },
   "outputs": [
    {
     "name": "stdout",
     "output_type": "stream",
     "text": [
      "total number of medals won by each country\n",
      "+--------------+----------------+\n",
      "|       country|sum(total_medal)|\n",
      "+--------------+----------------+\n",
      "|        Russia|             768|\n",
      "|      Paraguay|              17|\n",
      "|Chinese Taipei|              20|\n",
      "|        Sweden|             181|\n",
      "|       Eritrea|               1|\n",
      "|      Malaysia|               3|\n",
      "|     Singapore|               7|\n",
      "|        Turkey|              28|\n",
      "|       Germany|             629|\n",
      "|   Afghanistan|               2|\n",
      "|         Sudan|               1|\n",
      "|        France|             318|\n",
      "|        Greece|              59|\n",
      "|     Sri Lanka|               1|\n",
      "|          Togo|               1|\n",
      "|       Algeria|               8|\n",
      "|      Slovakia|              35|\n",
      "|     Argentina|             139|\n",
      "|       Belgium|              18|\n",
      "| Great Britain|             322|\n",
      "+--------------+----------------+\n",
      "only showing top 20 rows\n",
      "\n"
     ]
    },
    {
     "data": {
      "image/png": "[encoded data removed]",
      "text/plain": [
       "<Figure size 7200x360 with 1 Axes>"
      ]
     },
     "metadata": {
      "needs_background": "light"
     },
     "output_type": "display_data"
    }
   ],
   "source": [
    "dfplot1 = dfo.groupBy('country').sum('total_medal')  # total medals per country\n",
    "print('total number of medals won by each country')\n",
    "dfplot1.show()\n",
    "x = dfplot1.toPandas()['country'].values.tolist()   # converting to list\n",
    "y = dfplot1.toPandas()['sum(total_medal)'].values.tolist()\n",
    "plt.figure(figsize=(100,5))\n",
    "plt.bar(x,y)\n",
    "plt.title('total count of medals per country')\n",
    "plt.xlabel('country')\n",
    "plt.ylabel('total medals')\n",
    "plt.show()"
   ]
  },
  {
   "cell_type": "markdown",
   "metadata": {
    "id": "Gy2A8QqFGiGy"
   },
   "source": [
    "# Who was the oldest athlete in the olympics? Which country was he/she from?"
   ]
  },
  {
   "cell_type": "code",
   "execution_count": 24,
   "metadata": {
    "id": "ESAGSnFWvkev"
   },
   "outputs": [],
   "source": [
    "from pyspark.sql.functions import desc"
   ]
  },
  {
   "cell_type": "code",
   "execution_count": 28,
   "metadata": {
    "colab": {
     "base_uri": "https://localhost:8080/"
    },
    "id": "Oxz1v_M9uXYY",
    "outputId": "d1ec2ff1-4806-40e8-d9ca-bf6ebe8d9a1f"
   },
   "outputs": [
    {
     "name": "stdout",
     "output_type": "stream",
     "text": [
      "+-------------+---+-------------+----+----------+----------+------------+-----------+-----------+------------------+\n",
      "|         Name|age|      country|year|    sports|gold_medal|silver_medal|brone_medal|total_medal|         Age_trans|\n",
      "+-------------+---+-------------+----+----------+----------+------------+-----------+-----------+------------------+\n",
      "|   Ian Millar| 61|       Canada|2008|Equestrian|         0|           1|          0|          1| 7.810249675906654|\n",
      "|    Mark Todd| 56|  New Zealand|2012|Equestrian|         0|           0|          1|          1| 7.483314773547883|\n",
      "|     Mac Cone| 55|       Canada|2008|Equestrian|         0|           1|          0|          1| 7.416198487095663|\n",
      "| Nick Skelton| 54|Great Britain|2012|Equestrian|         1|           0|          0|          1|7.3484692283495345|\n",
      "|Peter Charles| 52|Great Britain|2012|Equestrian|         1|           0|          0|          1| 7.211102550927978|\n",
      "+-------------+---+-------------+----+----------+----------+------------+-----------+-----------+------------------+\n",
      "only showing top 5 rows\n",
      "\n"
     ]
    }
   ],
   "source": [
    "dfo.orderBy(col('age').desc()).show(5)"
   ]
  },
  {
   "cell_type": "markdown",
   "metadata": {
    "id": "NmFQ_uDUIjAC"
   },
   "source": [
    "Ian Miller is the oldest athelete with age of 61 from country Canada in sports Equestrain win silver medal in year 2008."
   ]
  },
  {
   "cell_type": "markdown",
   "metadata": {
    "id": "C_jYiMPOIuTv"
   },
   "source": [
    "# Conclusion:\n",
    "We have done this project in 2 parts. \n",
    "**part1: Spark dataframe cleaning**\n",
    "**part2: spark dataframe analysis by answering questions.**\n",
    "**Part1**: First we install pyspark and created spark session in name of capstone after intialized spark context. we read given csv file into spark dataframe. we did basic exploration of data. we read columns, printschema, null values, duplicates. we cleaned data and store in Olympix_Data.csv.\n",
    "**Part2**: Again this file we read into spark dataframe. we analyze data & got insights from finding number of medals won by each country. number of medals won by us yearly. number of medals in skelton, swimming from all countries.number of medals in each sport. sports palyed in olympics.We plot for total number of medals for each sport & for each country. we find for swimming & skelton sport. we find for united states. Ian miller is the oldest athelete won silver medal from canada.\n",
    "\n",
    "\n",
    "**Author** : Harsha Veena\n",
    "\n",
    "**Created on** : 9:7:2022\n",
    "\n",
    "**Language** : pyspark\n",
    "\n",
    "**IDE** : Google colab\n",
    "\n",
    "**Libraries** : pyspark,matplotlib, seaborn,pandas, pyspark.sql.functions, pyspark.sql.types,\n",
    "\n",
    "**Functions** : show(), columns,drop,groupby(), desc, col, agg, skewness, stat, stat.corr,stat.cov,toPandas(), filter, select, write.csv(), sum,regexp_replace, withColumn, to_date,  values.tolist(), stat.freqItems, stat.crosstab , approxQuantile\n",
    "\n",
    "**Purpose** : Capstone project\n",
    "\n",
    "**Data Collected** : OdinSchool "
   ]
  }
 ],
 "metadata": {
  "colab": {
   "collapsed_sections": [],
   "name": "pyspark_capstone.ipynb",
   "provenance": []
  },
  "kernelspec": {
   "display_name": "Python 3 (ipykernel)",
   "language": "python",
   "name": "python3"
  },
  "language_info": {
   "codemirror_mode": {
    "name": "ipython",
    "version": 3
   },
   "file_extension": ".py",
   "mimetype": "text/x-python",
   "name": "python",
   "nbconvert_exporter": "python",
   "pygments_lexer": "ipython3",
   "version": "3.9.7"
  }
 },
 "nbformat": 4,
 "nbformat_minor": 1
}
